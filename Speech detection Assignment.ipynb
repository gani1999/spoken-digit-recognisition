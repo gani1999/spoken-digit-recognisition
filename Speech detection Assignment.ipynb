{
 "cells": [
  {
   "cell_type": "markdown",
   "metadata": {
    "id": "ZwoTWIysaNmc"
   },
   "source": [
    "# <font color='red'> Spoken Digit Recognition</font>"
   ]
  },
  {
   "cell_type": "markdown",
   "metadata": {
    "id": "rPO3mjDDaNmf"
   },
   "source": [
    "\n",
    "In this notebook, You will do Spoken Digit Recognition. \n",
    "\n",
    "Input - speech signal, output - digit number\n",
    "\n",
    "\n",
    "\n",
    "It contains  \n",
    "\n",
    "1. Reading the dataset. and Preprocess the data set. Detailed instrctions are given below. You have to write the code in the same cell which contains the instrction. \n",
    "2. Training the LSTM with RAW data\n",
    "3. Converting to spectrogram and Training the LSTM network\n",
    "4. Creating the augmented data and doing step 2 and 3 again.  \n",
    "\n",
    "<font size=5>Instructions:</font>\n",
    "\n",
    "    1. Don't change any Grader Functions. Don't manipulate any Grader functions. If you manipulate any, it will be considered as plagiarised. \n",
    "    \n",
    "    2. Please read the instructions on the code cells and markdown cells. We will explain what to write. \n",
    "    \n",
    "    3. Please return outputs in the same format what we asked. Eg. Don't return List of we are asking for a numpy array.\n",
    "    \n",
    "    4. Please read the external links that we are given so that you will learn the concept behind the code that you are writing.\n",
    "    \n",
    "    5. We are giving instructions at each section if necessary, please follow them. \n",
    "\n",
    "<font size=5>Every Grader function has to return True. </font>\n",
    "\n"
   ]
  },
  {
   "cell_type": "code",
   "execution_count": 1,
   "metadata": {
    "id": "_qGuPcj-aNmh"
   },
   "outputs": [],
   "source": [
    "import numpy as np\n",
    "import pandas as pd\n",
    "import librosa\n",
    "import os\n",
    "##if you need any imports you can do that here. "
   ]
  },
  {
   "cell_type": "markdown",
   "metadata": {
    "id": "PdhFzGK1aNmo"
   },
   "source": [
    "We shared recordings.zip, please unzip those. "
   ]
  },
  {
   "cell_type": "code",
   "execution_count": 2,
   "metadata": {
    "id": "HDBcl_PUaNmp"
   },
   "outputs": [],
   "source": [
    "#read the all file names in the recordings folder given by us\n",
    "#(if you get entire path, it is very useful in future)\n",
    "#save those files names as list in \"all_files\"\n",
    "import os\n",
    "\n",
    "files= os.listdir('recordings')\n",
    "all_files=[]\n",
    "for file in files:\n",
    "    all_files.append(os.path.abspath(os.path.join('recordings',file)))\n"
   ]
  },
  {
   "cell_type": "code",
   "execution_count": 3,
   "metadata": {},
   "outputs": [
    {
     "data": {
      "text/plain": [
       "'C:\\\\Users\\\\HP\\\\Downloads\\\\spoken_digit\\\\spoken_digit\\\\recordings\\\\0_jackson_0.wav'"
      ]
     },
     "execution_count": 3,
     "metadata": {},
     "output_type": "execute_result"
    }
   ],
   "source": [
    "all_files[0]"
   ]
  },
  {
   "cell_type": "markdown",
   "metadata": {
    "id": "8NYYpfqoaNmv"
   },
   "source": [
    "<font size=4>Grader function 1 </font>"
   ]
  },
  {
   "cell_type": "code",
   "execution_count": 4,
   "metadata": {
    "id": "2oJSOmYBaNmx",
    "outputId": "d4509e7d-1cb6-4e7f-e469-ef40314a8510"
   },
   "outputs": [
    {
     "data": {
      "text/plain": [
       "True"
      ]
     },
     "execution_count": 4,
     "metadata": {},
     "output_type": "execute_result"
    }
   ],
   "source": [
    "def grader_files():\n",
    "    temp = len(all_files)==2000\n",
    "    temp1 = all([x[-3:]==\"wav\" for x in all_files])\n",
    "    temp = temp and temp1\n",
    "    return temp\n",
    "grader_files()"
   ]
  },
  {
   "cell_type": "markdown",
   "metadata": {
    "id": "MhvSIN6raNm3"
   },
   "source": [
    "Create a dataframe(name=df_audio) with two columns(path, label).   \n",
    "You can get the label from the first letter of name.  \n",
    "Eg: 0_jackson_0 --> 0  \n",
    "0_jackson_43 --> 0"
   ]
  },
  {
   "cell_type": "markdown",
   "metadata": {
    "id": "LZbhCvvRPPMw"
   },
   "source": [
    "## Exploring the sound dataset"
   ]
  },
  {
   "cell_type": "code",
   "execution_count": null,
   "metadata": {
    "id": "ilJsqdhhPMed"
   },
   "outputs": [],
   "source": [
    "#It is a good programming practise to explore the dataset that you are dealing with. This dataset is unique in itself because it has sounds as input\n",
    "#https://colab.research.google.com/github/Tyler-Hilbert/AudioProcessingInPythonWorkshop/blob/master/AudioProcessingInPython.ipynb\n",
    "#visualize the data and write code to play 2-3 sound samples in the notebook for better understanding.\n",
    "#please go through the following reference video https://www.youtube.com/watch?v=37zCgCdV468"
   ]
  },
  {
   "cell_type": "code",
   "execution_count": 13,
   "metadata": {},
   "outputs": [
    {
     "name": "stderr",
     "output_type": "stream",
     "text": [
      "ERROR: Could not find a version that satisfies the requirement thinkdsp (from versions: none)\n",
      "ERROR: No matching distribution found for thinkdsp\n"
     ]
    }
   ],
   "source": [
    "!pip install thinkdsp"
   ]
  },
  {
   "cell_type": "code",
   "execution_count": null,
   "metadata": {},
   "outputs": [],
   "source": [
    "# Read in audio file\n",
    "# FIXME - will this work for non wav files\n",
    "wave = thinkdsp.read_wave('AudioProcessingInPythonWorkshop/test.wav')\n",
    "\n",
    "# Grab first 10 seconds of audio (you can ignore me)\n",
    "clipLength = 10 # in seconds\n",
    "index = 0\n",
    "while (index < wave.ts.size and wave.ts[index] < clipLength):\n",
    "\tindex += 1\n",
    "# Remove extras\n",
    "wave.ts = wave.ts[:index]\n",
    "wave.ys = wave.ys[:index]\n",
    "\n",
    "# Plot spectrum of audio file\n",
    "spectrum = wave.make_spectrum()\n",
    "spectrum.plot()\n",
    "pyplot.show()\n",
    "\n",
    "# Play audio file\n",
    "wave.play()\n",
    "IPython.display.Audio('sound.wav')"
   ]
  },
  {
   "cell_type": "markdown",
   "metadata": {
    "id": "AA0nAtjbQLmu"
   },
   "source": [
    "## Creating dataframe"
   ]
  },
  {
   "cell_type": "code",
   "execution_count": null,
   "metadata": {
    "id": "fWP6vXBeaNm3"
   },
   "outputs": [],
   "source": [
    "#Create a dataframe(name=df_audio) with two columns(path, label).   \n",
    "#You can get the label from the first letter of name.  \n",
    "#Eg: 0_jackson_0 --> 0  \n",
    "#0_jackson_43 --> 0\n"
   ]
  },
  {
   "cell_type": "code",
   "execution_count": 5,
   "metadata": {
    "id": "bX_umjikPy5Y"
   },
   "outputs": [],
   "source": [
    "label=[]\n",
    "for path in files:\n",
    "    label.append(path[0])"
   ]
  },
  {
   "cell_type": "code",
   "execution_count": 6,
   "metadata": {
    "id": "7Wx5tOjSPX2Y"
   },
   "outputs": [],
   "source": [
    "df_audio= pd.DataFrame(columns=['path','label'])\n",
    "df_audio['path']= all_files\n",
    "df_audio['label']= label"
   ]
  },
  {
   "cell_type": "code",
   "execution_count": 7,
   "metadata": {},
   "outputs": [
    {
     "data": {
      "text/html": [
       "<div>\n",
       "<style scoped>\n",
       "    .dataframe tbody tr th:only-of-type {\n",
       "        vertical-align: middle;\n",
       "    }\n",
       "\n",
       "    .dataframe tbody tr th {\n",
       "        vertical-align: top;\n",
       "    }\n",
       "\n",
       "    .dataframe thead th {\n",
       "        text-align: right;\n",
       "    }\n",
       "</style>\n",
       "<table border=\"1\" class=\"dataframe\">\n",
       "  <thead>\n",
       "    <tr style=\"text-align: right;\">\n",
       "      <th></th>\n",
       "      <th>path</th>\n",
       "      <th>label</th>\n",
       "    </tr>\n",
       "  </thead>\n",
       "  <tbody>\n",
       "    <tr>\n",
       "      <th>0</th>\n",
       "      <td>C:\\Users\\HP\\Downloads\\spoken_digit\\spoken_digi...</td>\n",
       "      <td>0</td>\n",
       "    </tr>\n",
       "    <tr>\n",
       "      <th>1</th>\n",
       "      <td>C:\\Users\\HP\\Downloads\\spoken_digit\\spoken_digi...</td>\n",
       "      <td>0</td>\n",
       "    </tr>\n",
       "    <tr>\n",
       "      <th>2</th>\n",
       "      <td>C:\\Users\\HP\\Downloads\\spoken_digit\\spoken_digi...</td>\n",
       "      <td>0</td>\n",
       "    </tr>\n",
       "    <tr>\n",
       "      <th>3</th>\n",
       "      <td>C:\\Users\\HP\\Downloads\\spoken_digit\\spoken_digi...</td>\n",
       "      <td>0</td>\n",
       "    </tr>\n",
       "    <tr>\n",
       "      <th>4</th>\n",
       "      <td>C:\\Users\\HP\\Downloads\\spoken_digit\\spoken_digi...</td>\n",
       "      <td>0</td>\n",
       "    </tr>\n",
       "  </tbody>\n",
       "</table>\n",
       "</div>"
      ],
      "text/plain": [
       "                                                path label\n",
       "0  C:\\Users\\HP\\Downloads\\spoken_digit\\spoken_digi...     0\n",
       "1  C:\\Users\\HP\\Downloads\\spoken_digit\\spoken_digi...     0\n",
       "2  C:\\Users\\HP\\Downloads\\spoken_digit\\spoken_digi...     0\n",
       "3  C:\\Users\\HP\\Downloads\\spoken_digit\\spoken_digi...     0\n",
       "4  C:\\Users\\HP\\Downloads\\spoken_digit\\spoken_digi...     0"
      ]
     },
     "execution_count": 7,
     "metadata": {},
     "output_type": "execute_result"
    }
   ],
   "source": [
    "df_audio.head()"
   ]
  },
  {
   "cell_type": "code",
   "execution_count": 8,
   "metadata": {},
   "outputs": [
    {
     "name": "stdout",
     "output_type": "stream",
     "text": [
      "<class 'pandas.core.frame.DataFrame'>\n",
      "RangeIndex: 2000 entries, 0 to 1999\n",
      "Data columns (total 2 columns):\n",
      " #   Column  Non-Null Count  Dtype \n",
      "---  ------  --------------  ----- \n",
      " 0   path    2000 non-null   object\n",
      " 1   label   2000 non-null   object\n",
      "dtypes: object(2)\n",
      "memory usage: 31.4+ KB\n"
     ]
    }
   ],
   "source": [
    "df_audio.info()"
   ]
  },
  {
   "cell_type": "markdown",
   "metadata": {
    "id": "VOKpYJ_LaNnD"
   },
   "source": [
    "<font size=4>Grader function 2 </font>"
   ]
  },
  {
   "cell_type": "code",
   "execution_count": 9,
   "metadata": {
    "id": "7Q8r_T8-aNnE",
    "outputId": "849e3f3e-e77c-492c-ba29-77508e74fc57"
   },
   "outputs": [
    {
     "data": {
      "text/plain": [
       "True"
      ]
     },
     "execution_count": 9,
     "metadata": {},
     "output_type": "execute_result"
    }
   ],
   "source": [
    "def grader_df():\n",
    "    flag_shape = df_audio.shape==(2000,2)\n",
    "    flag_columns = all(df_audio.columns==['path', 'label'])\n",
    "    list_values = list(df_audio.label.value_counts())\n",
    "    flag_label = len(list_values)==10\n",
    "    flag_label2 = all([i==200 for i in list_values])\n",
    "    final_flag = flag_shape and flag_columns and flag_label and flag_label2\n",
    "    return final_flag\n",
    "grader_df()"
   ]
  },
  {
   "cell_type": "code",
   "execution_count": 10,
   "metadata": {
    "id": "PlfssCc3aNnL"
   },
   "outputs": [],
   "source": [
    "from sklearn.utils import shuffle\n",
    "df_audio = shuffle(df_audio, random_state=33)#don't change the random state"
   ]
  },
  {
   "cell_type": "markdown",
   "metadata": {
    "id": "PZ448aENaNnR"
   },
   "source": [
    "<pre><font size=4>Train and Validation split</font></pre>"
   ]
  },
  {
   "cell_type": "code",
   "execution_count": 11,
   "metadata": {
    "id": "vSPy-Ln6aNnS"
   },
   "outputs": [],
   "source": [
    "#split the data into train and validation and save in X_train, X_test, y_train, y_test\n",
    "#use stratify sampling\n",
    "#use random state of 45\n",
    "#use test size of 30%\n",
    "\n",
    "from sklearn.model_selection import train_test_split\n",
    "X_train, X_test, y_train, y_test = train_test_split(df_audio['path'],df_audio['label'], test_size=0.3,stratify=df_audio['label'], random_state=42)\n"
   ]
  },
  {
   "cell_type": "code",
   "execution_count": 12,
   "metadata": {},
   "outputs": [
    {
     "data": {
      "text/plain": [
       "(1400,)"
      ]
     },
     "execution_count": 12,
     "metadata": {},
     "output_type": "execute_result"
    }
   ],
   "source": [
    "X_train.shape"
   ]
  },
  {
   "cell_type": "markdown",
   "metadata": {
    "id": "YPK3sbzUaNnW"
   },
   "source": [
    "<font size=4>Grader function 3 </font>"
   ]
  },
  {
   "cell_type": "code",
   "execution_count": 13,
   "metadata": {
    "id": "chZzntKUaNnX",
    "outputId": "e2949c8b-2f00-434f-8403-56b577faf04f"
   },
   "outputs": [
    {
     "data": {
      "text/plain": [
       "True"
      ]
     },
     "execution_count": 13,
     "metadata": {},
     "output_type": "execute_result"
    }
   ],
   "source": [
    "def grader_split():\n",
    "    flag_len = (len(X_train)==1400) and (len(X_test)==600) and (len(y_train)==1400) and (len(y_test)==600)\n",
    "    values_ytrain = list(y_train.value_counts())\n",
    "    flag_ytrain = (len(values_ytrain)==10) and (all([i==140 for i in values_ytrain]))\n",
    "    values_ytest = list(y_test.value_counts())\n",
    "    flag_ytest = (len(values_ytest)==10) and (all([i==60 for i in values_ytest]))\n",
    "    final_flag = flag_len and flag_ytrain and flag_ytest\n",
    "    return final_flag\n",
    "grader_split()"
   ]
  },
  {
   "cell_type": "markdown",
   "metadata": {
    "id": "LGhh-39vaNnb"
   },
   "source": [
    "<pre><font size=4>Preprocessing</font>\n",
    "\n",
    "All files are in the \"WAV\" format. We will read those raw data files using the librosa</pre>"
   ]
  },
  {
   "cell_type": "code",
   "execution_count": 14,
   "metadata": {
    "id": "i99JacQSaNnc"
   },
   "outputs": [],
   "source": [
    "sample_rate = 22050\n",
    "def load_wav(x, get_duration=True):\n",
    "    '''This return the array values of audio with sampling rate of 22050 and Duration'''\n",
    "    #loading the wav file with sampling rate of 22050\n",
    "    samples, sample_rate = librosa.load(x, sr=22050)\n",
    "    if get_duration:\n",
    "        duration = librosa.get_duration(y=samples, sr=sample_rate)\n",
    "        return [samples, duration]\n",
    "    else:\n",
    "        return samples"
   ]
  },
  {
   "cell_type": "code",
   "execution_count": 15,
   "metadata": {
    "id": "Rx97f8GGaNnh"
   },
   "outputs": [
    {
     "data": {
      "text/html": [
       "<div>\n",
       "<style scoped>\n",
       "    .dataframe tbody tr th:only-of-type {\n",
       "        vertical-align: middle;\n",
       "    }\n",
       "\n",
       "    .dataframe tbody tr th {\n",
       "        vertical-align: top;\n",
       "    }\n",
       "\n",
       "    .dataframe thead th {\n",
       "        text-align: right;\n",
       "    }\n",
       "</style>\n",
       "<table border=\"1\" class=\"dataframe\">\n",
       "  <thead>\n",
       "    <tr style=\"text-align: right;\">\n",
       "      <th></th>\n",
       "      <th>raw_data</th>\n",
       "      <th>duration</th>\n",
       "    </tr>\n",
       "  </thead>\n",
       "  <tbody>\n",
       "    <tr>\n",
       "      <th>0</th>\n",
       "      <td>[-1.8207456e-05, -8.338033e-05, -0.00010331021...</td>\n",
       "      <td>0.363900</td>\n",
       "    </tr>\n",
       "    <tr>\n",
       "      <th>1</th>\n",
       "      <td>[9.6588104e-05, 0.00012566414, 0.00016156163, ...</td>\n",
       "      <td>0.314785</td>\n",
       "    </tr>\n",
       "    <tr>\n",
       "      <th>2</th>\n",
       "      <td>[-0.00027579028, -0.00031114486, -0.000292675,...</td>\n",
       "      <td>0.349660</td>\n",
       "    </tr>\n",
       "    <tr>\n",
       "      <th>3</th>\n",
       "      <td>[0.00021909502, 0.0002477661, 0.00026524728, 0...</td>\n",
       "      <td>0.566893</td>\n",
       "    </tr>\n",
       "    <tr>\n",
       "      <th>4</th>\n",
       "      <td>[-4.8777634e-05, -8.546371e-05, -0.0001339433,...</td>\n",
       "      <td>0.509025</td>\n",
       "    </tr>\n",
       "  </tbody>\n",
       "</table>\n",
       "</div>"
      ],
      "text/plain": [
       "                                            raw_data  duration\n",
       "0  [-1.8207456e-05, -8.338033e-05, -0.00010331021...  0.363900\n",
       "1  [9.6588104e-05, 0.00012566414, 0.00016156163, ...  0.314785\n",
       "2  [-0.00027579028, -0.00031114486, -0.000292675,...  0.349660\n",
       "3  [0.00021909502, 0.0002477661, 0.00026524728, 0...  0.566893\n",
       "4  [-4.8777634e-05, -8.546371e-05, -0.0001339433,...  0.509025"
      ]
     },
     "execution_count": 15,
     "metadata": {},
     "output_type": "execute_result"
    }
   ],
   "source": [
    "#use load_wav function that was written above to get every wave. \n",
    "#save it in X_train_processed and X_test_processed\n",
    "# X_train_processed/X_test_processed should be dataframes with two columns(raw_data, duration) with same index of X_train/y_train\n",
    "X_train_processed = []\n",
    "for x in X_train:\n",
    "    X_train_processed.append(load_wav(x, get_duration=True))\n",
    "X_train_processed=pd.DataFrame(X_train_processed,columns=['raw_data','duration'])\n",
    "X_train_processed.head()"
   ]
  },
  {
   "cell_type": "code",
   "execution_count": 16,
   "metadata": {},
   "outputs": [
    {
     "data": {
      "text/html": [
       "<div>\n",
       "<style scoped>\n",
       "    .dataframe tbody tr th:only-of-type {\n",
       "        vertical-align: middle;\n",
       "    }\n",
       "\n",
       "    .dataframe tbody tr th {\n",
       "        vertical-align: top;\n",
       "    }\n",
       "\n",
       "    .dataframe thead th {\n",
       "        text-align: right;\n",
       "    }\n",
       "</style>\n",
       "<table border=\"1\" class=\"dataframe\">\n",
       "  <thead>\n",
       "    <tr style=\"text-align: right;\">\n",
       "      <th></th>\n",
       "      <th>raw_data</th>\n",
       "      <th>duration</th>\n",
       "    </tr>\n",
       "  </thead>\n",
       "  <tbody>\n",
       "    <tr>\n",
       "      <th>0</th>\n",
       "      <td>[7.5200514e-05, 0.00067946606, 0.0011661825, 0...</td>\n",
       "      <td>0.316281</td>\n",
       "    </tr>\n",
       "    <tr>\n",
       "      <th>1</th>\n",
       "      <td>[-0.00746698, -0.0061093145, -0.0028450494, 0....</td>\n",
       "      <td>0.374785</td>\n",
       "    </tr>\n",
       "    <tr>\n",
       "      <th>2</th>\n",
       "      <td>[-0.010753613, -0.0025474587, 0.006818897, 0.0...</td>\n",
       "      <td>0.569751</td>\n",
       "    </tr>\n",
       "    <tr>\n",
       "      <th>3</th>\n",
       "      <td>[-0.008190532, -0.005059408, 0.005092152, 0.01...</td>\n",
       "      <td>0.381270</td>\n",
       "    </tr>\n",
       "    <tr>\n",
       "      <th>4</th>\n",
       "      <td>[0.00034301207, 0.0002433633, 4.777004e-05, -0...</td>\n",
       "      <td>0.453878</td>\n",
       "    </tr>\n",
       "  </tbody>\n",
       "</table>\n",
       "</div>"
      ],
      "text/plain": [
       "                                            raw_data  duration\n",
       "0  [7.5200514e-05, 0.00067946606, 0.0011661825, 0...  0.316281\n",
       "1  [-0.00746698, -0.0061093145, -0.0028450494, 0....  0.374785\n",
       "2  [-0.010753613, -0.0025474587, 0.006818897, 0.0...  0.569751\n",
       "3  [-0.008190532, -0.005059408, 0.005092152, 0.01...  0.381270\n",
       "4  [0.00034301207, 0.0002433633, 4.777004e-05, -0...  0.453878"
      ]
     },
     "execution_count": 16,
     "metadata": {},
     "output_type": "execute_result"
    }
   ],
   "source": [
    "X_test_processed = []\n",
    "for x in X_test:\n",
    "    X_test_processed.append(load_wav(x, get_duration=True))\n",
    "X_test_processed=pd.DataFrame(X_test_processed,columns=['raw_data','duration'])\n",
    "X_test_processed.head()"
   ]
  },
  {
   "cell_type": "code",
   "execution_count": 17,
   "metadata": {},
   "outputs": [
    {
     "data": {
      "image/png": "[encoded data removed]",
      "text/plain": [
       "<Figure size 432x288 with 1 Axes>"
      ]
     },
     "metadata": {
      "needs_background": "light"
     },
     "output_type": "display_data"
    }
   ],
   "source": [
    "import matplotlib.pyplot as plt\n",
    "import seaborn as sns\n",
    "\n",
    "plt.figure(figsize=(6,4))\n",
    "plt.hist(X_train_processed['duration'])\n",
    "plt.title('train data duration')\n",
    "plt.show()"
   ]
  },
  {
   "cell_type": "code",
   "execution_count": 18,
   "metadata": {},
   "outputs": [
    {
     "data": {
      "image/png": "[encoded data removed]",
      "text/plain": [
       "<Figure size 432x288 with 1 Axes>"
      ]
     },
     "metadata": {
      "needs_background": "light"
     },
     "output_type": "display_data"
    }
   ],
   "source": [
    "plt.figure(figsize=(6,4))\n",
    "plt.hist(X_test_processed['duration'])\n",
    "plt.title('test data duration')\n",
    "plt.show()"
   ]
  },
  {
   "cell_type": "code",
   "execution_count": 19,
   "metadata": {
    "id": "vvLhm1AqaNny",
    "outputId": "a4430992-0f16-4d24-de92-0a6fcec1df06"
   },
   "outputs": [
    {
     "name": "stdout",
     "output_type": "stream",
     "text": [
      "0 percentile value is 0.1435374149659864\n",
      "10 percentile value is 0.25976870748299324\n",
      "20 percentile value is 0.29777777777777775\n",
      "30 percentile value is 0.3302766439909297\n",
      "40 percentile value is 0.3580498866213152\n",
      "50 percentile value is 0.38945578231292516\n",
      "60 percentile value is 0.4164172335600907\n",
      "70 percentile value is 0.44616780045351473\n",
      "80 percentile value is 0.48358276643990933\n",
      "90 percentile value is 0.5621632653061226\n",
      "100 percentile value is 2.282766439909297\n"
     ]
    }
   ],
   "source": [
    "#print 0 to 100 percentile values with step size of 10 for train data duration. \n",
    "for p in range(0,101,10):\n",
    "    print(p, \"percentile value is\", np.percentile(X_train_processed['duration'], p))"
   ]
  },
  {
   "cell_type": "code",
   "execution_count": 20,
   "metadata": {
    "id": "rSlVQh4CaNn2",
    "outputId": "d6970436-db83-4d01-c910-7ebe92baab41"
   },
   "outputs": [
    {
     "name": "stdout",
     "output_type": "stream",
     "text": [
      "90 percentile value is 0.5621632653061226\n",
      "91 percentile value is 0.5790390022675738\n",
      "92 percentile value is 0.5933351473922903\n",
      "93 percentile value is 0.6066258503401363\n",
      "94 percentile value is 0.6213378684807256\n",
      "95 percentile value is 0.6346916099773242\n",
      "96 percentile value is 0.6484607709750566\n",
      "97 percentile value is 0.6743265306122448\n",
      "98 percentile value is 0.7120553287981859\n",
      "99 percentile value is 0.8067614512471656\n",
      "100 percentile value is 2.282766439909297\n"
     ]
    }
   ],
   "source": [
    "##print 90 to 100 percentile values with step size of 1. \n",
    "for p in range(90,101):\n",
    "    print(p, \"percentile value is\", np.percentile(X_train_processed['duration'], p))"
   ]
  },
  {
   "cell_type": "markdown",
   "metadata": {
    "id": "JbMb4Y0RaNoA"
   },
   "source": [
    "<font size=4>Grader function 4 </font>"
   ]
  },
  {
   "cell_type": "code",
   "execution_count": 21,
   "metadata": {
    "id": "UMoyLLSAaNoF",
    "outputId": "cfb3ad33-3dc0-49e7-d078-8619b164b5db"
   },
   "outputs": [
    {
     "data": {
      "text/plain": [
       "True"
      ]
     },
     "execution_count": 21,
     "metadata": {},
     "output_type": "execute_result"
    }
   ],
   "source": [
    "def grader_processed():\n",
    "    flag_columns = (all(X_train_processed.columns==['raw_data', 'duration'])) and (all(X_test_processed.columns==['raw_data', 'duration']))\n",
    "    flag_shape = (X_train_processed.shape ==(1400, 2)) and (X_test_processed.shape==(600,2))\n",
    "    return flag_columns and flag_shape\n",
    "grader_processed()"
   ]
  },
  {
   "cell_type": "markdown",
   "metadata": {
    "id": "Cux3_jfcaNoM"
   },
   "source": [
    "<b>Based on our analysis 99 percentile values are less than 0.8sec so we will limit maximum length of X_train_processed and X_test_processed to 0.8 sec. It is similar to pad_sequence for a text dataset.</b>\n",
    "\n",
    "<b>While loading the audio files, we are using sampling rate of 22050 so one sec will give array of length 22050. so, our maximum length is 0.8*22050 = 17640\n",
    "</b>\n",
    "<b>Pad with Zero if length of sequence is less than 17640 else Truncate the number. </b>\n",
    "\n",
    "<b> Also create a masking vector for train and test. </b>\n",
    "\n",
    "<b> masking vector value = 1 if it is real value, 0 if it is pad value. Masking vector data type must be bool.</b>\n"
   ]
  },
  {
   "cell_type": "code",
   "execution_count": 22,
   "metadata": {
    "id": "voqSEyvcaNoO"
   },
   "outputs": [],
   "source": [
    "max_length  = 17640"
   ]
  },
  {
   "cell_type": "code",
   "execution_count": null,
   "metadata": {
    "id": "B1-_r20BaNoW"
   },
   "outputs": [],
   "source": [
    "## as discussed above, Pad with Zero if length of sequence is less than 17640 else Truncate the number. \n",
    "## save in the X_train_pad_seq, X_test_pad_seq\n",
    "## also Create masking vector X_train_mask, X_test_mask\n",
    "\n",
    "## all the X_train_pad_seq, X_test_pad_seq, X_train_mask, X_test_mask will be numpy arrays mask vector dtype must be bool."
   ]
  },
  {
   "cell_type": "code",
   "execution_count": 23,
   "metadata": {},
   "outputs": [],
   "source": [
    "X_train_pad_seq=[]\n",
    "X_train_mask=[]\n",
    "for x in X_train_processed['raw_data']:\n",
    "    if len(x)<17640:\n",
    "        x1=np.concatenate((x , np.zeros(17640-len(x), dtype=bool)))\n",
    "        X_train_pad_seq.append(x1)\n",
    "        mask=np.concatenate((np.ones(len(x), dtype=bool) , np.zeros(17640-len(x), dtype=bool)))\n",
    "        X_train_mask.append(mask)\n",
    "        \n",
    "    else:\n",
    "        X_train_pad_seq.append(x[:17640])\n",
    "        X_train_mask.append(np.ones(17640, dtype=bool))\n",
    "        \n",
    "X_train_pad_seq= np.array(X_train_pad_seq)\n",
    "X_train_mask = np.array(X_train_mask)      "
   ]
  },
  {
   "cell_type": "code",
   "execution_count": 24,
   "metadata": {},
   "outputs": [],
   "source": [
    "X_test_pad_seq=[]\n",
    "X_test_mask=[]\n",
    "for x in X_test_processed['raw_data']:\n",
    "    if len(x)<17640:\n",
    "        x1=np.concatenate((x , np.zeros(17640-len(x),dtype=bool)))\n",
    "        X_test_pad_seq.append(x1)\n",
    "        mask=np.concatenate((np.ones(len(x),dtype=bool) , np.zeros(17640-len(x), dtype=bool)))\n",
    "        X_test_mask.append(mask)\n",
    "        \n",
    "    else:\n",
    "        X_test_pad_seq.append(x[:17640])\n",
    "        X_test_mask.append(np.ones(17640,dtype=bool))\n",
    "        \n",
    "X_test_pad_seq= np.array(X_test_pad_seq)\n",
    "X_test_mask = np.array(X_test_mask)      "
   ]
  },
  {
   "cell_type": "markdown",
   "metadata": {
    "id": "zEHMgm4DaNoe"
   },
   "source": [
    "<font size=4>Grader function 5 </font>"
   ]
  },
  {
   "cell_type": "code",
   "execution_count": 25,
   "metadata": {
    "id": "Th3KhplGaNof",
    "outputId": "5e783ec9-81d2-4156-9e88-efdee0ff8b2b"
   },
   "outputs": [
    {
     "data": {
      "text/plain": [
       "True"
      ]
     },
     "execution_count": 25,
     "metadata": {},
     "output_type": "execute_result"
    }
   ],
   "source": [
    "def grader_padoutput():\n",
    "    flag_padshape = (X_train_pad_seq.shape==(1400, 17640)) and (X_test_pad_seq.shape==(600, 17640)) and (y_train.shape==(1400,))\n",
    "    flag_maskshape = (X_train_mask.shape==(1400, 17640)) and (X_test_mask.shape==(600, 17640)) and (y_test.shape==(600,))\n",
    "    flag_dtype = (X_train_mask.dtype==bool) and (X_test_mask.dtype==bool)\n",
    "    return flag_padshape and flag_maskshape and flag_dtype\n",
    "grader_padoutput()"
   ]
  },
  {
   "cell_type": "markdown",
   "metadata": {
    "id": "K0kaYQ1jaNop"
   },
   "source": [
    "### 1. Giving Raw data directly. "
   ]
  },
  {
   "cell_type": "markdown",
   "metadata": {
    "id": "xGHxh3jTaNoq"
   },
   "source": [
    "\n",
    "Now we have\n",
    "\n",
    "Train data: X_train_pad_seq, X_train_mask and y_train  \n",
    "Test data: X_test_pad_seq, X_test_mask and y_test   \n",
    "\n",
    "We will create a LSTM model which takes this input. \n",
    "\n",
    "Task:\n",
    "\n",
    "1. Create an LSTM network which takes \"X_train_pad_seq\" as input, \"X_train_mask\" as mask input. You can use any number of LSTM cells. Please read LSTM documentation(https://www.tensorflow.org/api_docs/python/tf/keras/layers/LSTM) in tensorflow to know more about mask and also https://www.tensorflow.org/guide/keras/masking_and_padding \n",
    "2. Get the final output of the LSTM and give it to Dense layer of any size and then give it to Dense layer of size 10(because we have 10 outputs) and then compile with the sparse categorical cross entropy( because we are not converting it to one hot vectors). Also check the datatype of class labels(y_values) and make sure that you convert your class labels  to integer datatype before fitting in the model.\n",
    "3. While defining your model make sure that you pass both the input layer and mask input layer as input to lstm layer as follows\n",
    "<img src='https://i.imgur.com/FvcgvbY.jpg'>\n",
    "4. Use tensorboard to plot the graphs of loss and metric(use custom micro F1 score as metric) and histograms of gradients. You can write your code for computing F1 score using this <a  href='https://i.imgur.com/8YULUcu.jpg'>link</a> \n",
    "\n",
    "5. make sure that it won't overfit. \n",
    "6. You are free to include any regularization\n"
   ]
  },
  {
   "cell_type": "code",
   "execution_count": 26,
   "metadata": {
    "id": "X8yg951AaNor"
   },
   "outputs": [],
   "source": [
    "from tensorflow.keras.layers import Input, LSTM, Dense\n",
    "from tensorflow.keras.models import Model\n",
    "import tensorflow as tf\n",
    "from tensorflow.keras.optimizers import Adam"
   ]
  },
  {
   "cell_type": "code",
   "execution_count": null,
   "metadata": {
    "id": "d8y1sgeVaNoy"
   },
   "outputs": [],
   "source": [
    "## as discussed above, please write the architecture of the model.\n",
    "## you will have two input layers in your model (data input layer and mask input layer)\n",
    "## make sure that you have defined the data type of masking layer as bool\n"
   ]
  },
  {
   "cell_type": "code",
   "execution_count": 27,
   "metadata": {
    "id": "RPj_DGW2aNo9"
   },
   "outputs": [],
   "source": [
    "from sklearn.metrics import f1_score\n",
    "class Metrics(tf.keras.callbacks.Callback ):\n",
    "    def __init__(self,validation_data):\n",
    "\n",
    "        super().__init__()\n",
    "        self.x_test=validation_data[0]\n",
    "        self.y_test=validation_data[1]\n",
    "\n",
    "    def on_epoch_end(self, epoch, logs={}):\n",
    "\n",
    "        val_predict = (np.asarray(self.model.predict([self.x_test[0],self.x_test[1]])))\n",
    "        val_label=np.argmax(val_predict,axis=1)\n",
    "        val_targ = self.y_test\n",
    "        val_f1 = f1_score(val_targ, val_label,average='micro')\n",
    "        print (\"Val_F1score = \",val_f1)"
   ]
  },
  {
   "cell_type": "code",
   "execution_count": 38,
   "metadata": {},
   "outputs": [
    {
     "name": "stdout",
     "output_type": "stream",
     "text": [
      "WARNING:tensorflow:Layer lstm_1 will not use cuDNN kernels since it doesn't meet the criteria. It will use a generic GPU kernel as fallback when running on GPU.\n",
      "Model: \"model_1\"\n",
      "__________________________________________________________________________________________________\n",
      " Layer (type)                   Output Shape         Param #     Connected to                     \n",
      "==================================================================================================\n",
      " input_2 (InputLayer)           [(None, 17640, 1)]   0           []                               \n",
      "                                                                                                  \n",
      " input_3 (InputLayer)           [(None, 17640)]      0           []                               \n",
      "                                                                                                  \n",
      " lstm_1 (LSTM)                  (None, 32)           4352        ['input_2[0][0]',                \n",
      "                                                                  'input_3[0][0]']                \n",
      "                                                                                                  \n",
      " dense_2 (Dense)                (None, 64)           2112        ['lstm_1[0][0]']                 \n",
      "                                                                                                  \n",
      " dense_3 (Dense)                (None, 10)           650         ['dense_2[0][0]']                \n",
      "                                                                                                  \n",
      "==================================================================================================\n",
      "Total params: 7,114\n",
      "Trainable params: 7,114\n",
      "Non-trainable params: 0\n",
      "__________________________________________________________________________________________________\n",
      "None\n"
     ]
    }
   ],
   "source": [
    "input_layer= Input(shape=(17640,1))\n",
    "input_layer2 = Input( shape=(17640,))\n",
    "lstm = LSTM(32, activation='relu')(inputs=input_layer, mask=input_layer2)\n",
    "dense= Dense(64, activation='relu')(lstm)\n",
    "output= Dense(10, activation='softmax')(dense)\n",
    "\n",
    "model= Model([input_layer,input_layer2],output)\n",
    "model.compile(loss='sparse_categorical_crossentropy',optimizer='Adam')\n",
    "print(model.summary())"
   ]
  },
  {
   "cell_type": "code",
   "execution_count": 27,
   "metadata": {},
   "outputs": [],
   "source": [
    "y_train_int = y_train.apply(lambda x: int(x))\n",
    "y_test_int = y_test.apply(lambda x: int(x))\n",
    "y_train_int=y_train_int.values\n",
    "y_test_int=y_test_int.values"
   ]
  },
  {
   "cell_type": "code",
   "execution_count": 32,
   "metadata": {},
   "outputs": [],
   "source": [
    "import os\n",
    "import datetime\n",
    "from tensorflow.keras.callbacks import TensorBoard, ModelCheckpoint\n",
    "from tensorflow.keras.utils import to_categorical\n",
    "\n",
    "log_dir = os.path.join(\"logs1\",'fits', datetime.datetime.now().strftime(\"%Y%m%d-%H%M%S\"))\n",
    "tensorboard_callback = tf.keras.callbacks.TensorBoard(log_dir=log_dir,histogram_freq=1,write_graph=True)\n",
    "\n",
    "filepath=\"model_save/weights-{epoch:02d}.hdf5\"\n",
    "checkpoint = ModelCheckpoint(filepath=filepath, monitor='val_f1',  verbose=1, mode='auto')  \n",
    "metric = Metrics(validation_data=[[X_test_pad_seq,X_test_mask],y_test_int])\n",
    "\n",
    "callbacks= [tensorboard_callback,checkpoint, metric]"
   ]
  },
  {
   "cell_type": "code",
   "execution_count": 33,
   "metadata": {},
   "outputs": [
    {
     "name": "stdout",
     "output_type": "stream",
     "text": [
      "Epoch 1/3\n",
      "117/117 [==============================] - ETA: 0s - loss: 2.3032 \n",
      "Epoch 1: saving model to model_save\\weights-01.hdf5\n",
      "Val_F1score =  0.10000000000000002\n",
      "117/117 [==============================] - 5137s 44s/step - loss: 2.3032 - val_loss: 2.3026\n",
      "Epoch 2/3\n",
      "117/117 [==============================] - ETA: 0s - loss: 2.3030 \n",
      "Epoch 2: saving model to model_save\\weights-02.hdf5\n",
      "Val_F1score =  0.10166666666666667\n",
      "117/117 [==============================] - 6415s 55s/step - loss: 2.3030 - val_loss: 2.3026\n",
      "Epoch 3/3\n",
      "117/117 [==============================] - ETA: 0s - loss: 2.3029 \n",
      "Epoch 3: saving model to model_save\\weights-03.hdf5\n",
      "Val_F1score =  0.10166666666666667\n",
      "117/117 [==============================] - 5230s 45s/step - loss: 2.3029 - val_loss: 2.3026\n"
     ]
    },
    {
     "data": {
      "text/plain": [
       "<keras.callbacks.History at 0x185620f5e70>"
      ]
     },
     "execution_count": 33,
     "metadata": {},
     "output_type": "execute_result"
    }
   ],
   "source": [
    "model.fit([X_train_pad_seq,X_train_mask], y_train_int, epochs=3,verbose=1,batch_size=12, callbacks =callbacks, validation_data=([X_test_pad_seq,X_test_mask],y_test_int))"
   ]
  },
  {
   "cell_type": "code",
   "execution_count": 34,
   "metadata": {},
   "outputs": [
    {
     "name": "stdout",
     "output_type": "stream",
     "text": [
      "Val_F1score =  0.10166666666666667\n"
     ]
    }
   ],
   "source": [
    "val_predict = (np.asarray(model.predict([X_test_pad_seq,X_test_mask])))\n",
    "val_label=np.argmax(val_predict,axis=1)\n",
    "val_targ = y_test_int\n",
    "val_f1 = f1_score(val_targ, val_label,average='micro')\n",
    "print (\"Val_F1score = \",val_f1)"
   ]
  },
  {
   "cell_type": "code",
   "execution_count": 35,
   "metadata": {},
   "outputs": [
    {
     "data": {
      "text/html": [
       "\n",
       "      <iframe id=\"tensorboard-frame-676fa812152737ec\" width=\"100%\" height=\"800\" frameborder=\"0\">\n",
       "      </iframe>\n",
       "      <script>\n",
       "        (function() {\n",
       "          const frame = document.getElementById(\"tensorboard-frame-676fa812152737ec\");\n",
       "          const url = new URL(\"/\", window.location);\n",
       "          const port = 6006;\n",
       "          if (port) {\n",
       "            url.port = port;\n",
       "          }\n",
       "          frame.src = url;\n",
       "        })();\n",
       "      </script>\n",
       "    "
      ],
      "text/plain": [
       "<IPython.core.display.HTML object>"
      ]
     },
     "metadata": {},
     "output_type": "display_data"
    }
   ],
   "source": [
    "%load_ext tensorboard\n",
    "%tensorboard --logdir logs1/fits"
   ]
  },
  {
   "cell_type": "code",
   "execution_count": 21,
   "metadata": {},
   "outputs": [
    {
     "data": {
      "image/png": "[encoded data removed]",
      "text/plain": [
       "<IPython.core.display.Image object>"
      ]
     },
     "execution_count": 21,
     "metadata": {},
     "output_type": "execute_result"
    }
   ],
   "source": [
    "filepath='model1.png'\n",
    "tf.keras.utils.plot_model(model,to_file=filepath,show_shapes=True)"
   ]
  },
  {
   "cell_type": "code",
   "execution_count": 39,
   "metadata": {
    "id": "MzpPjxvHaNpJ"
   },
   "outputs": [],
   "source": [
    "#train your model\n",
    "#model1.fit([X_train_pad_seq,X_train_mask],y_train_int,.........)"
   ]
  },
  {
   "cell_type": "markdown",
   "metadata": {
    "id": "2Fwk0X4zaNpR"
   },
   "source": [
    "### 2. Converting into spectrogram and giving spectrogram data as input  \n",
    "\n",
    "We can use librosa to convert raw data into spectrogram. A spectrogram shows the features in a two-dimensional representation with the\n",
    "intensity of a frequency at a point in time i.e we are converting Time domain to frequency domain. you can read more about this in https://pnsn.org/spectrograms/what-is-a-spectrogram\n"
   ]
  },
  {
   "cell_type": "code",
   "execution_count": 27,
   "metadata": {
    "id": "nb5AGzTjaNpS"
   },
   "outputs": [],
   "source": [
    "def convert_to_spectrogram(raw_data):\n",
    "    '''converting to spectrogram'''\n",
    "    spectrum = librosa.feature.melspectrogram(y=raw_data, sr=sample_rate, n_mels=64)\n",
    "    logmel_spectrum = librosa.power_to_db(S=spectrum, ref=np.max)\n",
    "    return logmel_spectrum"
   ]
  },
  {
   "cell_type": "code",
   "execution_count": 29,
   "metadata": {
    "id": "B__rN4RjaNpc"
   },
   "outputs": [],
   "source": [
    "##use convert_to_spectrogram and convert every raw sequence in X_train_pad_seq and X_test_pad-seq.\n",
    "## save those all in the X_train_spectrogram and X_test_spectrogram ( These two arrays must be numpy arrays)\n",
    "X_train_spectrogram = convert_to_spectrogram(X_train_pad_seq)\n",
    "X_test_spectrogram = convert_to_spectrogram(X_test_pad_seq)"
   ]
  },
  {
   "cell_type": "code",
   "execution_count": 30,
   "metadata": {},
   "outputs": [
    {
     "data": {
      "text/plain": [
       "(1400, 64, 35)"
      ]
     },
     "execution_count": 30,
     "metadata": {},
     "output_type": "execute_result"
    }
   ],
   "source": [
    "X_train_spectrogram.shape"
   ]
  },
  {
   "cell_type": "markdown",
   "metadata": {
    "id": "zr1ynYZnaNpj"
   },
   "source": [
    "<font size=4>Grader function 6 </font>"
   ]
  },
  {
   "cell_type": "code",
   "execution_count": 31,
   "metadata": {
    "id": "oniXBXcsaNpk",
    "outputId": "0f94ec35-98af-4b98-c501-35cbbfbd0a2e"
   },
   "outputs": [
    {
     "data": {
      "text/plain": [
       "True"
      ]
     },
     "execution_count": 31,
     "metadata": {},
     "output_type": "execute_result"
    }
   ],
   "source": [
    "def grader_spectrogram():\n",
    "    flag_shape = (X_train_spectrogram.shape==(1400,64, 35)) and (X_test_spectrogram.shape == (600, 64, 35))\n",
    "    return flag_shape\n",
    "grader_spectrogram()"
   ]
  },
  {
   "cell_type": "markdown",
   "metadata": {
    "id": "xxlEVyIYaNpt"
   },
   "source": [
    "\n",
    "Now we have\n",
    "\n",
    "Train data: X_train_spectrogram and y_train  \n",
    "Test data: X_test_spectrogram and y_test   \n",
    "\n",
    "We will create a LSTM model which takes this input. \n",
    "\n",
    "Task:\n",
    "\n",
    "1. Create an LSTM network which takes \"X_train_spectrogram\" as input and has to return output at every time step. \n",
    "2. Average the output of every time step and give this to the Dense layer of any size. \n",
    "(ex: Output from LSTM will be  (None, time_steps, features) average the output of every time step i.e, you should get (None,time_steps) \n",
    "and then pass to dense layer )\n",
    "3. give the above output to Dense layer of size 10( output layer) and train the network with sparse categorical cross entropy.  \n",
    "4. Use tensorboard to plot the graphs of loss and metric(use custom micro F1 score as metric) and histograms of gradients. You can write your code for computing F1 score using this <a  href='https://i.imgur.com/8YULUcu.jpg'>link</a> \n",
    "5. make sure that it won't overfit. \n",
    "6. You are free to include any regularization\n"
   ]
  },
  {
   "cell_type": "code",
   "execution_count": null,
   "metadata": {
    "id": "IaQjaiiGaNpv"
   },
   "outputs": [],
   "source": [
    "# write the architecture of the model\n",
    "#print model.summary and make sure that it is following point 2 mentioned above"
   ]
  },
  {
   "cell_type": "code",
   "execution_count": 32,
   "metadata": {},
   "outputs": [],
   "source": [
    "from sklearn.metrics import f1_score\n",
    "class Metrics(tf.keras.callbacks.Callback ):\n",
    "    def __init__(self,validation_data):\n",
    "\n",
    "        super().__init__()\n",
    "        self.x_test=validation_data[0]\n",
    "        self.y_test=validation_data[1]\n",
    "\n",
    "    def on_epoch_end(self, epoch, logs={}):\n",
    "\n",
    "        val_predict = (np.asarray(self.model.predict(self.x_test)))\n",
    "        val_label=np.argmax(val_predict,axis=1)\n",
    "        val_targ = self.y_test\n",
    "        val_f1 = f1_score(val_targ, val_label,average='micro')\n",
    "        print (\"Val_F1score = \",val_f1)"
   ]
  },
  {
   "cell_type": "code",
   "execution_count": 38,
   "metadata": {},
   "outputs": [],
   "source": [
    "from tensorflow.python.keras.layers.core import TFOpLambda"
   ]
  },
  {
   "cell_type": "code",
   "execution_count": 47,
   "metadata": {},
   "outputs": [
    {
     "name": "stdout",
     "output_type": "stream",
     "text": [
      "WARNING:tensorflow:Layer lstm_8 will not use cuDNN kernels since it doesn't meet the criteria. It will use a generic GPU kernel as fallback when running on GPU.\n",
      "Model: \"model_6\"\n",
      "_________________________________________________________________\n",
      " Layer (type)                Output Shape              Param #   \n",
      "=================================================================\n",
      " input_9 (InputLayer)        [(None, 64, 35)]          0         \n",
      "                                                                 \n",
      " lstm_8 (LSTM)               (None, 64, 32)            8704      \n",
      "                                                                 \n",
      " tf.math.reduce_mean_7 (TFOp  (None, 64)               0         \n",
      " Lambda)                                                         \n",
      "                                                                 \n",
      " dense_13 (Dense)            (None, 32)                2080      \n",
      "                                                                 \n",
      " dense_14 (Dense)            (None, 10)                330       \n",
      "                                                                 \n",
      "=================================================================\n",
      "Total params: 11,114\n",
      "Trainable params: 11,114\n",
      "Non-trainable params: 0\n",
      "_________________________________________________________________\n",
      "None\n"
     ]
    }
   ],
   "source": [
    "from tensorflow.keras.layers import GlobalAveragePooling1D\n",
    "\n",
    "def mean_layer(x):\n",
    "    return tf.math.reduce_mean(x,axis=2)\n",
    "\n",
    "input_layer= Input(shape=(64,35))\n",
    "lstm = LSTM(32, activation='relu', return_sequences=True)(input_layer)\n",
    "mean= TFOpLambda(mean_layer)(lstm)\n",
    "#AvgPool = GlobalAveragePooling1D()(mean)\n",
    "dense= Dense(32, activation='relu')(mean)\n",
    "output= Dense(10, activation='softmax')(dense)\n",
    "\n",
    "model1= Model(input_layer,output)\n",
    "model1.compile(loss='sparse_categorical_crossentropy',optimizer='Adam',metrics='accuracy')\n",
    "print(model1.summary())"
   ]
  },
  {
   "cell_type": "code",
   "execution_count": 50,
   "metadata": {},
   "outputs": [],
   "source": [
    "import os\n",
    "import datetime\n",
    "from tensorflow.keras.callbacks import TensorBoard, ModelCheckpoint\n",
    "from tensorflow.keras.utils import to_categorical\n",
    "\n",
    "log_dir = os.path.join(\"logs1\",'fits2', datetime.datetime.now().strftime(\"%Y%m%d-%H%M%S\"))\n",
    "tensorboard_callback = tf.keras.callbacks.TensorBoard(log_dir=log_dir,histogram_freq=1,write_graph=True)\n",
    "\n",
    "filepath=\"model_save/weights2-{epoch:02d}.hdf5\"\n",
    "checkpoint = ModelCheckpoint(filepath=filepath, monitor='val_f1', verbose=1, mode='auto')  \n",
    "metric = Metrics(validation_data=[X_test_spectrogram,y_test_int])\n",
    "\n",
    "callbacks= [tensorboard_callback,checkpoint, metric]"
   ]
  },
  {
   "cell_type": "code",
   "execution_count": 51,
   "metadata": {},
   "outputs": [
    {
     "name": "stdout",
     "output_type": "stream",
     "text": [
      "Epoch 1/50\n",
      "117/117 [==============================] - ETA: 0s - loss: 2.4490 - accuracy: 0.1043\n",
      "Epoch 1: saving model to model_save\\weights2-01.hdf5\n",
      "Val_F1score =  0.07333333333333333\n",
      "117/117 [==============================] - 15s 128ms/step - loss: 2.4490 - accuracy: 0.1043 - val_loss: 2.5374 - val_accuracy: 0.0733\n",
      "Epoch 2/50\n",
      "117/117 [==============================] - ETA: 0s - loss: 2.4156 - accuracy: 0.1164\n",
      "Epoch 2: saving model to model_save\\weights2-02.hdf5\n",
      "Val_F1score =  0.08833333333333333\n",
      "117/117 [==============================] - 15s 125ms/step - loss: 2.4156 - accuracy: 0.1164 - val_loss: 2.5509 - val_accuracy: 0.0883\n",
      "Epoch 3/50\n",
      "117/117 [==============================] - ETA: 0s - loss: 2.3964 - accuracy: 0.1093\n",
      "Epoch 3: saving model to model_save\\weights2-03.hdf5\n",
      "Val_F1score =  0.125\n",
      "117/117 [==============================] - 15s 126ms/step - loss: 2.3964 - accuracy: 0.1093 - val_loss: 2.5013 - val_accuracy: 0.1250\n",
      "Epoch 4/50\n",
      "117/117 [==============================] - ETA: 0s - loss: 2.3822 - accuracy: 0.1243\n",
      "Epoch 4: saving model to model_save\\weights2-04.hdf5\n",
      "Val_F1score =  0.09\n",
      "117/117 [==============================] - 15s 129ms/step - loss: 2.3822 - accuracy: 0.1243 - val_loss: 2.4600 - val_accuracy: 0.0900\n",
      "Epoch 5/50\n",
      "117/117 [==============================] - ETA: 0s - loss: 2.3596 - accuracy: 0.1386\n",
      "Epoch 5: saving model to model_save\\weights2-05.hdf5\n",
      "Val_F1score =  0.10833333333333334\n",
      "117/117 [==============================] - 15s 126ms/step - loss: 2.3596 - accuracy: 0.1386 - val_loss: 2.4462 - val_accuracy: 0.1083\n",
      "Epoch 6/50\n",
      "117/117 [==============================] - ETA: 0s - loss: 2.3412 - accuracy: 0.1257\n",
      "Epoch 6: saving model to model_save\\weights2-06.hdf5\n",
      "Val_F1score =  0.115\n",
      "117/117 [==============================] - 15s 129ms/step - loss: 2.3412 - accuracy: 0.1257 - val_loss: 2.4890 - val_accuracy: 0.1150\n",
      "Epoch 7/50\n",
      "117/117 [==============================] - ETA: 0s - loss: 2.3178 - accuracy: 0.1443\n",
      "Epoch 7: saving model to model_save\\weights2-07.hdf5\n",
      "Val_F1score =  0.13833333333333334\n",
      "117/117 [==============================] - 15s 127ms/step - loss: 2.3178 - accuracy: 0.1443 - val_loss: 2.4736 - val_accuracy: 0.1383\n",
      "Epoch 8/50\n",
      "117/117 [==============================] - ETA: 0s - loss: 2.3030 - accuracy: 0.1514\n",
      "Epoch 8: saving model to model_save\\weights2-08.hdf5\n",
      "Val_F1score =  0.12166666666666667\n",
      "117/117 [==============================] - 15s 128ms/step - loss: 2.3030 - accuracy: 0.1514 - val_loss: 2.4520 - val_accuracy: 0.1217\n",
      "Epoch 9/50\n",
      "117/117 [==============================] - ETA: 0s - loss: 2.2790 - accuracy: 0.1621\n",
      "Epoch 9: saving model to model_save\\weights2-09.hdf5\n",
      "Val_F1score =  0.13833333333333334\n",
      "117/117 [==============================] - 15s 129ms/step - loss: 2.2790 - accuracy: 0.1621 - val_loss: 2.4436 - val_accuracy: 0.1383\n",
      "Epoch 10/50\n",
      "117/117 [==============================] - ETA: 0s - loss: 2.2715 - accuracy: 0.1671\n",
      "Epoch 10: saving model to model_save\\weights2-10.hdf5\n",
      "Val_F1score =  0.135\n",
      "117/117 [==============================] - 15s 126ms/step - loss: 2.2715 - accuracy: 0.1671 - val_loss: 2.4271 - val_accuracy: 0.1350\n",
      "Epoch 11/50\n",
      "117/117 [==============================] - ETA: 0s - loss: 2.2619 - accuracy: 0.1593\n",
      "Epoch 11: saving model to model_save\\weights2-11.hdf5\n",
      "Val_F1score =  0.13833333333333334\n",
      "117/117 [==============================] - 15s 131ms/step - loss: 2.2619 - accuracy: 0.1593 - val_loss: 2.4695 - val_accuracy: 0.1383\n",
      "Epoch 12/50\n",
      "117/117 [==============================] - ETA: 0s - loss: 2.2541 - accuracy: 0.1664\n",
      "Epoch 12: saving model to model_save\\weights2-12.hdf5\n",
      "Val_F1score =  0.18333333333333332\n",
      "117/117 [==============================] - 15s 126ms/step - loss: 2.2541 - accuracy: 0.1664 - val_loss: 2.4065 - val_accuracy: 0.1833\n",
      "Epoch 13/50\n",
      "117/117 [==============================] - ETA: 0s - loss: 2.2489 - accuracy: 0.1757\n",
      "Epoch 13: saving model to model_save\\weights2-13.hdf5\n",
      "Val_F1score =  0.17333333333333334\n",
      "117/117 [==============================] - 15s 127ms/step - loss: 2.2489 - accuracy: 0.1757 - val_loss: 2.3917 - val_accuracy: 0.1733\n",
      "Epoch 14/50\n",
      "117/117 [==============================] - ETA: 0s - loss: 2.2332 - accuracy: 0.1779\n",
      "Epoch 14: saving model to model_save\\weights2-14.hdf5\n",
      "Val_F1score =  0.15666666666666668\n",
      "117/117 [==============================] - 15s 127ms/step - loss: 2.2332 - accuracy: 0.1779 - val_loss: 2.4398 - val_accuracy: 0.1567\n",
      "Epoch 15/50\n",
      "117/117 [==============================] - ETA: 0s - loss: 2.2308 - accuracy: 0.1814\n",
      "Epoch 15: saving model to model_save\\weights2-15.hdf5\n",
      "Val_F1score =  0.14666666666666667\n",
      "117/117 [==============================] - 15s 127ms/step - loss: 2.2308 - accuracy: 0.1814 - val_loss: 2.3256 - val_accuracy: 0.1467\n",
      "Epoch 16/50\n",
      "117/117 [==============================] - ETA: 0s - loss: 2.2015 - accuracy: 0.1957\n",
      "Epoch 16: saving model to model_save\\weights2-16.hdf5\n",
      "Val_F1score =  0.17166666666666666\n",
      "117/117 [==============================] - 15s 127ms/step - loss: 2.2015 - accuracy: 0.1957 - val_loss: 2.2785 - val_accuracy: 0.1717\n",
      "Epoch 17/50\n",
      "117/117 [==============================] - ETA: 0s - loss: 2.2217 - accuracy: 0.1936\n",
      "Epoch 17: saving model to model_save\\weights2-17.hdf5\n",
      "Val_F1score =  0.16333333333333333\n",
      "117/117 [==============================] - 15s 126ms/step - loss: 2.2217 - accuracy: 0.1936 - val_loss: 2.2559 - val_accuracy: 0.1633\n",
      "Epoch 18/50\n",
      "117/117 [==============================] - ETA: 0s - loss: 2.2161 - accuracy: 0.2064\n",
      "Epoch 18: saving model to model_save\\weights2-18.hdf5\n",
      "Val_F1score =  0.21833333333333332\n",
      "117/117 [==============================] - 15s 127ms/step - loss: 2.2161 - accuracy: 0.2064 - val_loss: 2.4056 - val_accuracy: 0.2183\n",
      "Epoch 19/50\n",
      "117/117 [==============================] - ETA: 0s - loss: 2.1882 - accuracy: 0.2143\n",
      "Epoch 19: saving model to model_save\\weights2-19.hdf5\n",
      "Val_F1score =  0.14166666666666666\n",
      "117/117 [==============================] - 15s 128ms/step - loss: 2.1882 - accuracy: 0.2143 - val_loss: 2.3182 - val_accuracy: 0.1417\n",
      "Epoch 20/50\n",
      "117/117 [==============================] - ETA: 0s - loss: 2.1773 - accuracy: 0.2171\n",
      "Epoch 20: saving model to model_save\\weights2-20.hdf5\n",
      "Val_F1score =  0.20666666666666667\n",
      "117/117 [==============================] - 15s 128ms/step - loss: 2.1773 - accuracy: 0.2171 - val_loss: 2.2261 - val_accuracy: 0.2067\n",
      "Epoch 21/50\n",
      "117/117 [==============================] - ETA: 0s - loss: 2.1652 - accuracy: 0.2143\n",
      "Epoch 21: saving model to model_save\\weights2-21.hdf5\n",
      "Val_F1score =  0.19833333333333333\n",
      "117/117 [==============================] - 15s 130ms/step - loss: 2.1652 - accuracy: 0.2143 - val_loss: 2.1925 - val_accuracy: 0.1983\n",
      "Epoch 22/50\n",
      "117/117 [==============================] - ETA: 0s - loss: 2.1595 - accuracy: 0.2157\n",
      "Epoch 22: saving model to model_save\\weights2-22.hdf5\n",
      "Val_F1score =  0.21666666666666667\n",
      "117/117 [==============================] - 15s 129ms/step - loss: 2.1595 - accuracy: 0.2157 - val_loss: 2.1787 - val_accuracy: 0.2167\n",
      "Epoch 23/50\n",
      "117/117 [==============================] - ETA: 0s - loss: 2.1460 - accuracy: 0.2314\n",
      "Epoch 23: saving model to model_save\\weights2-23.hdf5\n",
      "Val_F1score =  0.22\n",
      "117/117 [==============================] - 15s 127ms/step - loss: 2.1460 - accuracy: 0.2314 - val_loss: 2.1964 - val_accuracy: 0.2200\n",
      "Epoch 24/50\n",
      "117/117 [==============================] - ETA: 0s - loss: 2.1466 - accuracy: 0.2293\n",
      "Epoch 24: saving model to model_save\\weights2-24.hdf5\n",
      "Val_F1score =  0.19333333333333333\n",
      "117/117 [==============================] - 15s 127ms/step - loss: 2.1466 - accuracy: 0.2293 - val_loss: 2.2250 - val_accuracy: 0.1933\n",
      "Epoch 25/50\n",
      "117/117 [==============================] - ETA: 0s - loss: 2.1176 - accuracy: 0.2479\n",
      "Epoch 25: saving model to model_save\\weights2-25.hdf5\n",
      "Val_F1score =  0.17166666666666666\n",
      "117/117 [==============================] - 15s 127ms/step - loss: 2.1176 - accuracy: 0.2479 - val_loss: 2.1894 - val_accuracy: 0.1717\n",
      "Epoch 26/50\n",
      "117/117 [==============================] - ETA: 0s - loss: 2.1211 - accuracy: 0.2336\n",
      "Epoch 26: saving model to model_save\\weights2-26.hdf5\n",
      "Val_F1score =  0.27166666666666667\n",
      "117/117 [==============================] - 15s 130ms/step - loss: 2.1211 - accuracy: 0.2336 - val_loss: 2.1122 - val_accuracy: 0.2717\n"
     ]
    },
    {
     "name": "stdout",
     "output_type": "stream",
     "text": [
      "Epoch 27/50\n",
      "117/117 [==============================] - ETA: 0s - loss: 2.1090 - accuracy: 0.2471\n",
      "Epoch 27: saving model to model_save\\weights2-27.hdf5\n",
      "Val_F1score =  0.21166666666666667\n",
      "117/117 [==============================] - 15s 128ms/step - loss: 2.1090 - accuracy: 0.2471 - val_loss: 2.1911 - val_accuracy: 0.2117\n",
      "Epoch 28/50\n",
      "117/117 [==============================] - ETA: 0s - loss: 2.0909 - accuracy: 0.2386\n",
      "Epoch 28: saving model to model_save\\weights2-28.hdf5\n",
      "Val_F1score =  0.23333333333333334\n",
      "117/117 [==============================] - 15s 129ms/step - loss: 2.0909 - accuracy: 0.2386 - val_loss: 2.1356 - val_accuracy: 0.2333\n",
      "Epoch 29/50\n",
      "117/117 [==============================] - ETA: 0s - loss: 2.0554 - accuracy: 0.2486\n",
      "Epoch 29: saving model to model_save\\weights2-29.hdf5\n",
      "Val_F1score =  0.245\n",
      "117/117 [==============================] - 15s 130ms/step - loss: 2.0554 - accuracy: 0.2486 - val_loss: 2.1434 - val_accuracy: 0.2450\n",
      "Epoch 30/50\n",
      "117/117 [==============================] - ETA: 0s - loss: 2.0777 - accuracy: 0.2500\n",
      "Epoch 30: saving model to model_save\\weights2-30.hdf5\n",
      "Val_F1score =  0.24833333333333332\n",
      "117/117 [==============================] - 15s 132ms/step - loss: 2.0777 - accuracy: 0.2500 - val_loss: 2.1327 - val_accuracy: 0.2483\n",
      "Epoch 31/50\n",
      "117/117 [==============================] - ETA: 0s - loss: 2.0440 - accuracy: 0.2593\n",
      "Epoch 31: saving model to model_save\\weights2-31.hdf5\n",
      "Val_F1score =  0.24\n",
      "117/117 [==============================] - 15s 131ms/step - loss: 2.0440 - accuracy: 0.2593 - val_loss: 2.0547 - val_accuracy: 0.2400\n",
      "Epoch 32/50\n",
      "117/117 [==============================] - ETA: 0s - loss: 2.0480 - accuracy: 0.2621\n",
      "Epoch 32: saving model to model_save\\weights2-32.hdf5\n",
      "Val_F1score =  0.2683333333333333\n",
      "117/117 [==============================] - 15s 129ms/step - loss: 2.0480 - accuracy: 0.2621 - val_loss: 2.1014 - val_accuracy: 0.2683\n",
      "Epoch 33/50\n",
      "117/117 [==============================] - ETA: 0s - loss: 2.0293 - accuracy: 0.2514\n",
      "Epoch 33: saving model to model_save\\weights2-33.hdf5\n",
      "Val_F1score =  0.22\n",
      "117/117 [==============================] - 15s 132ms/step - loss: 2.0293 - accuracy: 0.2514 - val_loss: 2.0996 - val_accuracy: 0.2200\n",
      "Epoch 34/50\n",
      "117/117 [==============================] - ETA: 0s - loss: 2.0241 - accuracy: 0.2600\n",
      "Epoch 34: saving model to model_save\\weights2-34.hdf5\n",
      "Val_F1score =  0.27166666666666667\n",
      "117/117 [==============================] - 15s 129ms/step - loss: 2.0241 - accuracy: 0.2600 - val_loss: 2.0566 - val_accuracy: 0.2717\n",
      "Epoch 35/50\n",
      "117/117 [==============================] - ETA: 0s - loss: 2.0015 - accuracy: 0.2814\n",
      "Epoch 35: saving model to model_save\\weights2-35.hdf5\n",
      "Val_F1score =  0.25666666666666665\n",
      "117/117 [==============================] - 15s 131ms/step - loss: 2.0015 - accuracy: 0.2814 - val_loss: 2.0680 - val_accuracy: 0.2567\n",
      "Epoch 36/50\n",
      "117/117 [==============================] - ETA: 0s - loss: 1.9914 - accuracy: 0.2679\n",
      "Epoch 36: saving model to model_save\\weights2-36.hdf5\n",
      "Val_F1score =  0.265\n",
      "117/117 [==============================] - 15s 129ms/step - loss: 1.9914 - accuracy: 0.2679 - val_loss: 2.0282 - val_accuracy: 0.2650\n",
      "Epoch 37/50\n",
      "117/117 [==============================] - ETA: 0s - loss: 1.9800 - accuracy: 0.2721\n",
      "Epoch 37: saving model to model_save\\weights2-37.hdf5\n",
      "Val_F1score =  0.24333333333333335\n",
      "117/117 [==============================] - 15s 129ms/step - loss: 1.9800 - accuracy: 0.2721 - val_loss: 1.9895 - val_accuracy: 0.2433\n",
      "Epoch 38/50\n",
      "117/117 [==============================] - ETA: 0s - loss: 1.9767 - accuracy: 0.2757\n",
      "Epoch 38: saving model to model_save\\weights2-38.hdf5\n",
      "Val_F1score =  0.24833333333333332\n",
      "117/117 [==============================] - 15s 130ms/step - loss: 1.9767 - accuracy: 0.2757 - val_loss: 2.0622 - val_accuracy: 0.2483\n",
      "Epoch 39/50\n",
      "117/117 [==============================] - ETA: 0s - loss: 2.2011 - accuracy: 0.2614\n",
      "Epoch 39: saving model to model_save\\weights2-39.hdf5\n",
      "Val_F1score =  0.24333333333333335\n",
      "117/117 [==============================] - 15s 127ms/step - loss: 2.2011 - accuracy: 0.2614 - val_loss: 2.1328 - val_accuracy: 0.2433\n",
      "Epoch 40/50\n",
      "117/117 [==============================] - ETA: 0s - loss: 1.9312 - accuracy: 0.2857\n",
      "Epoch 40: saving model to model_save\\weights2-40.hdf5\n",
      "Val_F1score =  0.315\n",
      "117/117 [==============================] - 15s 129ms/step - loss: 1.9312 - accuracy: 0.2857 - val_loss: 1.9098 - val_accuracy: 0.3150\n",
      "Epoch 41/50\n",
      "117/117 [==============================] - ETA: 0s - loss: 1.8680 - accuracy: 0.3121\n",
      "Epoch 41: saving model to model_save\\weights2-41.hdf5\n",
      "Val_F1score =  0.23833333333333334\n",
      "117/117 [==============================] - 15s 128ms/step - loss: 1.8680 - accuracy: 0.3121 - val_loss: 1.9570 - val_accuracy: 0.2383\n",
      "Epoch 42/50\n",
      "117/117 [==============================] - ETA: 0s - loss: 1.8821 - accuracy: 0.2971\n",
      "Epoch 42: saving model to model_save\\weights2-42.hdf5\n",
      "Val_F1score =  0.3416666666666667\n",
      "117/117 [==============================] - 15s 125ms/step - loss: 1.8821 - accuracy: 0.2971 - val_loss: 1.8551 - val_accuracy: 0.3417\n",
      "Epoch 43/50\n",
      "117/117 [==============================] - ETA: 0s - loss: 1.8358 - accuracy: 0.3243\n",
      "Epoch 43: saving model to model_save\\weights2-43.hdf5\n",
      "Val_F1score =  0.34833333333333333\n",
      "117/117 [==============================] - 15s 129ms/step - loss: 1.8358 - accuracy: 0.3243 - val_loss: 1.8414 - val_accuracy: 0.3483\n",
      "Epoch 44/50\n",
      "117/117 [==============================] - ETA: 0s - loss: 1.8123 - accuracy: 0.3350\n",
      "Epoch 44: saving model to model_save\\weights2-44.hdf5\n",
      "Val_F1score =  0.31\n",
      "117/117 [==============================] - 14s 122ms/step - loss: 1.8123 - accuracy: 0.3350 - val_loss: 1.8503 - val_accuracy: 0.3100\n",
      "Epoch 45/50\n",
      "117/117 [==============================] - ETA: 0s - loss: 1.7959 - accuracy: 0.3564\n",
      "Epoch 45: saving model to model_save\\weights2-45.hdf5\n",
      "Val_F1score =  0.3433333333333333\n",
      "117/117 [==============================] - 15s 124ms/step - loss: 1.7959 - accuracy: 0.3564 - val_loss: 1.8203 - val_accuracy: 0.3433\n",
      "Epoch 46/50\n",
      "117/117 [==============================] - ETA: 0s - loss: 1.7794 - accuracy: 0.3386\n",
      "Epoch 46: saving model to model_save\\weights2-46.hdf5\n",
      "Val_F1score =  0.295\n",
      "117/117 [==============================] - 15s 130ms/step - loss: 1.7794 - accuracy: 0.3386 - val_loss: 1.7891 - val_accuracy: 0.2950\n",
      "Epoch 47/50\n",
      "117/117 [==============================] - ETA: 0s - loss: 1.7515 - accuracy: 0.3307\n",
      "Epoch 47: saving model to model_save\\weights2-47.hdf5\n",
      "Val_F1score =  0.3433333333333333\n",
      "117/117 [==============================] - 15s 129ms/step - loss: 1.7515 - accuracy: 0.3307 - val_loss: 1.8176 - val_accuracy: 0.3433\n",
      "Epoch 48/50\n",
      "117/117 [==============================] - ETA: 0s - loss: 1.7482 - accuracy: 0.3514\n",
      "Epoch 48: saving model to model_save\\weights2-48.hdf5\n",
      "Val_F1score =  0.23833333333333334\n",
      "117/117 [==============================] - 15s 127ms/step - loss: 1.7482 - accuracy: 0.3514 - val_loss: 1.8610 - val_accuracy: 0.2383\n",
      "Epoch 49/50\n",
      "117/117 [==============================] - ETA: 0s - loss: 1.7346 - accuracy: 0.3607\n",
      "Epoch 49: saving model to model_save\\weights2-49.hdf5\n",
      "Val_F1score =  0.3466666666666667\n",
      "117/117 [==============================] - 15s 126ms/step - loss: 1.7346 - accuracy: 0.3607 - val_loss: 1.7741 - val_accuracy: 0.3467\n",
      "Epoch 50/50\n",
      "117/117 [==============================] - ETA: 0s - loss: 1.7052 - accuracy: 0.3607\n",
      "Epoch 50: saving model to model_save\\weights2-50.hdf5\n",
      "Val_F1score =  0.36\n",
      "117/117 [==============================] - 15s 124ms/step - loss: 1.7052 - accuracy: 0.3607 - val_loss: 1.8084 - val_accuracy: 0.3600\n"
     ]
    },
    {
     "data": {
      "text/plain": [
       "<keras.callbacks.History at 0x276266a2710>"
      ]
     },
     "execution_count": 51,
     "metadata": {},
     "output_type": "execute_result"
    }
   ],
   "source": [
    "model1.fit(X_train_spectrogram, y_train_int, epochs=50,verbose=1,batch_size=12, callbacks =callbacks, validation_data=(X_test_spectrogram,y_test_int))"
   ]
  },
  {
   "cell_type": "code",
   "execution_count": 52,
   "metadata": {},
   "outputs": [
    {
     "name": "stdout",
     "output_type": "stream",
     "text": [
      "Epoch 1/50\n",
      "117/117 [==============================] - ETA: 0s - loss: 1.7144 - accuracy: 0.3571\n",
      "Epoch 1: saving model to model_save\\weights2-01.hdf5\n",
      "Val_F1score =  0.37666666666666665\n",
      "117/117 [==============================] - 15s 131ms/step - loss: 1.7144 - accuracy: 0.3571 - val_loss: 1.7144 - val_accuracy: 0.3767\n",
      "Epoch 2/50\n",
      "117/117 [==============================] - ETA: 0s - loss: 1.6762 - accuracy: 0.3779\n",
      "Epoch 2: saving model to model_save\\weights2-02.hdf5\n",
      "Val_F1score =  0.375\n",
      "117/117 [==============================] - 15s 129ms/step - loss: 1.6762 - accuracy: 0.3779 - val_loss: 1.7140 - val_accuracy: 0.3750\n",
      "Epoch 3/50\n",
      "117/117 [==============================] - ETA: 0s - loss: 1.6561 - accuracy: 0.3814\n",
      "Epoch 3: saving model to model_save\\weights2-03.hdf5\n",
      "Val_F1score =  0.325\n",
      "117/117 [==============================] - 15s 130ms/step - loss: 1.6561 - accuracy: 0.3814 - val_loss: 1.6915 - val_accuracy: 0.3250\n",
      "Epoch 4/50\n",
      "117/117 [==============================] - ETA: 0s - loss: 1.6774 - accuracy: 0.3600\n",
      "Epoch 4: saving model to model_save\\weights2-04.hdf5\n",
      "Val_F1score =  0.36499999999999994\n",
      "117/117 [==============================] - 15s 128ms/step - loss: 1.6774 - accuracy: 0.3600 - val_loss: 1.7180 - val_accuracy: 0.3650\n",
      "Epoch 5/50\n",
      "117/117 [==============================] - ETA: 0s - loss: 1.6567 - accuracy: 0.3686\n",
      "Epoch 5: saving model to model_save\\weights2-05.hdf5\n",
      "Val_F1score =  0.2866666666666667\n",
      "117/117 [==============================] - 15s 127ms/step - loss: 1.6567 - accuracy: 0.3686 - val_loss: 1.7836 - val_accuracy: 0.2867\n",
      "Epoch 6/50\n",
      "117/117 [==============================] - ETA: 0s - loss: 1.6269 - accuracy: 0.3721\n",
      "Epoch 6: saving model to model_save\\weights2-06.hdf5\n",
      "Val_F1score =  0.33\n",
      "117/117 [==============================] - 15s 129ms/step - loss: 1.6269 - accuracy: 0.3721 - val_loss: 1.7445 - val_accuracy: 0.3300\n",
      "Epoch 7/50\n",
      "117/117 [==============================] - ETA: 0s - loss: 1.6273 - accuracy: 0.3800\n",
      "Epoch 7: saving model to model_save\\weights2-07.hdf5\n",
      "Val_F1score =  0.36833333333333335\n",
      "117/117 [==============================] - 15s 127ms/step - loss: 1.6273 - accuracy: 0.3800 - val_loss: 1.6869 - val_accuracy: 0.3683\n",
      "Epoch 8/50\n",
      "117/117 [==============================] - ETA: 0s - loss: 1.6054 - accuracy: 0.3736\n",
      "Epoch 8: saving model to model_save\\weights2-08.hdf5\n",
      "Val_F1score =  0.37166666666666665\n",
      "117/117 [==============================] - 15s 128ms/step - loss: 1.6054 - accuracy: 0.3736 - val_loss: 1.7028 - val_accuracy: 0.3717\n",
      "Epoch 9/50\n",
      "117/117 [==============================] - ETA: 0s - loss: 1.5759 - accuracy: 0.3843\n",
      "Epoch 9: saving model to model_save\\weights2-09.hdf5\n",
      "Val_F1score =  0.405\n",
      "117/117 [==============================] - 15s 128ms/step - loss: 1.5759 - accuracy: 0.3843 - val_loss: 1.6101 - val_accuracy: 0.4050\n",
      "Epoch 10/50\n",
      "117/117 [==============================] - ETA: 0s - loss: 1.5973 - accuracy: 0.3707\n",
      "Epoch 10: saving model to model_save\\weights2-10.hdf5\n",
      "Val_F1score =  0.315\n",
      "117/117 [==============================] - 15s 127ms/step - loss: 1.5973 - accuracy: 0.3707 - val_loss: 1.8351 - val_accuracy: 0.3150\n",
      "Epoch 11/50\n",
      "117/117 [==============================] - ETA: 0s - loss: 1.6269 - accuracy: 0.3550\n",
      "Epoch 11: saving model to model_save\\weights2-11.hdf5\n",
      "Val_F1score =  0.4000000000000001\n",
      "117/117 [==============================] - 15s 128ms/step - loss: 1.6269 - accuracy: 0.3550 - val_loss: 1.6068 - val_accuracy: 0.4000\n",
      "Epoch 12/50\n",
      "117/117 [==============================] - ETA: 0s - loss: 1.5338 - accuracy: 0.4086\n",
      "Epoch 12: saving model to model_save\\weights2-12.hdf5\n",
      "Val_F1score =  0.43666666666666665\n",
      "117/117 [==============================] - 15s 129ms/step - loss: 1.5338 - accuracy: 0.4086 - val_loss: 1.5771 - val_accuracy: 0.4367\n",
      "Epoch 13/50\n",
      "117/117 [==============================] - ETA: 0s - loss: 1.5267 - accuracy: 0.4186\n",
      "Epoch 13: saving model to model_save\\weights2-13.hdf5\n",
      "Val_F1score =  0.38666666666666666\n",
      "117/117 [==============================] - 15s 127ms/step - loss: 1.5267 - accuracy: 0.4186 - val_loss: 1.6163 - val_accuracy: 0.3867\n",
      "Epoch 14/50\n",
      "117/117 [==============================] - ETA: 0s - loss: 1.5385 - accuracy: 0.4093\n",
      "Epoch 14: saving model to model_save\\weights2-14.hdf5\n",
      "Val_F1score =  0.31833333333333336\n",
      "117/117 [==============================] - 15s 127ms/step - loss: 1.5385 - accuracy: 0.4093 - val_loss: 1.9398 - val_accuracy: 0.3183\n",
      "Epoch 15/50\n",
      "117/117 [==============================] - ETA: 0s - loss: 1.5330 - accuracy: 0.4150\n",
      "Epoch 15: saving model to model_save\\weights2-15.hdf5\n",
      "Val_F1score =  0.42333333333333334\n",
      "117/117 [==============================] - 15s 129ms/step - loss: 1.5330 - accuracy: 0.4150 - val_loss: 1.5424 - val_accuracy: 0.4233\n",
      "Epoch 16/50\n",
      "117/117 [==============================] - ETA: 0s - loss: 1.4704 - accuracy: 0.4336\n",
      "Epoch 16: saving model to model_save\\weights2-16.hdf5\n",
      "Val_F1score =  0.35500000000000004\n",
      "117/117 [==============================] - 15s 126ms/step - loss: 1.4704 - accuracy: 0.4336 - val_loss: 1.6463 - val_accuracy: 0.3550\n",
      "Epoch 17/50\n",
      "117/117 [==============================] - ETA: 0s - loss: 1.4983 - accuracy: 0.4193\n",
      "Epoch 17: saving model to model_save\\weights2-17.hdf5\n",
      "Val_F1score =  0.37333333333333335\n",
      "117/117 [==============================] - 15s 129ms/step - loss: 1.4983 - accuracy: 0.4193 - val_loss: 1.5740 - val_accuracy: 0.3733\n",
      "Epoch 18/50\n",
      "117/117 [==============================] - ETA: 0s - loss: 1.4814 - accuracy: 0.4136\n",
      "Epoch 18: saving model to model_save\\weights2-18.hdf5\n",
      "Val_F1score =  0.4483333333333333\n",
      "117/117 [==============================] - 15s 128ms/step - loss: 1.4814 - accuracy: 0.4136 - val_loss: 1.5103 - val_accuracy: 0.4483\n",
      "Epoch 19/50\n",
      "117/117 [==============================] - ETA: 0s - loss: 1.4639 - accuracy: 0.4314\n",
      "Epoch 19: saving model to model_save\\weights2-19.hdf5\n",
      "Val_F1score =  0.37333333333333335\n",
      "117/117 [==============================] - 15s 125ms/step - loss: 1.4639 - accuracy: 0.4314 - val_loss: 1.5668 - val_accuracy: 0.3733\n",
      "Epoch 20/50\n",
      "117/117 [==============================] - ETA: 0s - loss: 1.4675 - accuracy: 0.4400\n",
      "Epoch 20: saving model to model_save\\weights2-20.hdf5\n",
      "Val_F1score =  0.43833333333333335\n",
      "117/117 [==============================] - 15s 129ms/step - loss: 1.4675 - accuracy: 0.4400 - val_loss: 1.5116 - val_accuracy: 0.4383\n",
      "Epoch 21/50\n",
      "117/117 [==============================] - ETA: 0s - loss: 1.4485 - accuracy: 0.4393\n",
      "Epoch 21: saving model to model_save\\weights2-21.hdf5\n",
      "Val_F1score =  0.33166666666666667\n",
      "117/117 [==============================] - 15s 126ms/step - loss: 1.4485 - accuracy: 0.4393 - val_loss: 1.6472 - val_accuracy: 0.3317\n",
      "Epoch 22/50\n",
      "117/117 [==============================] - ETA: 0s - loss: 1.4569 - accuracy: 0.4386\n",
      "Epoch 22: saving model to model_save\\weights2-22.hdf5\n",
      "Val_F1score =  0.46\n",
      "117/117 [==============================] - 15s 128ms/step - loss: 1.4569 - accuracy: 0.4386 - val_loss: 1.4605 - val_accuracy: 0.4600\n",
      "Epoch 23/50\n",
      "117/117 [==============================] - ETA: 0s - loss: 1.4206 - accuracy: 0.4614\n",
      "Epoch 23: saving model to model_save\\weights2-23.hdf5\n",
      "Val_F1score =  0.40333333333333327\n",
      "117/117 [==============================] - 15s 130ms/step - loss: 1.4206 - accuracy: 0.4614 - val_loss: 1.5352 - val_accuracy: 0.4033\n",
      "Epoch 24/50\n",
      "117/117 [==============================] - ETA: 0s - loss: 1.3947 - accuracy: 0.4571\n",
      "Epoch 24: saving model to model_save\\weights2-24.hdf5\n",
      "Val_F1score =  0.41833333333333333\n",
      "117/117 [==============================] - 15s 126ms/step - loss: 1.3947 - accuracy: 0.4571 - val_loss: 1.4895 - val_accuracy: 0.4183\n",
      "Epoch 25/50\n",
      "117/117 [==============================] - ETA: 0s - loss: 1.4115 - accuracy: 0.4321\n",
      "Epoch 25: saving model to model_save\\weights2-25.hdf5\n",
      "Val_F1score =  0.43666666666666665\n",
      "117/117 [==============================] - 15s 126ms/step - loss: 1.4115 - accuracy: 0.4321 - val_loss: 1.4716 - val_accuracy: 0.4367\n",
      "Epoch 26/50\n",
      "117/117 [==============================] - ETA: 0s - loss: 1.3589 - accuracy: 0.4800\n",
      "Epoch 26: saving model to model_save\\weights2-26.hdf5\n",
      "Val_F1score =  0.41833333333333333\n",
      "117/117 [==============================] - 15s 125ms/step - loss: 1.3589 - accuracy: 0.4800 - val_loss: 1.4585 - val_accuracy: 0.4183\n"
     ]
    },
    {
     "name": "stdout",
     "output_type": "stream",
     "text": [
      "Epoch 27/50\n",
      "117/117 [==============================] - ETA: 0s - loss: 1.3739 - accuracy: 0.4700\n",
      "Epoch 27: saving model to model_save\\weights2-27.hdf5\n",
      "Val_F1score =  0.415\n",
      "117/117 [==============================] - 15s 127ms/step - loss: 1.3739 - accuracy: 0.4700 - val_loss: 1.4756 - val_accuracy: 0.4150\n",
      "Epoch 28/50\n",
      "117/117 [==============================] - ETA: 0s - loss: 1.3396 - accuracy: 0.4843\n",
      "Epoch 28: saving model to model_save\\weights2-28.hdf5\n",
      "Val_F1score =  0.5033333333333333\n",
      "117/117 [==============================] - 15s 130ms/step - loss: 1.3396 - accuracy: 0.4843 - val_loss: 1.3713 - val_accuracy: 0.5033\n",
      "Epoch 29/50\n",
      "117/117 [==============================] - ETA: 0s - loss: 1.3655 - accuracy: 0.4693\n",
      "Epoch 29: saving model to model_save\\weights2-29.hdf5\n",
      "Val_F1score =  0.4483333333333333\n",
      "117/117 [==============================] - 15s 128ms/step - loss: 1.3655 - accuracy: 0.4693 - val_loss: 1.4405 - val_accuracy: 0.4483\n",
      "Epoch 30/50\n",
      "117/117 [==============================] - ETA: 0s - loss: 1.3324 - accuracy: 0.4714\n",
      "Epoch 30: saving model to model_save\\weights2-30.hdf5\n",
      "Val_F1score =  0.435\n",
      "117/117 [==============================] - 15s 129ms/step - loss: 1.3324 - accuracy: 0.4714 - val_loss: 1.4815 - val_accuracy: 0.4350\n",
      "Epoch 31/50\n",
      "117/117 [==============================] - ETA: 0s - loss: 1.3357 - accuracy: 0.4786\n",
      "Epoch 31: saving model to model_save\\weights2-31.hdf5\n",
      "Val_F1score =  0.445\n",
      "117/117 [==============================] - 15s 131ms/step - loss: 1.3357 - accuracy: 0.4786 - val_loss: 1.4311 - val_accuracy: 0.4450\n",
      "Epoch 32/50\n",
      "117/117 [==============================] - ETA: 0s - loss: 1.3230 - accuracy: 0.4686\n",
      "Epoch 32: saving model to model_save\\weights2-32.hdf5\n",
      "Val_F1score =  0.5033333333333333\n",
      "117/117 [==============================] - 15s 127ms/step - loss: 1.3230 - accuracy: 0.4686 - val_loss: 1.3588 - val_accuracy: 0.5033\n",
      "Epoch 33/50\n",
      "117/117 [==============================] - ETA: 0s - loss: 1.3482 - accuracy: 0.4621\n",
      "Epoch 33: saving model to model_save\\weights2-33.hdf5\n",
      "Val_F1score =  0.4633333333333333\n",
      "117/117 [==============================] - 15s 129ms/step - loss: 1.3482 - accuracy: 0.4621 - val_loss: 1.4262 - val_accuracy: 0.4633\n",
      "Epoch 34/50\n",
      "117/117 [==============================] - ETA: 0s - loss: 1.2695 - accuracy: 0.5086\n",
      "Epoch 34: saving model to model_save\\weights2-34.hdf5\n",
      "Val_F1score =  0.4583333333333333\n",
      "117/117 [==============================] - 15s 128ms/step - loss: 1.2695 - accuracy: 0.5086 - val_loss: 1.4224 - val_accuracy: 0.4583\n",
      "Epoch 35/50\n",
      "117/117 [==============================] - ETA: 0s - loss: 1.2932 - accuracy: 0.4771\n",
      "Epoch 35: saving model to model_save\\weights2-35.hdf5\n",
      "Val_F1score =  0.5233333333333333\n",
      "117/117 [==============================] - 15s 130ms/step - loss: 1.2932 - accuracy: 0.4771 - val_loss: 1.3308 - val_accuracy: 0.5233\n",
      "Epoch 36/50\n",
      "117/117 [==============================] - ETA: 0s - loss: 1.2840 - accuracy: 0.4993\n",
      "Epoch 36: saving model to model_save\\weights2-36.hdf5\n",
      "Val_F1score =  0.435\n",
      "117/117 [==============================] - 15s 130ms/step - loss: 1.2840 - accuracy: 0.4993 - val_loss: 1.4303 - val_accuracy: 0.4350\n",
      "Epoch 37/50\n",
      "117/117 [==============================] - ETA: 0s - loss: 1.2746 - accuracy: 0.5200\n",
      "Epoch 37: saving model to model_save\\weights2-37.hdf5\n",
      "Val_F1score =  0.49166666666666664\n",
      "117/117 [==============================] - 15s 129ms/step - loss: 1.2746 - accuracy: 0.5200 - val_loss: 1.3430 - val_accuracy: 0.4917\n",
      "Epoch 38/50\n",
      "117/117 [==============================] - ETA: 0s - loss: 1.2019 - accuracy: 0.5329\n",
      "Epoch 38: saving model to model_save\\weights2-38.hdf5\n",
      "Val_F1score =  0.48\n",
      "117/117 [==============================] - 15s 126ms/step - loss: 1.2019 - accuracy: 0.5329 - val_loss: 1.3661 - val_accuracy: 0.4800\n",
      "Epoch 39/50\n",
      "117/117 [==============================] - ETA: 0s - loss: 1.2165 - accuracy: 0.5357\n",
      "Epoch 39: saving model to model_save\\weights2-39.hdf5\n",
      "Val_F1score =  0.515\n",
      "117/117 [==============================] - 15s 129ms/step - loss: 1.2165 - accuracy: 0.5357 - val_loss: 1.3153 - val_accuracy: 0.5150\n",
      "Epoch 40/50\n",
      "117/117 [==============================] - ETA: 0s - loss: 1.2148 - accuracy: 0.5200\n",
      "Epoch 40: saving model to model_save\\weights2-40.hdf5\n",
      "Val_F1score =  0.5216666666666666\n",
      "117/117 [==============================] - 14s 122ms/step - loss: 1.2148 - accuracy: 0.5200 - val_loss: 1.2831 - val_accuracy: 0.5217\n",
      "Epoch 41/50\n",
      "117/117 [==============================] - ETA: 0s - loss: 1.1586 - accuracy: 0.5493\n",
      "Epoch 41: saving model to model_save\\weights2-41.hdf5\n",
      "Val_F1score =  0.5066666666666667\n",
      "117/117 [==============================] - 14s 122ms/step - loss: 1.1586 - accuracy: 0.5493 - val_loss: 1.3236 - val_accuracy: 0.5067\n",
      "Epoch 42/50\n",
      "117/117 [==============================] - ETA: 0s - loss: 1.1580 - accuracy: 0.5621\n",
      "Epoch 42: saving model to model_save\\weights2-42.hdf5\n",
      "Val_F1score =  0.52\n",
      "117/117 [==============================] - 14s 122ms/step - loss: 1.1580 - accuracy: 0.5621 - val_loss: 1.2289 - val_accuracy: 0.5200\n",
      "Epoch 43/50\n",
      "117/117 [==============================] - ETA: 0s - loss: 1.1527 - accuracy: 0.5450\n",
      "Epoch 43: saving model to model_save\\weights2-43.hdf5\n",
      "Val_F1score =  0.4716666666666666\n",
      "117/117 [==============================] - 14s 122ms/step - loss: 1.1527 - accuracy: 0.5450 - val_loss: 1.3443 - val_accuracy: 0.4717\n",
      "Epoch 44/50\n",
      "117/117 [==============================] - ETA: 0s - loss: 1.1349 - accuracy: 0.5686\n",
      "Epoch 44: saving model to model_save\\weights2-44.hdf5\n",
      "Val_F1score =  0.5566666666666666\n",
      "117/117 [==============================] - 15s 125ms/step - loss: 1.1349 - accuracy: 0.5686 - val_loss: 1.2212 - val_accuracy: 0.5567\n",
      "Epoch 45/50\n",
      "117/117 [==============================] - ETA: 0s - loss: 1.1447 - accuracy: 0.5650\n",
      "Epoch 45: saving model to model_save\\weights2-45.hdf5\n",
      "Val_F1score =  0.4533333333333333\n",
      "117/117 [==============================] - 15s 132ms/step - loss: 1.1447 - accuracy: 0.5650 - val_loss: 1.5798 - val_accuracy: 0.4533\n",
      "Epoch 46/50\n",
      "117/117 [==============================] - ETA: 0s - loss: 1.1360 - accuracy: 0.5700\n",
      "Epoch 46: saving model to model_save\\weights2-46.hdf5\n",
      "Val_F1score =  0.57\n",
      "117/117 [==============================] - 15s 127ms/step - loss: 1.1360 - accuracy: 0.5700 - val_loss: 1.1821 - val_accuracy: 0.5700\n",
      "Epoch 47/50\n",
      "117/117 [==============================] - ETA: 0s - loss: 1.0791 - accuracy: 0.5714\n",
      "Epoch 47: saving model to model_save\\weights2-47.hdf5\n",
      "Val_F1score =  0.5666666666666667\n",
      "117/117 [==============================] - 15s 130ms/step - loss: 1.0791 - accuracy: 0.5714 - val_loss: 1.1814 - val_accuracy: 0.5667\n",
      "Epoch 48/50\n",
      "117/117 [==============================] - ETA: 0s - loss: 1.0963 - accuracy: 0.5786\n",
      "Epoch 48: saving model to model_save\\weights2-48.hdf5\n",
      "Val_F1score =  0.5716666666666667\n",
      "117/117 [==============================] - 15s 128ms/step - loss: 1.0963 - accuracy: 0.5786 - val_loss: 1.1550 - val_accuracy: 0.5717\n",
      "Epoch 49/50\n",
      "117/117 [==============================] - ETA: 0s - loss: 1.0186 - accuracy: 0.6079\n",
      "Epoch 49: saving model to model_save\\weights2-49.hdf5\n",
      "Val_F1score =  0.5716666666666667\n",
      "117/117 [==============================] - 15s 132ms/step - loss: 1.0186 - accuracy: 0.6079 - val_loss: 1.1459 - val_accuracy: 0.5717\n",
      "Epoch 50/50\n",
      "117/117 [==============================] - ETA: 0s - loss: 1.0341 - accuracy: 0.5986\n",
      "Epoch 50: saving model to model_save\\weights2-50.hdf5\n",
      "Val_F1score =  0.5816666666666667\n",
      "117/117 [==============================] - 15s 131ms/step - loss: 1.0341 - accuracy: 0.5986 - val_loss: 1.1247 - val_accuracy: 0.5817\n"
     ]
    },
    {
     "data": {
      "text/plain": [
       "<keras.callbacks.History at 0x27626c4e4a0>"
      ]
     },
     "execution_count": 52,
     "metadata": {},
     "output_type": "execute_result"
    }
   ],
   "source": [
    "model1.fit(X_train_spectrogram, y_train_int, epochs=50,verbose=1,batch_size=12, callbacks =callbacks, validation_data=(X_test_spectrogram,y_test_int))"
   ]
  },
  {
   "cell_type": "code",
   "execution_count": 53,
   "metadata": {},
   "outputs": [
    {
     "name": "stdout",
     "output_type": "stream",
     "text": [
      "Epoch 1/50\n",
      "117/117 [==============================] - ETA: 0s - loss: 1.0006 - accuracy: 0.6093\n",
      "Epoch 1: saving model to model_save\\weights2-01.hdf5\n",
      "Val_F1score =  0.585\n",
      "117/117 [==============================] - 15s 132ms/step - loss: 1.0006 - accuracy: 0.6093 - val_loss: 1.0448 - val_accuracy: 0.5850\n",
      "Epoch 2/50\n",
      "117/117 [==============================] - ETA: 0s - loss: 1.0292 - accuracy: 0.6007\n",
      "Epoch 2: saving model to model_save\\weights2-02.hdf5\n",
      "Val_F1score =  0.5733333333333334\n",
      "117/117 [==============================] - 15s 126ms/step - loss: 1.0292 - accuracy: 0.6007 - val_loss: 1.1188 - val_accuracy: 0.5733\n",
      "Epoch 3/50\n",
      "117/117 [==============================] - ETA: 0s - loss: 0.9854 - accuracy: 0.6293\n",
      "Epoch 3: saving model to model_save\\weights2-03.hdf5\n",
      "Val_F1score =  0.555\n",
      "117/117 [==============================] - 15s 127ms/step - loss: 0.9854 - accuracy: 0.6293 - val_loss: 1.1204 - val_accuracy: 0.5550\n",
      "Epoch 4/50\n",
      "117/117 [==============================] - ETA: 0s - loss: 0.9774 - accuracy: 0.6379\n",
      "Epoch 4: saving model to model_save\\weights2-04.hdf5\n",
      "Val_F1score =  0.5833333333333334\n",
      "117/117 [==============================] - 14s 124ms/step - loss: 0.9774 - accuracy: 0.6379 - val_loss: 1.0893 - val_accuracy: 0.5833\n",
      "Epoch 5/50\n",
      "117/117 [==============================] - ETA: 0s - loss: 0.9177 - accuracy: 0.6486\n",
      "Epoch 5: saving model to model_save\\weights2-05.hdf5\n",
      "Val_F1score =  0.6083333333333333\n",
      "117/117 [==============================] - 15s 126ms/step - loss: 0.9177 - accuracy: 0.6486 - val_loss: 1.0156 - val_accuracy: 0.6083\n",
      "Epoch 6/50\n",
      "117/117 [==============================] - ETA: 0s - loss: 0.8978 - accuracy: 0.6521\n",
      "Epoch 6: saving model to model_save\\weights2-06.hdf5\n",
      "Val_F1score =  0.6183333333333333\n",
      "117/117 [==============================] - 16s 135ms/step - loss: 0.8978 - accuracy: 0.6521 - val_loss: 0.9907 - val_accuracy: 0.6183\n",
      "Epoch 7/50\n",
      "117/117 [==============================] - ETA: 0s - loss: 0.9582 - accuracy: 0.6207\n",
      "Epoch 7: saving model to model_save\\weights2-07.hdf5\n",
      "Val_F1score =  0.66\n",
      "117/117 [==============================] - 18s 152ms/step - loss: 0.9582 - accuracy: 0.6207 - val_loss: 0.9342 - val_accuracy: 0.6600\n",
      "Epoch 8/50\n",
      "117/117 [==============================] - ETA: 0s - loss: 0.9486 - accuracy: 0.6436\n",
      "Epoch 8: saving model to model_save\\weights2-08.hdf5\n",
      "Val_F1score =  0.6333333333333333\n",
      "117/117 [==============================] - 17s 150ms/step - loss: 0.9486 - accuracy: 0.6436 - val_loss: 0.9680 - val_accuracy: 0.6333\n",
      "Epoch 9/50\n",
      "117/117 [==============================] - ETA: 0s - loss: 0.8967 - accuracy: 0.6571\n",
      "Epoch 9: saving model to model_save\\weights2-09.hdf5\n",
      "Val_F1score =  0.61\n",
      "117/117 [==============================] - 18s 152ms/step - loss: 0.8967 - accuracy: 0.6571 - val_loss: 1.0376 - val_accuracy: 0.6100\n",
      "Epoch 10/50\n",
      "117/117 [==============================] - ETA: 0s - loss: 0.8535 - accuracy: 0.6757\n",
      "Epoch 10: saving model to model_save\\weights2-10.hdf5\n",
      "Val_F1score =  0.6616666666666666\n",
      "117/117 [==============================] - 17s 148ms/step - loss: 0.8535 - accuracy: 0.6757 - val_loss: 0.8907 - val_accuracy: 0.6617\n",
      "Epoch 11/50\n",
      "117/117 [==============================] - ETA: 0s - loss: 0.8432 - accuracy: 0.6671\n",
      "Epoch 11: saving model to model_save\\weights2-11.hdf5\n",
      "Val_F1score =  0.6433333333333333\n",
      "117/117 [==============================] - 17s 146ms/step - loss: 0.8432 - accuracy: 0.6671 - val_loss: 0.9883 - val_accuracy: 0.6433\n",
      "Epoch 12/50\n",
      "117/117 [==============================] - ETA: 0s - loss: 0.8352 - accuracy: 0.6793\n",
      "Epoch 12: saving model to model_save\\weights2-12.hdf5\n",
      "Val_F1score =  0.6233333333333333\n",
      "117/117 [==============================] - 18s 156ms/step - loss: 0.8352 - accuracy: 0.6793 - val_loss: 1.0541 - val_accuracy: 0.6233\n",
      "Epoch 13/50\n",
      "117/117 [==============================] - ETA: 0s - loss: 0.8187 - accuracy: 0.7021\n",
      "Epoch 13: saving model to model_save\\weights2-13.hdf5\n",
      "Val_F1score =  0.64\n",
      "117/117 [==============================] - 18s 156ms/step - loss: 0.8187 - accuracy: 0.7021 - val_loss: 0.9599 - val_accuracy: 0.6400\n",
      "Epoch 14/50\n",
      "117/117 [==============================] - ETA: 0s - loss: 0.8113 - accuracy: 0.6829\n",
      "Epoch 14: saving model to model_save\\weights2-14.hdf5\n",
      "Val_F1score =  0.6933333333333334\n",
      "117/117 [==============================] - 18s 156ms/step - loss: 0.8113 - accuracy: 0.6829 - val_loss: 0.8771 - val_accuracy: 0.6933\n",
      "Epoch 15/50\n",
      "117/117 [==============================] - ETA: 0s - loss: 364.5999 - accuracy: 0.4643\n",
      "Epoch 15: saving model to model_save\\weights2-15.hdf5\n",
      "Val_F1score =  0.175\n",
      "117/117 [==============================] - 18s 156ms/step - loss: 364.5999 - accuracy: 0.4643 - val_loss: 2.4818 - val_accuracy: 0.1750\n",
      "Epoch 16/50\n",
      "117/117 [==============================] - ETA: 0s - loss: 2.1939 - accuracy: 0.1850\n",
      "Epoch 16: saving model to model_save\\weights2-16.hdf5\n",
      "Val_F1score =  0.18166666666666664\n",
      "117/117 [==============================] - 18s 156ms/step - loss: 2.1939 - accuracy: 0.1850 - val_loss: 2.1650 - val_accuracy: 0.1817\n",
      "Epoch 17/50\n",
      "117/117 [==============================] - ETA: 0s - loss: 2.1589 - accuracy: 0.1957\n",
      "Epoch 17: saving model to model_save\\weights2-17.hdf5\n",
      "Val_F1score =  0.17\n",
      "117/117 [==============================] - 18s 156ms/step - loss: 2.1589 - accuracy: 0.1957 - val_loss: 2.1318 - val_accuracy: 0.1700\n",
      "Epoch 18/50\n",
      "117/117 [==============================] - ETA: 0s - loss: 2.1288 - accuracy: 0.1879\n",
      "Epoch 18: saving model to model_save\\weights2-18.hdf5\n",
      "Val_F1score =  0.15666666666666668\n",
      "117/117 [==============================] - 18s 157ms/step - loss: 2.1288 - accuracy: 0.1879 - val_loss: 2.1100 - val_accuracy: 0.1567\n",
      "Epoch 19/50\n",
      "117/117 [==============================] - ETA: 0s - loss: 2.1092 - accuracy: 0.1771\n",
      "Epoch 19: saving model to model_save\\weights2-19.hdf5\n",
      "Val_F1score =  0.19\n",
      "117/117 [==============================] - 18s 150ms/step - loss: 2.1092 - accuracy: 0.1771 - val_loss: 2.0853 - val_accuracy: 0.1900\n",
      "Epoch 20/50\n",
      "117/117 [==============================] - ETA: 0s - loss: 2.0860 - accuracy: 0.1943\n",
      "Epoch 20: saving model to model_save\\weights2-20.hdf5\n",
      "Val_F1score =  0.19333333333333333\n",
      "117/117 [==============================] - 17s 148ms/step - loss: 2.0860 - accuracy: 0.1943 - val_loss: 2.0654 - val_accuracy: 0.1933\n",
      "Epoch 21/50\n",
      "117/117 [==============================] - ETA: 0s - loss: 2.0669 - accuracy: 0.2093\n",
      "Epoch 21: saving model to model_save\\weights2-21.hdf5\n",
      "Val_F1score =  0.20000000000000004\n",
      "117/117 [==============================] - 18s 151ms/step - loss: 2.0669 - accuracy: 0.2093 - val_loss: 2.0508 - val_accuracy: 0.2000\n",
      "Epoch 22/50\n",
      "117/117 [==============================] - ETA: 0s - loss: 2.0486 - accuracy: 0.2114\n",
      "Epoch 22: saving model to model_save\\weights2-22.hdf5\n",
      "Val_F1score =  0.18666666666666668\n",
      "117/117 [==============================] - 18s 150ms/step - loss: 2.0486 - accuracy: 0.2114 - val_loss: 2.0352 - val_accuracy: 0.1867\n",
      "Epoch 23/50\n",
      "117/117 [==============================] - ETA: 0s - loss: 2.0327 - accuracy: 0.2143\n",
      "Epoch 23: saving model to model_save\\weights2-23.hdf5\n",
      "Val_F1score =  0.20333333333333334\n",
      "117/117 [==============================] - 17s 149ms/step - loss: 2.0327 - accuracy: 0.2143 - val_loss: 2.0150 - val_accuracy: 0.2033\n",
      "Epoch 24/50\n",
      "117/117 [==============================] - ETA: 0s - loss: 2.0185 - accuracy: 0.2314\n",
      "Epoch 24: saving model to model_save\\weights2-24.hdf5\n",
      "Val_F1score =  0.19333333333333333\n",
      "117/117 [==============================] - 17s 147ms/step - loss: 2.0185 - accuracy: 0.2314 - val_loss: 2.0009 - val_accuracy: 0.1933\n",
      "Epoch 25/50\n",
      "117/117 [==============================] - ETA: 0s - loss: 2.0000 - accuracy: 0.2321\n",
      "Epoch 25: saving model to model_save\\weights2-25.hdf5\n",
      "Val_F1score =  0.19666666666666666\n",
      "117/117 [==============================] - 17s 149ms/step - loss: 2.0000 - accuracy: 0.2321 - val_loss: 1.9961 - val_accuracy: 0.1967\n",
      "Epoch 26/50\n",
      "117/117 [==============================] - ETA: 0s - loss: 1.9835 - accuracy: 0.2564\n",
      "Epoch 26: saving model to model_save\\weights2-26.hdf5\n",
      "Val_F1score =  0.25166666666666665\n",
      "117/117 [==============================] - 18s 150ms/step - loss: 1.9835 - accuracy: 0.2564 - val_loss: 1.9625 - val_accuracy: 0.2517\n",
      "Epoch 27/50\n",
      "117/117 [==============================] - ETA: 0s - loss: 1.9657 - accuracy: 0.2879\n",
      "Epoch 27: saving model to model_save\\weights2-27.hdf5\n",
      "Val_F1score =  0.235\n",
      "117/117 [==============================] - 18s 154ms/step - loss: 1.9657 - accuracy: 0.2879 - val_loss: 1.9488 - val_accuracy: 0.2350\n",
      "Epoch 28/50\n",
      "117/117 [==============================] - ETA: 0s - loss: 1.9507 - accuracy: 0.2929\n",
      "Epoch 28: saving model to model_save\\weights2-28.hdf5\n",
      "Val_F1score =  0.2816666666666667\n",
      "117/117 [==============================] - 18s 153ms/step - loss: 1.9507 - accuracy: 0.2929 - val_loss: 1.9358 - val_accuracy: 0.2817\n",
      "Epoch 29/50\n",
      "117/117 [==============================] - ETA: 0s - loss: 1.9332 - accuracy: 0.2950\n",
      "Epoch 29: saving model to model_save\\weights2-29.hdf5\n",
      "Val_F1score =  0.30666666666666664\n",
      "117/117 [==============================] - 18s 151ms/step - loss: 1.9332 - accuracy: 0.2950 - val_loss: 1.9271 - val_accuracy: 0.3067\n",
      "Epoch 30/50\n",
      "117/117 [==============================] - ETA: 0s - loss: 1.9171 - accuracy: 0.2993\n",
      "Epoch 30: saving model to model_save\\weights2-30.hdf5\n",
      "Val_F1score =  0.29333333333333333\n",
      "117/117 [==============================] - 18s 152ms/step - loss: 1.9171 - accuracy: 0.2993 - val_loss: 2.0263 - val_accuracy: 0.2933\n",
      "Epoch 31/50\n",
      "117/117 [==============================] - ETA: 0s - loss: 1.8980 - accuracy: 0.3114\n",
      "Epoch 31: saving model to model_save\\weights2-31.hdf5\n",
      "Val_F1score =  0.29333333333333333\n",
      "117/117 [==============================] - 18s 150ms/step - loss: 1.8980 - accuracy: 0.3114 - val_loss: 1.9165 - val_accuracy: 0.2933\n",
      "Epoch 32/50\n",
      "117/117 [==============================] - ETA: 0s - loss: 1.8761 - accuracy: 0.3236\n",
      "Epoch 32: saving model to model_save\\weights2-32.hdf5\n",
      "Val_F1score =  0.2733333333333333\n",
      "117/117 [==============================] - 17s 148ms/step - loss: 1.8761 - accuracy: 0.3236 - val_loss: 1.9212 - val_accuracy: 0.2733\n",
      "Epoch 33/50\n",
      "117/117 [==============================] - ETA: 0s - loss: 1.8566 - accuracy: 0.3264\n",
      "Epoch 33: saving model to model_save\\weights2-33.hdf5\n",
      "Val_F1score =  0.305\n",
      "117/117 [==============================] - 18s 150ms/step - loss: 1.8566 - accuracy: 0.3264 - val_loss: 1.8906 - val_accuracy: 0.3050\n",
      "Epoch 34/50\n",
      "117/117 [==============================] - ETA: 0s - loss: 1.8311 - accuracy: 0.3271\n",
      "Epoch 34: saving model to model_save\\weights2-34.hdf5\n",
      "Val_F1score =  0.36\n",
      "117/117 [==============================] - 18s 151ms/step - loss: 1.8311 - accuracy: 0.3271 - val_loss: 1.8936 - val_accuracy: 0.3600\n",
      "Epoch 35/50\n",
      "117/117 [==============================] - ETA: 0s - loss: 1.7998 - accuracy: 0.3307\n",
      "Epoch 35: saving model to model_save\\weights2-35.hdf5\n",
      "Val_F1score =  0.32666666666666666\n",
      "117/117 [==============================] - 18s 151ms/step - loss: 1.7998 - accuracy: 0.3307 - val_loss: 1.8436 - val_accuracy: 0.3267\n",
      "Epoch 36/50\n",
      "117/117 [==============================] - ETA: 0s - loss: 1.7767 - accuracy: 0.3486\n",
      "Epoch 36: saving model to model_save\\weights2-36.hdf5\n",
      "Val_F1score =  0.31666666666666665\n",
      "117/117 [==============================] - 17s 148ms/step - loss: 1.7767 - accuracy: 0.3486 - val_loss: 1.8144 - val_accuracy: 0.3167\n",
      "Epoch 37/50\n",
      "117/117 [==============================] - ETA: 0s - loss: 1.7514 - accuracy: 0.3514\n",
      "Epoch 37: saving model to model_save\\weights2-37.hdf5\n",
      "Val_F1score =  0.33666666666666667\n",
      "117/117 [==============================] - 17s 147ms/step - loss: 1.7514 - accuracy: 0.3514 - val_loss: 1.8313 - val_accuracy: 0.3367\n",
      "Epoch 38/50\n",
      "117/117 [==============================] - ETA: 0s - loss: 1.7574 - accuracy: 0.3607\n",
      "Epoch 38: saving model to model_save\\weights2-38.hdf5\n",
      "Val_F1score =  0.3233333333333333\n",
      "117/117 [==============================] - 17s 149ms/step - loss: 1.7574 - accuracy: 0.3607 - val_loss: 1.7545 - val_accuracy: 0.3233\n",
      "Epoch 39/50\n",
      "117/117 [==============================] - ETA: 0s - loss: 1.7368 - accuracy: 0.3600\n",
      "Epoch 39: saving model to model_save\\weights2-39.hdf5\n",
      "Val_F1score =  0.32\n",
      "117/117 [==============================] - 17s 149ms/step - loss: 1.7368 - accuracy: 0.3600 - val_loss: 1.7089 - val_accuracy: 0.3200\n",
      "Epoch 40/50\n",
      "117/117 [==============================] - ETA: 0s - loss: 1.6825 - accuracy: 0.3700\n",
      "Epoch 40: saving model to model_save\\weights2-40.hdf5\n",
      "Val_F1score =  0.345\n",
      "117/117 [==============================] - 14s 121ms/step - loss: 1.6825 - accuracy: 0.3700 - val_loss: 1.6678 - val_accuracy: 0.3450\n",
      "Epoch 41/50\n",
      "117/117 [==============================] - ETA: 0s - loss: 1.6536 - accuracy: 0.3821\n",
      "Epoch 41: saving model to model_save\\weights2-41.hdf5\n",
      "Val_F1score =  0.37166666666666665\n",
      "117/117 [==============================] - 13s 111ms/step - loss: 1.6536 - accuracy: 0.3821 - val_loss: 1.6482 - val_accuracy: 0.3717\n",
      "Epoch 42/50\n",
      "117/117 [==============================] - ETA: 0s - loss: 1.6351 - accuracy: 0.3936\n",
      "Epoch 42: saving model to model_save\\weights2-42.hdf5\n",
      "Val_F1score =  0.38166666666666665\n",
      "117/117 [==============================] - 13s 112ms/step - loss: 1.6351 - accuracy: 0.3936 - val_loss: 1.6399 - val_accuracy: 0.3817\n",
      "Epoch 43/50\n",
      "117/117 [==============================] - ETA: 0s - loss: 1.6033 - accuracy: 0.4129\n",
      "Epoch 43: saving model to model_save\\weights2-43.hdf5\n",
      "Val_F1score =  0.3633333333333333\n",
      "117/117 [==============================] - 13s 115ms/step - loss: 1.6033 - accuracy: 0.4129 - val_loss: 1.6326 - val_accuracy: 0.3633\n",
      "Epoch 44/50\n",
      "117/117 [==============================] - ETA: 0s - loss: 1.5657 - accuracy: 0.4207\n",
      "Epoch 44: saving model to model_save\\weights2-44.hdf5\n",
      "Val_F1score =  0.38333333333333336\n",
      "117/117 [==============================] - 13s 110ms/step - loss: 1.5657 - accuracy: 0.4207 - val_loss: 1.5626 - val_accuracy: 0.3833\n",
      "Epoch 45/50\n",
      "117/117 [==============================] - ETA: 0s - loss: 1.5289 - accuracy: 0.4307\n",
      "Epoch 45: saving model to model_save\\weights2-45.hdf5\n",
      "Val_F1score =  0.43833333333333335\n",
      "117/117 [==============================] - 13s 112ms/step - loss: 1.5289 - accuracy: 0.4307 - val_loss: 1.5996 - val_accuracy: 0.4383\n",
      "Epoch 46/50\n",
      "117/117 [==============================] - ETA: 0s - loss: 1.4938 - accuracy: 0.4536\n",
      "Epoch 46: saving model to model_save\\weights2-46.hdf5\n",
      "Val_F1score =  0.42666666666666675\n",
      "117/117 [==============================] - 14s 116ms/step - loss: 1.4938 - accuracy: 0.4536 - val_loss: 1.4919 - val_accuracy: 0.4267\n",
      "Epoch 47/50\n",
      "117/117 [==============================] - ETA: 0s - loss: 1.4543 - accuracy: 0.4429\n",
      "Epoch 47: saving model to model_save\\weights2-47.hdf5\n",
      "Val_F1score =  0.44666666666666666\n",
      "117/117 [==============================] - 13s 112ms/step - loss: 1.4543 - accuracy: 0.4429 - val_loss: 1.4827 - val_accuracy: 0.4467\n",
      "Epoch 48/50\n",
      "117/117 [==============================] - ETA: 0s - loss: 1.4157 - accuracy: 0.4671\n",
      "Epoch 48: saving model to model_save\\weights2-48.hdf5\n",
      "Val_F1score =  0.4633333333333333\n",
      "117/117 [==============================] - 13s 114ms/step - loss: 1.4157 - accuracy: 0.4671 - val_loss: 1.4261 - val_accuracy: 0.4633\n",
      "Epoch 49/50\n",
      "117/117 [==============================] - ETA: 0s - loss: 1.3814 - accuracy: 0.4500\n",
      "Epoch 49: saving model to model_save\\weights2-49.hdf5\n",
      "Val_F1score =  0.45666666666666667\n",
      "117/117 [==============================] - 13s 111ms/step - loss: 1.3814 - accuracy: 0.4500 - val_loss: 1.4059 - val_accuracy: 0.4567\n",
      "Epoch 50/50\n",
      "117/117 [==============================] - ETA: 0s - loss: 1.3451 - accuracy: 0.4507\n",
      "Epoch 50: saving model to model_save\\weights2-50.hdf5\n",
      "Val_F1score =  0.48333333333333334\n",
      "117/117 [==============================] - 13s 112ms/step - loss: 1.3451 - accuracy: 0.4507 - val_loss: 1.3499 - val_accuracy: 0.4833\n"
     ]
    },
    {
     "data": {
      "text/plain": [
       "<keras.callbacks.History at 0x27626d39210>"
      ]
     },
     "execution_count": 53,
     "metadata": {},
     "output_type": "execute_result"
    }
   ],
   "source": [
    "model1.fit(X_train_spectrogram, y_train_int, epochs=50,verbose=1,batch_size=12, callbacks =callbacks, validation_data=(X_test_spectrogram,y_test_int))"
   ]
  },
  {
   "cell_type": "code",
   "execution_count": 54,
   "metadata": {},
   "outputs": [
    {
     "name": "stdout",
     "output_type": "stream",
     "text": [
      "Epoch 1/50\n",
      "117/117 [==============================] - ETA: 0s - loss: 1.3085 - accuracy: 0.4871\n",
      "Epoch 1: saving model to model_save\\weights2-01.hdf5\n",
      "Val_F1score =  0.445\n",
      "117/117 [==============================] - 12s 103ms/step - loss: 1.3085 - accuracy: 0.4871 - val_loss: 1.3783 - val_accuracy: 0.4450\n",
      "Epoch 2/50\n",
      "117/117 [==============================] - ETA: 0s - loss: 1.2628 - accuracy: 0.5200\n",
      "Epoch 2: saving model to model_save\\weights2-02.hdf5\n",
      "Val_F1score =  0.515\n",
      "117/117 [==============================] - 13s 110ms/step - loss: 1.2628 - accuracy: 0.5200 - val_loss: 1.2908 - val_accuracy: 0.5150\n",
      "Epoch 3/50\n",
      "117/117 [==============================] - ETA: 0s - loss: 1.2418 - accuracy: 0.5250\n",
      "Epoch 3: saving model to model_save\\weights2-03.hdf5\n",
      "Val_F1score =  0.5083333333333333\n",
      "117/117 [==============================] - 13s 113ms/step - loss: 1.2418 - accuracy: 0.5250 - val_loss: 1.2808 - val_accuracy: 0.5083\n",
      "Epoch 4/50\n",
      "117/117 [==============================] - ETA: 0s - loss: 1.2934 - accuracy: 0.5129\n",
      "Epoch 4: saving model to model_save\\weights2-04.hdf5\n",
      "Val_F1score =  0.46166666666666667\n",
      "117/117 [==============================] - 13s 112ms/step - loss: 1.2934 - accuracy: 0.5129 - val_loss: 1.3641 - val_accuracy: 0.4617\n",
      "Epoch 5/50\n",
      "117/117 [==============================] - ETA: 0s - loss: 1.2767 - accuracy: 0.4936\n",
      "Epoch 5: saving model to model_save\\weights2-05.hdf5\n",
      "Val_F1score =  0.4816666666666667\n",
      "117/117 [==============================] - 13s 110ms/step - loss: 1.2767 - accuracy: 0.4936 - val_loss: 1.3190 - val_accuracy: 0.4817\n",
      "Epoch 6/50\n",
      "117/117 [==============================] - ETA: 0s - loss: 1.2517 - accuracy: 0.4936\n",
      "Epoch 6: saving model to model_save\\weights2-06.hdf5\n",
      "Val_F1score =  0.51\n",
      "117/117 [==============================] - 13s 113ms/step - loss: 1.2517 - accuracy: 0.4936 - val_loss: 1.2547 - val_accuracy: 0.5100\n",
      "Epoch 7/50\n",
      "117/117 [==============================] - ETA: 0s - loss: 1.2187 - accuracy: 0.5179\n",
      "Epoch 7: saving model to model_save\\weights2-07.hdf5\n",
      "Val_F1score =  0.5066666666666667\n",
      "117/117 [==============================] - 13s 113ms/step - loss: 1.2187 - accuracy: 0.5179 - val_loss: 1.2310 - val_accuracy: 0.5067\n",
      "Epoch 8/50\n",
      "117/117 [==============================] - ETA: 0s - loss: 1.2298 - accuracy: 0.5064\n",
      "Epoch 8: saving model to model_save\\weights2-08.hdf5\n",
      "Val_F1score =  0.4683333333333333\n",
      "117/117 [==============================] - 14s 116ms/step - loss: 1.2298 - accuracy: 0.5064 - val_loss: 1.2599 - val_accuracy: 0.4683\n",
      "Epoch 9/50\n",
      "117/117 [==============================] - ETA: 0s - loss: 1.1807 - accuracy: 0.5321\n",
      "Epoch 9: saving model to model_save\\weights2-09.hdf5\n",
      "Val_F1score =  0.525\n",
      "117/117 [==============================] - 13s 111ms/step - loss: 1.1807 - accuracy: 0.5321 - val_loss: 1.2106 - val_accuracy: 0.5250\n",
      "Epoch 10/50\n",
      "117/117 [==============================] - ETA: 0s - loss: 1.1634 - accuracy: 0.5436\n",
      "Epoch 10: saving model to model_save\\weights2-10.hdf5\n",
      "Val_F1score =  0.535\n",
      "117/117 [==============================] - 13s 115ms/step - loss: 1.1634 - accuracy: 0.5436 - val_loss: 1.1642 - val_accuracy: 0.5350\n",
      "Epoch 11/50\n",
      "117/117 [==============================] - ETA: 0s - loss: 1.1393 - accuracy: 0.5600\n",
      "Epoch 11: saving model to model_save\\weights2-11.hdf5\n",
      "Val_F1score =  0.5283333333333333\n",
      "117/117 [==============================] - 13s 115ms/step - loss: 1.1393 - accuracy: 0.5600 - val_loss: 1.1590 - val_accuracy: 0.5283\n",
      "Epoch 12/50\n",
      "117/117 [==============================] - ETA: 0s - loss: 1.1077 - accuracy: 0.5679\n",
      "Epoch 12: saving model to model_save\\weights2-12.hdf5\n",
      "Val_F1score =  0.5533333333333333\n",
      "117/117 [==============================] - 14s 116ms/step - loss: 1.1077 - accuracy: 0.5679 - val_loss: 1.1227 - val_accuracy: 0.5533\n",
      "Epoch 13/50\n",
      "117/117 [==============================] - ETA: 0s - loss: 1.1023 - accuracy: 0.5693\n",
      "Epoch 13: saving model to model_save\\weights2-13.hdf5\n",
      "Val_F1score =  0.5283333333333333\n",
      "117/117 [==============================] - 13s 112ms/step - loss: 1.1023 - accuracy: 0.5693 - val_loss: 1.1275 - val_accuracy: 0.5283\n",
      "Epoch 14/50\n",
      "117/117 [==============================] - ETA: 0s - loss: 1.0850 - accuracy: 0.5664\n",
      "Epoch 14: saving model to model_save\\weights2-14.hdf5\n",
      "Val_F1score =  0.5516666666666666\n",
      "117/117 [==============================] - 13s 114ms/step - loss: 1.0850 - accuracy: 0.5664 - val_loss: 1.1214 - val_accuracy: 0.5517\n",
      "Epoch 15/50\n",
      "117/117 [==============================] - ETA: 0s - loss: 1.0609 - accuracy: 0.5764\n",
      "Epoch 15: saving model to model_save\\weights2-15.hdf5\n",
      "Val_F1score =  0.5183333333333333\n",
      "117/117 [==============================] - 14s 115ms/step - loss: 1.0609 - accuracy: 0.5764 - val_loss: 1.2025 - val_accuracy: 0.5183\n",
      "Epoch 16/50\n",
      "117/117 [==============================] - ETA: 0s - loss: 1.0489 - accuracy: 0.5886\n",
      "Epoch 16: saving model to model_save\\weights2-16.hdf5\n",
      "Val_F1score =  0.555\n",
      "117/117 [==============================] - 13s 114ms/step - loss: 1.0489 - accuracy: 0.5886 - val_loss: 1.0871 - val_accuracy: 0.5550\n",
      "Epoch 17/50\n",
      "117/117 [==============================] - ETA: 0s - loss: 1.0345 - accuracy: 0.5914\n",
      "Epoch 17: saving model to model_save\\weights2-17.hdf5\n",
      "Val_F1score =  0.5366666666666666\n",
      "117/117 [==============================] - 13s 112ms/step - loss: 1.0345 - accuracy: 0.5914 - val_loss: 1.1346 - val_accuracy: 0.5367\n",
      "Epoch 18/50\n",
      "117/117 [==============================] - ETA: 0s - loss: 1.0295 - accuracy: 0.5779\n",
      "Epoch 18: saving model to model_save\\weights2-18.hdf5\n",
      "Val_F1score =  0.5783333333333334\n",
      "117/117 [==============================] - 13s 112ms/step - loss: 1.0295 - accuracy: 0.5779 - val_loss: 1.0425 - val_accuracy: 0.5783\n",
      "Epoch 19/50\n",
      "117/117 [==============================] - ETA: 0s - loss: 0.9853 - accuracy: 0.5993\n",
      "Epoch 19: saving model to model_save\\weights2-19.hdf5\n",
      "Val_F1score =  0.585\n",
      "117/117 [==============================] - 13s 113ms/step - loss: 0.9853 - accuracy: 0.5993 - val_loss: 1.0356 - val_accuracy: 0.5850\n",
      "Epoch 20/50\n",
      "117/117 [==============================] - ETA: 0s - loss: 0.9119 - accuracy: 0.6479\n",
      "Epoch 20: saving model to model_save\\weights2-20.hdf5\n",
      "Val_F1score =  0.6183333333333333\n",
      "117/117 [==============================] - 13s 114ms/step - loss: 0.9119 - accuracy: 0.6479 - val_loss: 1.0032 - val_accuracy: 0.6183\n",
      "Epoch 21/50\n",
      "117/117 [==============================] - ETA: 0s - loss: 0.8701 - accuracy: 0.6679\n",
      "Epoch 21: saving model to model_save\\weights2-21.hdf5\n",
      "Val_F1score =  0.6366666666666667\n",
      "117/117 [==============================] - 14s 117ms/step - loss: 0.8701 - accuracy: 0.6679 - val_loss: 0.9387 - val_accuracy: 0.6367\n",
      "Epoch 22/50\n",
      "117/117 [==============================] - ETA: 0s - loss: 0.8263 - accuracy: 0.6857\n",
      "Epoch 22: saving model to model_save\\weights2-22.hdf5\n",
      "Val_F1score =  0.6566666666666666\n",
      "117/117 [==============================] - 13s 114ms/step - loss: 0.8263 - accuracy: 0.6857 - val_loss: 0.8928 - val_accuracy: 0.6567\n",
      "Epoch 23/50\n",
      "117/117 [==============================] - ETA: 0s - loss: 0.7862 - accuracy: 0.6857\n",
      "Epoch 23: saving model to model_save\\weights2-23.hdf5\n",
      "Val_F1score =  0.6583333333333333\n",
      "117/117 [==============================] - 13s 115ms/step - loss: 0.7862 - accuracy: 0.6857 - val_loss: 0.9103 - val_accuracy: 0.6583\n",
      "Epoch 24/50\n",
      "117/117 [==============================] - ETA: 0s - loss: 0.7974 - accuracy: 0.6836\n",
      "Epoch 24: saving model to model_save\\weights2-24.hdf5\n",
      "Val_F1score =  0.6316666666666667\n",
      "117/117 [==============================] - 13s 114ms/step - loss: 0.7974 - accuracy: 0.6836 - val_loss: 0.9446 - val_accuracy: 0.6317\n",
      "Epoch 25/50\n",
      "117/117 [==============================] - ETA: 0s - loss: 0.7710 - accuracy: 0.6993\n",
      "Epoch 25: saving model to model_save\\weights2-25.hdf5\n",
      "Val_F1score =  0.675\n",
      "117/117 [==============================] - 14s 117ms/step - loss: 0.7710 - accuracy: 0.6993 - val_loss: 0.8733 - val_accuracy: 0.6750\n",
      "Epoch 26/50\n",
      "117/117 [==============================] - ETA: 0s - loss: 0.7668 - accuracy: 0.6943\n",
      "Epoch 26: saving model to model_save\\weights2-26.hdf5\n",
      "Val_F1score =  0.64\n",
      "117/117 [==============================] - 13s 114ms/step - loss: 0.7668 - accuracy: 0.6943 - val_loss: 0.8896 - val_accuracy: 0.6400\n",
      "Epoch 27/50\n",
      "117/117 [==============================] - ETA: 0s - loss: 0.7455 - accuracy: 0.6936\n",
      "Epoch 27: saving model to model_save\\weights2-27.hdf5\n",
      "Val_F1score =  0.6316666666666667\n",
      "117/117 [==============================] - 14s 117ms/step - loss: 0.7455 - accuracy: 0.6936 - val_loss: 0.8729 - val_accuracy: 0.6317\n",
      "Epoch 28/50\n",
      "117/117 [==============================] - ETA: 0s - loss: 0.7238 - accuracy: 0.7036\n",
      "Epoch 28: saving model to model_save\\weights2-28.hdf5\n",
      "Val_F1score =  0.685\n",
      "117/117 [==============================] - 13s 113ms/step - loss: 0.7238 - accuracy: 0.7036 - val_loss: 0.7976 - val_accuracy: 0.6850\n",
      "Epoch 29/50\n",
      "117/117 [==============================] - ETA: 0s - loss: 0.7246 - accuracy: 0.7021\n",
      "Epoch 29: saving model to model_save\\weights2-29.hdf5\n",
      "Val_F1score =  0.685\n",
      "117/117 [==============================] - 14s 117ms/step - loss: 0.7246 - accuracy: 0.7021 - val_loss: 0.7901 - val_accuracy: 0.6850\n",
      "Epoch 30/50\n",
      "117/117 [==============================] - ETA: 0s - loss: 0.7315 - accuracy: 0.7014\n",
      "Epoch 30: saving model to model_save\\weights2-30.hdf5\n",
      "Val_F1score =  0.68\n",
      "117/117 [==============================] - 14s 118ms/step - loss: 0.7315 - accuracy: 0.7014 - val_loss: 0.7766 - val_accuracy: 0.6800\n",
      "Epoch 31/50\n",
      "117/117 [==============================] - ETA: 0s - loss: 0.6976 - accuracy: 0.7350\n",
      "Epoch 31: saving model to model_save\\weights2-31.hdf5\n",
      "Val_F1score =  0.6666666666666666\n",
      "117/117 [==============================] - 13s 115ms/step - loss: 0.6976 - accuracy: 0.7350 - val_loss: 0.8601 - val_accuracy: 0.6667\n",
      "Epoch 32/50\n",
      "117/117 [==============================] - ETA: 0s - loss: 0.6818 - accuracy: 0.7336\n",
      "Epoch 32: saving model to model_save\\weights2-32.hdf5\n",
      "Val_F1score =  0.7116666666666667\n",
      "117/117 [==============================] - 13s 115ms/step - loss: 0.6818 - accuracy: 0.7336 - val_loss: 0.7626 - val_accuracy: 0.7117\n",
      "Epoch 33/50\n",
      "117/117 [==============================] - ETA: 0s - loss: 0.6659 - accuracy: 0.7307\n",
      "Epoch 33: saving model to model_save\\weights2-33.hdf5\n",
      "Val_F1score =  0.7066666666666667\n",
      "117/117 [==============================] - 14s 119ms/step - loss: 0.6659 - accuracy: 0.7307 - val_loss: 0.7685 - val_accuracy: 0.7067\n",
      "Epoch 34/50\n",
      "117/117 [==============================] - ETA: 0s - loss: 0.6580 - accuracy: 0.7300\n",
      "Epoch 34: saving model to model_save\\weights2-34.hdf5\n",
      "Val_F1score =  0.7166666666666667\n",
      "117/117 [==============================] - 14s 117ms/step - loss: 0.6580 - accuracy: 0.7300 - val_loss: 0.8955 - val_accuracy: 0.7167\n",
      "Epoch 35/50\n",
      "117/117 [==============================] - ETA: 0s - loss: 0.6490 - accuracy: 0.7364\n",
      "Epoch 35: saving model to model_save\\weights2-35.hdf5\n",
      "Val_F1score =  0.6616666666666666\n",
      "117/117 [==============================] - 14s 117ms/step - loss: 0.6490 - accuracy: 0.7364 - val_loss: 0.8979 - val_accuracy: 0.6617\n",
      "Epoch 36/50\n",
      "117/117 [==============================] - ETA: 0s - loss: 0.6522 - accuracy: 0.7400\n",
      "Epoch 36: saving model to model_save\\weights2-36.hdf5\n",
      "Val_F1score =  0.7250000000000001\n",
      "117/117 [==============================] - 14s 116ms/step - loss: 0.6522 - accuracy: 0.7400 - val_loss: 1.0058 - val_accuracy: 0.7250\n",
      "Epoch 37/50\n",
      "117/117 [==============================] - ETA: 0s - loss: 0.6356 - accuracy: 0.7393\n",
      "Epoch 37: saving model to model_save\\weights2-37.hdf5\n",
      "Val_F1score =  0.7116666666666667\n",
      "117/117 [==============================] - 13s 115ms/step - loss: 0.6356 - accuracy: 0.7393 - val_loss: 1.1113 - val_accuracy: 0.7117\n",
      "Epoch 38/50\n",
      "117/117 [==============================] - ETA: 0s - loss: 0.6341 - accuracy: 0.7500\n",
      "Epoch 38: saving model to model_save\\weights2-38.hdf5\n",
      "Val_F1score =  0.6983333333333334\n",
      "117/117 [==============================] - 13s 115ms/step - loss: 0.6341 - accuracy: 0.7500 - val_loss: 0.7945 - val_accuracy: 0.6983\n",
      "Epoch 39/50\n",
      "117/117 [==============================] - ETA: 0s - loss: 0.7577 - accuracy: 0.6993\n",
      "Epoch 39: saving model to model_save\\weights2-39.hdf5\n",
      "Val_F1score =  0.6166666666666667\n",
      "117/117 [==============================] - 14s 116ms/step - loss: 0.7577 - accuracy: 0.6993 - val_loss: 1.0327 - val_accuracy: 0.6167\n",
      "Epoch 40/50\n",
      "117/117 [==============================] - ETA: 0s - loss: 0.7295 - accuracy: 0.7143\n",
      "Epoch 40: saving model to model_save\\weights2-40.hdf5\n",
      "Val_F1score =  0.6766666666666666\n",
      "117/117 [==============================] - 14s 121ms/step - loss: 0.7295 - accuracy: 0.7143 - val_loss: 0.8264 - val_accuracy: 0.6767\n",
      "Epoch 41/50\n",
      "117/117 [==============================] - ETA: 0s - loss: 0.7155 - accuracy: 0.7271\n",
      "Epoch 41: saving model to model_save\\weights2-41.hdf5\n",
      "Val_F1score =  0.6783333333333333\n",
      "117/117 [==============================] - 14s 116ms/step - loss: 0.7155 - accuracy: 0.7271 - val_loss: 0.8394 - val_accuracy: 0.6783\n",
      "Epoch 42/50\n",
      "117/117 [==============================] - ETA: 0s - loss: 0.6904 - accuracy: 0.7200\n",
      "Epoch 42: saving model to model_save\\weights2-42.hdf5\n",
      "Val_F1score =  0.6783333333333333\n",
      "117/117 [==============================] - 14s 116ms/step - loss: 0.6904 - accuracy: 0.7200 - val_loss: 0.8080 - val_accuracy: 0.6783\n",
      "Epoch 43/50\n",
      "117/117 [==============================] - ETA: 0s - loss: 0.6915 - accuracy: 0.7379\n",
      "Epoch 43: saving model to model_save\\weights2-43.hdf5\n",
      "Val_F1score =  0.685\n",
      "117/117 [==============================] - 14s 116ms/step - loss: 0.6915 - accuracy: 0.7379 - val_loss: 0.8142 - val_accuracy: 0.6850\n",
      "Epoch 44/50\n",
      "117/117 [==============================] - ETA: 0s - loss: 0.6676 - accuracy: 0.7343\n",
      "Epoch 44: saving model to model_save\\weights2-44.hdf5\n",
      "Val_F1score =  0.635\n",
      "117/117 [==============================] - 14s 117ms/step - loss: 0.6676 - accuracy: 0.7343 - val_loss: 0.9934 - val_accuracy: 0.6350\n",
      "Epoch 45/50\n",
      "117/117 [==============================] - ETA: 0s - loss: 0.7030 - accuracy: 0.7236\n",
      "Epoch 45: saving model to model_save\\weights2-45.hdf5\n",
      "Val_F1score =  0.7016666666666667\n",
      "117/117 [==============================] - 14s 118ms/step - loss: 0.7030 - accuracy: 0.7236 - val_loss: 0.7993 - val_accuracy: 0.7017\n",
      "Epoch 46/50\n",
      "117/117 [==============================] - ETA: 0s - loss: 0.6594 - accuracy: 0.7400\n",
      "Epoch 46: saving model to model_save\\weights2-46.hdf5\n",
      "Val_F1score =  0.6716666666666666\n",
      "117/117 [==============================] - 14s 119ms/step - loss: 0.6594 - accuracy: 0.7400 - val_loss: 0.8553 - val_accuracy: 0.6717\n",
      "Epoch 47/50\n",
      "117/117 [==============================] - ETA: 0s - loss: 0.6590 - accuracy: 0.7321\n",
      "Epoch 47: saving model to model_save\\weights2-47.hdf5\n",
      "Val_F1score =  0.7116666666666667\n",
      "117/117 [==============================] - 14s 117ms/step - loss: 0.6590 - accuracy: 0.7321 - val_loss: 0.7882 - val_accuracy: 0.7117\n",
      "Epoch 48/50\n",
      "117/117 [==============================] - ETA: 0s - loss: 0.6301 - accuracy: 0.7493\n",
      "Epoch 48: saving model to model_save\\weights2-48.hdf5\n",
      "Val_F1score =  0.7183333333333334\n",
      "117/117 [==============================] - 14s 118ms/step - loss: 0.6301 - accuracy: 0.7493 - val_loss: 0.7641 - val_accuracy: 0.7183\n",
      "Epoch 49/50\n",
      "117/117 [==============================] - ETA: 0s - loss: 0.6549 - accuracy: 0.7414\n",
      "Epoch 49: saving model to model_save\\weights2-49.hdf5\n",
      "Val_F1score =  0.605\n",
      "117/117 [==============================] - 14s 117ms/step - loss: 0.6549 - accuracy: 0.7414 - val_loss: 1.0156 - val_accuracy: 0.6050\n",
      "Epoch 50/50\n",
      "117/117 [==============================] - ETA: 0s - loss: 0.6554 - accuracy: 0.7536\n",
      "Epoch 50: saving model to model_save\\weights2-50.hdf5\n",
      "Val_F1score =  0.7116666666666667\n",
      "117/117 [==============================] - 14s 117ms/step - loss: 0.6554 - accuracy: 0.7536 - val_loss: 0.7404 - val_accuracy: 0.7117\n"
     ]
    },
    {
     "data": {
      "text/plain": [
       "<keras.callbacks.History at 0x27626dc8c70>"
      ]
     },
     "execution_count": 54,
     "metadata": {},
     "output_type": "execute_result"
    }
   ],
   "source": [
    "model1.fit(X_train_spectrogram, y_train_int, epochs=50,verbose=1,batch_size=12, callbacks =callbacks, validation_data=(X_test_spectrogram,y_test_int))"
   ]
  },
  {
   "cell_type": "code",
   "execution_count": 55,
   "metadata": {},
   "outputs": [
    {
     "name": "stdout",
     "output_type": "stream",
     "text": [
      "Epoch 1/20\n",
      "117/117 [==============================] - ETA: 0s - loss: 0.6230 - accuracy: 0.7379\n",
      "Epoch 1: saving model to model_save\\weights2-01.hdf5\n",
      "Val_F1score =  0.6866666666666666\n",
      "117/117 [==============================] - 13s 110ms/step - loss: 0.6230 - accuracy: 0.7379 - val_loss: 0.8500 - val_accuracy: 0.6867\n",
      "Epoch 2/20\n",
      "117/117 [==============================] - ETA: 0s - loss: 0.6366 - accuracy: 0.7557\n",
      "Epoch 2: saving model to model_save\\weights2-02.hdf5\n",
      "Val_F1score =  0.6933333333333334\n",
      "117/117 [==============================] - 13s 115ms/step - loss: 0.6366 - accuracy: 0.7557 - val_loss: 0.8109 - val_accuracy: 0.6933\n",
      "Epoch 3/20\n",
      "117/117 [==============================] - ETA: 0s - loss: 0.6413 - accuracy: 0.7400\n",
      "Epoch 3: saving model to model_save\\weights2-03.hdf5\n",
      "Val_F1score =  0.7233333333333334\n",
      "117/117 [==============================] - 13s 113ms/step - loss: 0.6413 - accuracy: 0.7400 - val_loss: 0.7425 - val_accuracy: 0.7233\n",
      "Epoch 4/20\n",
      "117/117 [==============================] - ETA: 0s - loss: 0.6148 - accuracy: 0.7621\n",
      "Epoch 4: saving model to model_save\\weights2-04.hdf5\n",
      "Val_F1score =  0.6883333333333334\n",
      "117/117 [==============================] - 13s 115ms/step - loss: 0.6148 - accuracy: 0.7621 - val_loss: 0.8257 - val_accuracy: 0.6883\n",
      "Epoch 5/20\n",
      "117/117 [==============================] - ETA: 0s - loss: 0.6295 - accuracy: 0.7400\n",
      "Epoch 5: saving model to model_save\\weights2-05.hdf5\n",
      "Val_F1score =  0.6966666666666667\n",
      "117/117 [==============================] - 14s 116ms/step - loss: 0.6295 - accuracy: 0.7400 - val_loss: 0.7999 - val_accuracy: 0.6967\n",
      "Epoch 6/20\n",
      "117/117 [==============================] - ETA: 0s - loss: 0.5890 - accuracy: 0.7743\n",
      "Epoch 6: saving model to model_save\\weights2-06.hdf5\n",
      "Val_F1score =  0.7066666666666667\n",
      "117/117 [==============================] - 14s 118ms/step - loss: 0.5890 - accuracy: 0.7743 - val_loss: 0.7715 - val_accuracy: 0.7067\n",
      "Epoch 7/20\n",
      "117/117 [==============================] - ETA: 0s - loss: 0.6073 - accuracy: 0.7650\n",
      "Epoch 7: saving model to model_save\\weights2-07.hdf5\n",
      "Val_F1score =  0.6683333333333333\n",
      "117/117 [==============================] - 13s 115ms/step - loss: 0.6073 - accuracy: 0.7650 - val_loss: 1.2529 - val_accuracy: 0.6683\n",
      "Epoch 8/20\n",
      "117/117 [==============================] - ETA: 0s - loss: 0.6226 - accuracy: 0.7571\n",
      "Epoch 8: saving model to model_save\\weights2-08.hdf5\n",
      "Val_F1score =  0.74\n",
      "117/117 [==============================] - 14s 116ms/step - loss: 0.6226 - accuracy: 0.7571 - val_loss: 0.7389 - val_accuracy: 0.7400\n",
      "Epoch 9/20\n",
      "117/117 [==============================] - ETA: 0s - loss: 0.5980 - accuracy: 0.7507\n",
      "Epoch 9: saving model to model_save\\weights2-09.hdf5\n",
      "Val_F1score =  0.7183333333333334\n",
      "117/117 [==============================] - 14s 115ms/step - loss: 0.5980 - accuracy: 0.7507 - val_loss: 0.8194 - val_accuracy: 0.7183\n",
      "Epoch 10/20\n",
      "117/117 [==============================] - ETA: 0s - loss: 0.5737 - accuracy: 0.7729\n",
      "Epoch 10: saving model to model_save\\weights2-10.hdf5\n",
      "Val_F1score =  0.7266666666666666\n",
      "117/117 [==============================] - 14s 117ms/step - loss: 0.5737 - accuracy: 0.7729 - val_loss: 0.7342 - val_accuracy: 0.7267\n",
      "Epoch 11/20\n",
      "117/117 [==============================] - ETA: 0s - loss: 0.8611 - accuracy: 0.7279\n",
      "Epoch 11: saving model to model_save\\weights2-11.hdf5\n",
      "Val_F1score =  0.6883333333333334\n",
      "117/117 [==============================] - 13s 114ms/step - loss: 0.8611 - accuracy: 0.7279 - val_loss: 0.8116 - val_accuracy: 0.6883\n",
      "Epoch 12/20\n",
      "117/117 [==============================] - ETA: 0s - loss: 0.6781 - accuracy: 0.7436\n",
      "Epoch 12: saving model to model_save\\weights2-12.hdf5\n",
      "Val_F1score =  0.6916666666666667\n",
      "117/117 [==============================] - 14s 118ms/step - loss: 0.6781 - accuracy: 0.7436 - val_loss: 0.7784 - val_accuracy: 0.6917\n",
      "Epoch 13/20\n",
      "117/117 [==============================] - ETA: 0s - loss: 0.6682 - accuracy: 0.7400\n",
      "Epoch 13: saving model to model_save\\weights2-13.hdf5\n",
      "Val_F1score =  0.72\n",
      "117/117 [==============================] - 13s 115ms/step - loss: 0.6682 - accuracy: 0.7400 - val_loss: 0.7623 - val_accuracy: 0.7200\n",
      "Epoch 14/20\n",
      "117/117 [==============================] - ETA: 0s - loss: 0.6583 - accuracy: 0.7500\n",
      "Epoch 14: saving model to model_save\\weights2-14.hdf5\n",
      "Val_F1score =  0.6933333333333334\n",
      "117/117 [==============================] - 14s 117ms/step - loss: 0.6583 - accuracy: 0.7500 - val_loss: 0.8154 - val_accuracy: 0.6933\n",
      "Epoch 15/20\n",
      "117/117 [==============================] - ETA: 0s - loss: 0.6569 - accuracy: 0.7486\n",
      "Epoch 15: saving model to model_save\\weights2-15.hdf5\n",
      "Val_F1score =  0.6733333333333333\n",
      "117/117 [==============================] - 14s 117ms/step - loss: 0.6569 - accuracy: 0.7486 - val_loss: 0.8519 - val_accuracy: 0.6733\n",
      "Epoch 16/20\n",
      "117/117 [==============================] - ETA: 0s - loss: 0.6485 - accuracy: 0.7550\n",
      "Epoch 16: saving model to model_save\\weights2-16.hdf5\n",
      "Val_F1score =  0.6966666666666667\n",
      "117/117 [==============================] - 14s 116ms/step - loss: 0.6485 - accuracy: 0.7550 - val_loss: 0.7970 - val_accuracy: 0.6967\n",
      "Epoch 17/20\n",
      "117/117 [==============================] - ETA: 0s - loss: 0.6514 - accuracy: 0.7543\n",
      "Epoch 17: saving model to model_save\\weights2-17.hdf5\n",
      "Val_F1score =  0.6733333333333333\n",
      "117/117 [==============================] - 14s 116ms/step - loss: 0.6514 - accuracy: 0.7543 - val_loss: 0.8241 - val_accuracy: 0.6733\n",
      "Epoch 18/20\n",
      "117/117 [==============================] - ETA: 0s - loss: 0.6606 - accuracy: 0.7443\n",
      "Epoch 18: saving model to model_save\\weights2-18.hdf5\n",
      "Val_F1score =  0.7066666666666667\n",
      "117/117 [==============================] - 13s 115ms/step - loss: 0.6606 - accuracy: 0.7443 - val_loss: 0.7641 - val_accuracy: 0.7067\n",
      "Epoch 19/20\n",
      "117/117 [==============================] - ETA: 0s - loss: 0.6580 - accuracy: 0.7464\n",
      "Epoch 19: saving model to model_save\\weights2-19.hdf5\n",
      "Val_F1score =  0.6916666666666667\n",
      "117/117 [==============================] - 13s 114ms/step - loss: 0.6580 - accuracy: 0.7464 - val_loss: 0.7792 - val_accuracy: 0.6917\n",
      "Epoch 20/20\n",
      "117/117 [==============================] - ETA: 0s - loss: 0.6345 - accuracy: 0.7600\n",
      "Epoch 20: saving model to model_save\\weights2-20.hdf5\n",
      "Val_F1score =  0.7083333333333334\n",
      "117/117 [==============================] - 13s 113ms/step - loss: 0.6345 - accuracy: 0.7600 - val_loss: 0.7749 - val_accuracy: 0.7083\n"
     ]
    },
    {
     "data": {
      "text/plain": [
       "<keras.callbacks.History at 0x276266c5ed0>"
      ]
     },
     "execution_count": 55,
     "metadata": {},
     "output_type": "execute_result"
    }
   ],
   "source": [
    "model1.fit(X_train_spectrogram, y_train_int, epochs=20,verbose=1,batch_size=12, callbacks =callbacks, validation_data=(X_test_spectrogram,y_test_int))"
   ]
  },
  {
   "cell_type": "code",
   "execution_count": 56,
   "metadata": {},
   "outputs": [
    {
     "name": "stdout",
     "output_type": "stream",
     "text": [
      "Epoch 1/20\n",
      "117/117 [==============================] - ETA: 0s - loss: 0.6307 - accuracy: 0.7429\n",
      "Epoch 1: saving model to model_save\\weights2-01.hdf5\n",
      "Val_F1score =  0.7283333333333334\n",
      "117/117 [==============================] - 17s 145ms/step - loss: 0.6307 - accuracy: 0.7429 - val_loss: 0.7679 - val_accuracy: 0.7283\n",
      "Epoch 2/20\n",
      "117/117 [==============================] - ETA: 0s - loss: 0.6241 - accuracy: 0.7614\n",
      "Epoch 2: saving model to model_save\\weights2-02.hdf5\n",
      "Val_F1score =  0.7183333333333334\n",
      "117/117 [==============================] - 17s 146ms/step - loss: 0.6241 - accuracy: 0.7614 - val_loss: 0.7247 - val_accuracy: 0.7183\n",
      "Epoch 3/20\n",
      "117/117 [==============================] - ETA: 0s - loss: 0.6210 - accuracy: 0.7529\n",
      "Epoch 3: saving model to model_save\\weights2-03.hdf5\n",
      "Val_F1score =  0.7266666666666666\n",
      "117/117 [==============================] - 17s 147ms/step - loss: 0.6210 - accuracy: 0.7529 - val_loss: 0.7301 - val_accuracy: 0.7267\n",
      "Epoch 4/20\n",
      "117/117 [==============================] - ETA: 0s - loss: 0.6258 - accuracy: 0.7586\n",
      "Epoch 4: saving model to model_save\\weights2-04.hdf5\n",
      "Val_F1score =  0.695\n",
      "117/117 [==============================] - 15s 128ms/step - loss: 0.6258 - accuracy: 0.7586 - val_loss: 0.7963 - val_accuracy: 0.6950\n",
      "Epoch 5/20\n",
      "117/117 [==============================] - ETA: 0s - loss: 0.6147 - accuracy: 0.7700\n",
      "Epoch 5: saving model to model_save\\weights2-05.hdf5\n",
      "Val_F1score =  0.7233333333333334\n",
      "117/117 [==============================] - 14s 122ms/step - loss: 0.6147 - accuracy: 0.7700 - val_loss: 0.7272 - val_accuracy: 0.7233\n",
      "Epoch 6/20\n",
      "117/117 [==============================] - ETA: 0s - loss: 0.6127 - accuracy: 0.7557\n",
      "Epoch 6: saving model to model_save\\weights2-06.hdf5\n",
      "Val_F1score =  0.7233333333333334\n",
      "117/117 [==============================] - 15s 126ms/step - loss: 0.6127 - accuracy: 0.7557 - val_loss: 0.7250 - val_accuracy: 0.7233\n",
      "Epoch 7/20\n",
      "117/117 [==============================] - ETA: 0s - loss: 0.6312 - accuracy: 0.7543\n",
      "Epoch 7: saving model to model_save\\weights2-07.hdf5\n",
      "Val_F1score =  0.7116666666666667\n",
      "117/117 [==============================] - 14s 124ms/step - loss: 0.6312 - accuracy: 0.7543 - val_loss: 0.7171 - val_accuracy: 0.7117\n",
      "Epoch 8/20\n",
      "117/117 [==============================] - ETA: 0s - loss: 0.6094 - accuracy: 0.7629\n",
      "Epoch 8: saving model to model_save\\weights2-08.hdf5\n",
      "Val_F1score =  0.72\n",
      "117/117 [==============================] - 15s 126ms/step - loss: 0.6094 - accuracy: 0.7629 - val_loss: 0.7318 - val_accuracy: 0.7200\n",
      "Epoch 9/20\n",
      "117/117 [==============================] - ETA: 0s - loss: 0.5903 - accuracy: 0.7679\n",
      "Epoch 9: saving model to model_save\\weights2-09.hdf5\n",
      "Val_F1score =  0.745\n",
      "117/117 [==============================] - 14s 122ms/step - loss: 0.5903 - accuracy: 0.7679 - val_loss: 0.7096 - val_accuracy: 0.7450\n",
      "Epoch 10/20\n",
      "117/117 [==============================] - ETA: 0s - loss: 0.6143 - accuracy: 0.7586\n",
      "Epoch 10: saving model to model_save\\weights2-10.hdf5\n",
      "Val_F1score =  0.7233333333333334\n",
      "117/117 [==============================] - 15s 129ms/step - loss: 0.6143 - accuracy: 0.7586 - val_loss: 0.7127 - val_accuracy: 0.7233\n",
      "Epoch 11/20\n",
      "117/117 [==============================] - ETA: 0s - loss: 0.6097 - accuracy: 0.7629\n",
      "Epoch 11: saving model to model_save\\weights2-11.hdf5\n",
      "Val_F1score =  0.755\n",
      "117/117 [==============================] - 15s 125ms/step - loss: 0.6097 - accuracy: 0.7629 - val_loss: 0.7049 - val_accuracy: 0.7550\n",
      "Epoch 12/20\n",
      "117/117 [==============================] - ETA: 0s - loss: 0.5986 - accuracy: 0.7593\n",
      "Epoch 12: saving model to model_save\\weights2-12.hdf5\n",
      "Val_F1score =  0.7166666666666667\n",
      "117/117 [==============================] - 14s 123ms/step - loss: 0.5986 - accuracy: 0.7593 - val_loss: 0.7383 - val_accuracy: 0.7167\n",
      "Epoch 13/20\n",
      "117/117 [==============================] - ETA: 0s - loss: 0.6060 - accuracy: 0.7629\n",
      "Epoch 13: saving model to model_save\\weights2-13.hdf5\n",
      "Val_F1score =  0.7233333333333334\n",
      "117/117 [==============================] - 14s 124ms/step - loss: 0.6060 - accuracy: 0.7629 - val_loss: 0.7260 - val_accuracy: 0.7233\n",
      "Epoch 14/20\n",
      "117/117 [==============================] - ETA: 0s - loss: 0.5732 - accuracy: 0.7714\n",
      "Epoch 14: saving model to model_save\\weights2-14.hdf5\n",
      "Val_F1score =  0.715\n",
      "117/117 [==============================] - 15s 126ms/step - loss: 0.5732 - accuracy: 0.7714 - val_loss: 0.7327 - val_accuracy: 0.7150\n",
      "Epoch 15/20\n",
      "117/117 [==============================] - ETA: 0s - loss: 0.6028 - accuracy: 0.7636\n",
      "Epoch 15: saving model to model_save\\weights2-15.hdf5\n",
      "Val_F1score =  0.7233333333333334\n",
      "117/117 [==============================] - 14s 124ms/step - loss: 0.6028 - accuracy: 0.7636 - val_loss: 0.7169 - val_accuracy: 0.7233\n",
      "Epoch 16/20\n",
      "117/117 [==============================] - ETA: 0s - loss: 0.5948 - accuracy: 0.7636\n",
      "Epoch 16: saving model to model_save\\weights2-16.hdf5\n",
      "Val_F1score =  0.715\n",
      "117/117 [==============================] - 15s 125ms/step - loss: 0.5948 - accuracy: 0.7636 - val_loss: 0.7245 - val_accuracy: 0.7150\n",
      "Epoch 17/20\n",
      "117/117 [==============================] - ETA: 0s - loss: 0.5978 - accuracy: 0.7693\n",
      "Epoch 17: saving model to model_save\\weights2-17.hdf5\n",
      "Val_F1score =  0.7183333333333334\n",
      "117/117 [==============================] - 15s 126ms/step - loss: 0.5978 - accuracy: 0.7693 - val_loss: 0.7330 - val_accuracy: 0.7183\n",
      "Epoch 18/20\n",
      "117/117 [==============================] - ETA: 0s - loss: 0.5851 - accuracy: 0.7657\n",
      "Epoch 18: saving model to model_save\\weights2-18.hdf5\n",
      "Val_F1score =  0.7216666666666668\n",
      "117/117 [==============================] - 15s 128ms/step - loss: 0.5851 - accuracy: 0.7657 - val_loss: 0.7188 - val_accuracy: 0.7217\n",
      "Epoch 19/20\n",
      "117/117 [==============================] - ETA: 0s - loss: 0.5990 - accuracy: 0.7579\n",
      "Epoch 19: saving model to model_save\\weights2-19.hdf5\n",
      "Val_F1score =  0.7483333333333333\n",
      "117/117 [==============================] - 15s 125ms/step - loss: 0.5990 - accuracy: 0.7579 - val_loss: 0.7002 - val_accuracy: 0.7483\n",
      "Epoch 20/20\n",
      "117/117 [==============================] - ETA: 0s - loss: 0.5980 - accuracy: 0.7614\n",
      "Epoch 20: saving model to model_save\\weights2-20.hdf5\n",
      "Val_F1score =  0.7100000000000001\n",
      "117/117 [==============================] - 15s 126ms/step - loss: 0.5980 - accuracy: 0.7614 - val_loss: 0.7399 - val_accuracy: 0.7100\n"
     ]
    },
    {
     "data": {
      "text/plain": [
       "<keras.callbacks.History at 0x27626dec1c0>"
      ]
     },
     "execution_count": 56,
     "metadata": {},
     "output_type": "execute_result"
    }
   ],
   "source": [
    "model1.fit(X_train_spectrogram, y_train_int, epochs=20,verbose=1,batch_size=12, callbacks =callbacks, validation_data=(X_test_spectrogram,y_test_int))"
   ]
  },
  {
   "cell_type": "code",
   "execution_count": 57,
   "metadata": {},
   "outputs": [
    {
     "name": "stdout",
     "output_type": "stream",
     "text": [
      "Epoch 1/20\n",
      "117/117 [==============================] - ETA: 0s - loss: 0.5753 - accuracy: 0.7750\n",
      "Epoch 1: saving model to model_save\\weights2-01.hdf5\n",
      "Val_F1score =  0.7316666666666667\n",
      "117/117 [==============================] - 15s 128ms/step - loss: 0.5753 - accuracy: 0.7750 - val_loss: 0.7146 - val_accuracy: 0.7317\n",
      "Epoch 2/20\n",
      "117/117 [==============================] - ETA: 0s - loss: 0.5740 - accuracy: 0.7714\n",
      "Epoch 2: saving model to model_save\\weights2-02.hdf5\n",
      "Val_F1score =  0.6933333333333334\n",
      "117/117 [==============================] - 15s 128ms/step - loss: 0.5740 - accuracy: 0.7714 - val_loss: 0.8082 - val_accuracy: 0.6933\n",
      "Epoch 3/20\n",
      "117/117 [==============================] - ETA: 0s - loss: 0.6071 - accuracy: 0.7671\n",
      "Epoch 3: saving model to model_save\\weights2-03.hdf5\n",
      "Val_F1score =  0.7333333333333333\n",
      "117/117 [==============================] - 15s 127ms/step - loss: 0.6071 - accuracy: 0.7671 - val_loss: 0.7077 - val_accuracy: 0.7333\n",
      "Epoch 4/20\n",
      "117/117 [==============================] - ETA: 0s - loss: 0.5752 - accuracy: 0.7743\n",
      "Epoch 4: saving model to model_save\\weights2-04.hdf5\n",
      "Val_F1score =  0.75\n",
      "117/117 [==============================] - 15s 126ms/step - loss: 0.5752 - accuracy: 0.7743 - val_loss: 0.7149 - val_accuracy: 0.7500\n",
      "Epoch 5/20\n",
      "117/117 [==============================] - ETA: 0s - loss: 0.5470 - accuracy: 0.7857\n",
      "Epoch 5: saving model to model_save\\weights2-05.hdf5\n",
      "Val_F1score =  0.7483333333333333\n",
      "117/117 [==============================] - 15s 124ms/step - loss: 0.5470 - accuracy: 0.7857 - val_loss: 0.6608 - val_accuracy: 0.7483\n",
      "Epoch 6/20\n",
      "117/117 [==============================] - ETA: 0s - loss: 0.5708 - accuracy: 0.7764\n",
      "Epoch 6: saving model to model_save\\weights2-06.hdf5\n",
      "Val_F1score =  0.715\n",
      "117/117 [==============================] - 15s 127ms/step - loss: 0.5708 - accuracy: 0.7764 - val_loss: 0.7534 - val_accuracy: 0.7150\n",
      "Epoch 7/20\n",
      "117/117 [==============================] - ETA: 0s - loss: 0.5652 - accuracy: 0.7679\n",
      "Epoch 7: saving model to model_save\\weights2-07.hdf5\n",
      "Val_F1score =  0.745\n",
      "117/117 [==============================] - 15s 127ms/step - loss: 0.5652 - accuracy: 0.7679 - val_loss: 0.6819 - val_accuracy: 0.7450\n",
      "Epoch 8/20\n",
      "117/117 [==============================] - ETA: 0s - loss: 0.5473 - accuracy: 0.7864\n",
      "Epoch 8: saving model to model_save\\weights2-08.hdf5\n",
      "Val_F1score =  0.7333333333333333\n",
      "117/117 [==============================] - 15s 129ms/step - loss: 0.5473 - accuracy: 0.7864 - val_loss: 0.6758 - val_accuracy: 0.7333\n",
      "Epoch 9/20\n",
      "117/117 [==============================] - ETA: 0s - loss: 0.5537 - accuracy: 0.7836\n",
      "Epoch 9: saving model to model_save\\weights2-09.hdf5\n",
      "Val_F1score =  0.7566666666666667\n",
      "117/117 [==============================] - 15s 127ms/step - loss: 0.5537 - accuracy: 0.7836 - val_loss: 0.6668 - val_accuracy: 0.7567\n",
      "Epoch 10/20\n",
      "117/117 [==============================] - ETA: 0s - loss: 0.5524 - accuracy: 0.7850\n",
      "Epoch 10: saving model to model_save\\weights2-10.hdf5\n",
      "Val_F1score =  0.7566666666666667\n",
      "117/117 [==============================] - 15s 125ms/step - loss: 0.5524 - accuracy: 0.7850 - val_loss: 0.6558 - val_accuracy: 0.7567\n",
      "Epoch 11/20\n",
      "117/117 [==============================] - ETA: 0s - loss: 0.5505 - accuracy: 0.7993\n",
      "Epoch 11: saving model to model_save\\weights2-11.hdf5\n",
      "Val_F1score =  0.7383333333333333\n",
      "117/117 [==============================] - 15s 127ms/step - loss: 0.5505 - accuracy: 0.7993 - val_loss: 0.6792 - val_accuracy: 0.7383\n",
      "Epoch 12/20\n",
      "117/117 [==============================] - ETA: 0s - loss: 0.5442 - accuracy: 0.7843\n",
      "Epoch 12: saving model to model_save\\weights2-12.hdf5\n",
      "Val_F1score =  0.7483333333333333\n",
      "117/117 [==============================] - 15s 128ms/step - loss: 0.5442 - accuracy: 0.7843 - val_loss: 0.6576 - val_accuracy: 0.7483\n",
      "Epoch 13/20\n",
      "117/117 [==============================] - ETA: 0s - loss: 0.5470 - accuracy: 0.7800\n",
      "Epoch 13: saving model to model_save\\weights2-13.hdf5\n",
      "Val_F1score =  0.7416666666666667\n",
      "117/117 [==============================] - 15s 128ms/step - loss: 0.5470 - accuracy: 0.7800 - val_loss: 0.6955 - val_accuracy: 0.7417\n",
      "Epoch 14/20\n",
      "117/117 [==============================] - ETA: 0s - loss: 0.5488 - accuracy: 0.7943\n",
      "Epoch 14: saving model to model_save\\weights2-14.hdf5\n",
      "Val_F1score =  0.76\n",
      "117/117 [==============================] - 15s 131ms/step - loss: 0.5488 - accuracy: 0.7943 - val_loss: 0.6993 - val_accuracy: 0.7600\n",
      "Epoch 15/20\n",
      "117/117 [==============================] - ETA: 0s - loss: 0.5379 - accuracy: 0.7864\n",
      "Epoch 15: saving model to model_save\\weights2-15.hdf5\n",
      "Val_F1score =  0.735\n",
      "117/117 [==============================] - 15s 130ms/step - loss: 0.5379 - accuracy: 0.7864 - val_loss: 0.6650 - val_accuracy: 0.7350\n",
      "Epoch 16/20\n",
      "117/117 [==============================] - ETA: 0s - loss: 0.5663 - accuracy: 0.7700\n",
      "Epoch 16: saving model to model_save\\weights2-16.hdf5\n",
      "Val_F1score =  0.76\n",
      "117/117 [==============================] - 15s 128ms/step - loss: 0.5663 - accuracy: 0.7700 - val_loss: 0.6511 - val_accuracy: 0.7600\n",
      "Epoch 17/20\n",
      "117/117 [==============================] - ETA: 0s - loss: 0.5390 - accuracy: 0.8029\n",
      "Epoch 17: saving model to model_save\\weights2-17.hdf5\n",
      "Val_F1score =  0.6883333333333334\n",
      "117/117 [==============================] - 15s 127ms/step - loss: 0.5390 - accuracy: 0.8029 - val_loss: 0.8522 - val_accuracy: 0.6883\n",
      "Epoch 18/20\n",
      "117/117 [==============================] - ETA: 0s - loss: 0.5453 - accuracy: 0.7843\n",
      "Epoch 18: saving model to model_save\\weights2-18.hdf5\n",
      "Val_F1score =  0.7666666666666667\n",
      "117/117 [==============================] - 15s 130ms/step - loss: 0.5453 - accuracy: 0.7843 - val_loss: 0.6280 - val_accuracy: 0.7667\n",
      "Epoch 19/20\n",
      "117/117 [==============================] - ETA: 0s - loss: 0.5277 - accuracy: 0.7850\n",
      "Epoch 19: saving model to model_save\\weights2-19.hdf5\n",
      "Val_F1score =  0.7633333333333333\n",
      "117/117 [==============================] - 15s 129ms/step - loss: 0.5277 - accuracy: 0.7850 - val_loss: 0.6789 - val_accuracy: 0.7633\n",
      "Epoch 20/20\n",
      "117/117 [==============================] - ETA: 0s - loss: 0.5251 - accuracy: 0.7929\n",
      "Epoch 20: saving model to model_save\\weights2-20.hdf5\n",
      "Val_F1score =  0.7733333333333333\n",
      "117/117 [==============================] - 16s 133ms/step - loss: 0.5251 - accuracy: 0.7929 - val_loss: 0.6367 - val_accuracy: 0.7733\n"
     ]
    },
    {
     "data": {
      "text/plain": [
       "<keras.callbacks.History at 0x2762e431c30>"
      ]
     },
     "execution_count": 57,
     "metadata": {},
     "output_type": "execute_result"
    }
   ],
   "source": [
    "model1.fit(X_train_spectrogram, y_train_int, epochs=20,verbose=1,batch_size=12, callbacks =callbacks, validation_data=(X_test_spectrogram,y_test_int))"
   ]
  },
  {
   "cell_type": "code",
   "execution_count": 58,
   "metadata": {},
   "outputs": [
    {
     "name": "stdout",
     "output_type": "stream",
     "text": [
      "Epoch 1/20\n",
      "117/117 [==============================] - ETA: 0s - loss: 0.5319 - accuracy: 0.7886\n",
      "Epoch 1: saving model to model_save\\weights2-01.hdf5\n",
      "Val_F1score =  0.75\n",
      "117/117 [==============================] - 15s 127ms/step - loss: 0.5319 - accuracy: 0.7886 - val_loss: 0.6494 - val_accuracy: 0.7500\n",
      "Epoch 2/20\n",
      "117/117 [==============================] - ETA: 0s - loss: 0.5262 - accuracy: 0.7993\n",
      "Epoch 2: saving model to model_save\\weights2-02.hdf5\n",
      "Val_F1score =  0.7566666666666667\n",
      "117/117 [==============================] - 15s 127ms/step - loss: 0.5262 - accuracy: 0.7993 - val_loss: 0.6591 - val_accuracy: 0.7567\n",
      "Epoch 3/20\n",
      "117/117 [==============================] - ETA: 0s - loss: 0.5160 - accuracy: 0.7936\n",
      "Epoch 3: saving model to model_save\\weights2-03.hdf5\n",
      "Val_F1score =  0.7299999999999999\n",
      "117/117 [==============================] - 15s 128ms/step - loss: 0.5160 - accuracy: 0.7936 - val_loss: 0.7539 - val_accuracy: 0.7300\n",
      "Epoch 4/20\n",
      "117/117 [==============================] - ETA: 0s - loss: 0.5243 - accuracy: 0.7921\n",
      "Epoch 4: saving model to model_save\\weights2-04.hdf5\n",
      "Val_F1score =  0.7133333333333335\n",
      "117/117 [==============================] - 15s 131ms/step - loss: 0.5243 - accuracy: 0.7921 - val_loss: 0.7936 - val_accuracy: 0.7133\n",
      "Epoch 5/20\n",
      "117/117 [==============================] - ETA: 0s - loss: 0.5182 - accuracy: 0.7964\n",
      "Epoch 5: saving model to model_save\\weights2-05.hdf5\n",
      "Val_F1score =  0.7816666666666666\n",
      "117/117 [==============================] - 15s 129ms/step - loss: 0.5182 - accuracy: 0.7964 - val_loss: 0.6449 - val_accuracy: 0.7817\n",
      "Epoch 6/20\n",
      "117/117 [==============================] - ETA: 0s - loss: 0.5080 - accuracy: 0.7943\n",
      "Epoch 6: saving model to model_save\\weights2-06.hdf5\n",
      "Val_F1score =  0.7566666666666667\n",
      "117/117 [==============================] - 15s 128ms/step - loss: 0.5080 - accuracy: 0.7943 - val_loss: 0.6423 - val_accuracy: 0.7567\n",
      "Epoch 7/20\n",
      "117/117 [==============================] - ETA: 0s - loss: 0.5061 - accuracy: 0.8107\n",
      "Epoch 7: saving model to model_save\\weights2-07.hdf5\n",
      "Val_F1score =  0.7666666666666667\n",
      "117/117 [==============================] - 15s 130ms/step - loss: 0.5061 - accuracy: 0.8107 - val_loss: 0.6415 - val_accuracy: 0.7667\n",
      "Epoch 8/20\n",
      "117/117 [==============================] - ETA: 0s - loss: 0.4971 - accuracy: 0.8043\n",
      "Epoch 8: saving model to model_save\\weights2-08.hdf5\n",
      "Val_F1score =  0.7883333333333333\n",
      "117/117 [==============================] - 15s 129ms/step - loss: 0.4971 - accuracy: 0.8043 - val_loss: 0.6057 - val_accuracy: 0.7883\n",
      "Epoch 9/20\n",
      "117/117 [==============================] - ETA: 0s - loss: 0.4854 - accuracy: 0.8086\n",
      "Epoch 9: saving model to model_save\\weights2-09.hdf5\n",
      "Val_F1score =  0.7683333333333333\n",
      "117/117 [==============================] - 15s 128ms/step - loss: 0.4854 - accuracy: 0.8086 - val_loss: 0.6248 - val_accuracy: 0.7683\n",
      "Epoch 10/20\n",
      "117/117 [==============================] - ETA: 0s - loss: 0.4993 - accuracy: 0.8050\n",
      "Epoch 10: saving model to model_save\\weights2-10.hdf5\n",
      "Val_F1score =  0.78\n",
      "117/117 [==============================] - 15s 128ms/step - loss: 0.4993 - accuracy: 0.8050 - val_loss: 0.6873 - val_accuracy: 0.7800\n",
      "Epoch 11/20\n",
      "117/117 [==============================] - ETA: 0s - loss: 0.4743 - accuracy: 0.8121\n",
      "Epoch 11: saving model to model_save\\weights2-11.hdf5\n",
      "Val_F1score =  0.79\n",
      "117/117 [==============================] - 15s 129ms/step - loss: 0.4743 - accuracy: 0.8121 - val_loss: 0.5993 - val_accuracy: 0.7900\n",
      "Epoch 12/20\n",
      "117/117 [==============================] - ETA: 0s - loss: 0.4753 - accuracy: 0.8057\n",
      "Epoch 12: saving model to model_save\\weights2-12.hdf5\n",
      "Val_F1score =  0.7566666666666667\n",
      "117/117 [==============================] - 15s 128ms/step - loss: 0.4753 - accuracy: 0.8057 - val_loss: 0.6291 - val_accuracy: 0.7567\n",
      "Epoch 13/20\n",
      "117/117 [==============================] - ETA: 0s - loss: 0.4634 - accuracy: 0.8200\n",
      "Epoch 13: saving model to model_save\\weights2-13.hdf5\n",
      "Val_F1score =  0.8033333333333333\n",
      "117/117 [==============================] - 15s 126ms/step - loss: 0.4634 - accuracy: 0.8200 - val_loss: 0.5771 - val_accuracy: 0.8033\n",
      "Epoch 14/20\n",
      "117/117 [==============================] - ETA: 0s - loss: 0.4668 - accuracy: 0.8193\n",
      "Epoch 14: saving model to model_save\\weights2-14.hdf5\n",
      "Val_F1score =  0.79\n",
      "117/117 [==============================] - 15s 126ms/step - loss: 0.4668 - accuracy: 0.8193 - val_loss: 0.5778 - val_accuracy: 0.7900\n",
      "Epoch 15/20\n",
      "117/117 [==============================] - ETA: 0s - loss: 0.4557 - accuracy: 0.8314\n",
      "Epoch 15: saving model to model_save\\weights2-15.hdf5\n",
      "Val_F1score =  0.7683333333333333\n",
      "117/117 [==============================] - 15s 124ms/step - loss: 0.4557 - accuracy: 0.8314 - val_loss: 0.6153 - val_accuracy: 0.7683\n",
      "Epoch 16/20\n",
      "117/117 [==============================] - ETA: 0s - loss: 0.4695 - accuracy: 0.8093\n",
      "Epoch 16: saving model to model_save\\weights2-16.hdf5\n",
      "Val_F1score =  0.8066666666666665\n",
      "117/117 [==============================] - 15s 127ms/step - loss: 0.4695 - accuracy: 0.8093 - val_loss: 0.5739 - val_accuracy: 0.8067\n",
      "Epoch 17/20\n",
      "117/117 [==============================] - ETA: 0s - loss: 0.4394 - accuracy: 0.8250\n",
      "Epoch 17: saving model to model_save\\weights2-17.hdf5\n",
      "Val_F1score =  0.7583333333333333\n",
      "117/117 [==============================] - 15s 125ms/step - loss: 0.4394 - accuracy: 0.8250 - val_loss: 0.6216 - val_accuracy: 0.7583\n",
      "Epoch 18/20\n",
      "117/117 [==============================] - ETA: 0s - loss: 0.4513 - accuracy: 0.8264\n",
      "Epoch 18: saving model to model_save\\weights2-18.hdf5\n",
      "Val_F1score =  0.7466666666666667\n",
      "117/117 [==============================] - 15s 126ms/step - loss: 0.4513 - accuracy: 0.8264 - val_loss: 0.6632 - val_accuracy: 0.7467\n",
      "Epoch 19/20\n",
      "117/117 [==============================] - ETA: 0s - loss: 0.4571 - accuracy: 0.8186\n",
      "Epoch 19: saving model to model_save\\weights2-19.hdf5\n",
      "Val_F1score =  0.8016666666666666\n",
      "117/117 [==============================] - 15s 129ms/step - loss: 0.4571 - accuracy: 0.8186 - val_loss: 0.5568 - val_accuracy: 0.8017\n",
      "Epoch 20/20\n",
      "117/117 [==============================] - ETA: 0s - loss: 0.4641 - accuracy: 0.8179\n",
      "Epoch 20: saving model to model_save\\weights2-20.hdf5\n",
      "Val_F1score =  0.795\n",
      "117/117 [==============================] - 15s 129ms/step - loss: 0.4641 - accuracy: 0.8179 - val_loss: 0.5949 - val_accuracy: 0.7950\n"
     ]
    },
    {
     "data": {
      "text/plain": [
       "<keras.callbacks.History at 0x27626d38af0>"
      ]
     },
     "execution_count": 58,
     "metadata": {},
     "output_type": "execute_result"
    }
   ],
   "source": [
    "model1.fit(X_train_spectrogram, y_train_int, epochs=20,verbose=1,batch_size=12, callbacks =callbacks, validation_data=(X_test_spectrogram,y_test_int))"
   ]
  },
  {
   "cell_type": "code",
   "execution_count": 60,
   "metadata": {},
   "outputs": [
    {
     "name": "stdout",
     "output_type": "stream",
     "text": [
      "Val_F1score =  0.8016666666666666\n"
     ]
    }
   ],
   "source": [
    "model1.load_weights('model_save/weights2-19.hdf5')\n",
    "val_predict = (np.asarray(model1.predict(X_test_spectrogram)))\n",
    "val_label=np.argmax(val_predict,axis=1)\n",
    "val_targ = y_test_int\n",
    "val_f1 = f1_score(val_targ, val_label,average='micro')\n",
    "print (\"Val_F1score = \",val_f1)"
   ]
  },
  {
   "cell_type": "code",
   "execution_count": 61,
   "metadata": {},
   "outputs": [
    {
     "data": {
      "text/html": [
       "\n",
       "      <iframe id=\"tensorboard-frame-8410717687a28d03\" width=\"100%\" height=\"800\" frameborder=\"0\">\n",
       "      </iframe>\n",
       "      <script>\n",
       "        (function() {\n",
       "          const frame = document.getElementById(\"tensorboard-frame-8410717687a28d03\");\n",
       "          const url = new URL(\"/\", window.location);\n",
       "          const port = 6006;\n",
       "          if (port) {\n",
       "            url.port = port;\n",
       "          }\n",
       "          frame.src = url;\n",
       "        })();\n",
       "      </script>\n",
       "    "
      ],
      "text/plain": [
       "<IPython.core.display.HTML object>"
      ]
     },
     "metadata": {},
     "output_type": "display_data"
    }
   ],
   "source": [
    "%load_ext tensorboard\n",
    "%tensorboard --logdir logs1/fits"
   ]
  },
  {
   "cell_type": "code",
   "execution_count": 62,
   "metadata": {},
   "outputs": [
    {
     "data": {
      "image/png": "[encoded data removed]",
      "text/plain": [
       "<IPython.core.display.Image object>"
      ]
     },
     "execution_count": 62,
     "metadata": {},
     "output_type": "execute_result"
    }
   ],
   "source": [
    "filepath='model2.png'\n",
    "tf.keras.utils.plot_model(model1,to_file=filepath,show_shapes=True)"
   ]
  },
  {
   "cell_type": "code",
   "execution_count": null,
   "metadata": {
    "id": "862fP2e-aNp3"
   },
   "outputs": [],
   "source": [
    "#compile and fit your model.\n",
    "#model2.fit([X_train_spectrogram],y_train_int,......)"
   ]
  },
  {
   "cell_type": "markdown",
   "metadata": {
    "id": "aSl8ZOXjaNqJ"
   },
   "source": [
    "### 3. Data augmentation with raw features \n",
    "\n",
    "Till now we have done with 2000 samples only. It is very less data. We are giving the process of generating augmented data below.\n",
    "\n",
    "There are two types of augmentation:\n",
    "1. time stretching - Time stretching either increases or decreases the length of the file. For time stretching we move the file 30% faster or slower\n",
    "2. pitch shifting - pitch shifting moves the frequencies higher or lower. For pitch shifting we shift up or down one half-step.\n"
   ]
  },
  {
   "cell_type": "code",
   "execution_count": 40,
   "metadata": {
    "id": "jR4JSEDgaNqK"
   },
   "outputs": [],
   "source": [
    "## generating augmented data. \n",
    "def generate_augmented_data(file_path):\n",
    "    augmented_data = []\n",
    "    samples = load_wav(file_path,get_duration=False)\n",
    "    for time_value in [0.7, 1, 1.3]:\n",
    "        for pitch_value in [-1, 0, 1]:\n",
    "            time_stretch_data = librosa.effects.time_stretch(samples, rate=time_value)\n",
    "            final_data = librosa.effects.pitch_shift(time_stretch_data, sr=sample_rate, n_steps=pitch_value)\n",
    "            augmented_data.append(final_data)\n",
    "    return augmented_data"
   ]
  },
  {
   "cell_type": "code",
   "execution_count": 41,
   "metadata": {
    "id": "QRdefb-SaNqS"
   },
   "outputs": [],
   "source": [
    "temp_path = df_audio.iloc[0].path\n",
    "aug_temp = generate_augmented_data(temp_path)"
   ]
  },
  {
   "cell_type": "code",
   "execution_count": 42,
   "metadata": {
    "id": "kzdG3iS-aNqc",
    "outputId": "0f17e45e-63a0-4986-8f69-05e2dbd71bac"
   },
   "outputs": [
    {
     "data": {
      "text/plain": [
       "9"
      ]
     },
     "execution_count": 42,
     "metadata": {},
     "output_type": "execute_result"
    }
   ],
   "source": [
    "len(aug_temp)"
   ]
  },
  {
   "cell_type": "markdown",
   "metadata": {
    "id": "ZckytZsraNqk"
   },
   "source": [
    "## Follow the steps \n",
    "\n",
    "1. Split data 'df_audio' into train and test (80-20 split)\n",
    "\n",
    "2. We have 2000 data points(1600 train points, 400 test points) \n",
    "\n"
   ]
  },
  {
   "cell_type": "code",
   "execution_count": 27,
   "metadata": {
    "id": "LFo5SnTLO_sD"
   },
   "outputs": [],
   "source": [
    "X_train, X_test, y_train, y_test=train_test_split(df_audio['path'],df_audio['label'],random_state=45,test_size=0.2,stratify=df_audio['label'])"
   ]
  },
  {
   "cell_type": "markdown",
   "metadata": {
    "id": "AdKXVRlpaNql"
   },
   "source": [
    "3. Do augmentation only on X_train,pass each point of X_train to generate_augmented_data function.After augmentation we will get 14400 train points. Make sure that you are augmenting the corresponding class labels (y_train) also.\n",
    "4. Preprocess your X_test using load_wav function.\n",
    "5. Convert the augmented_train_data and test_data to numpy arrays.\n",
    "6. Perform padding and masking on augmented_train_data and test_data.\n",
    "7. After padding define the model similar to model 1 and fit the data"
   ]
  },
  {
   "cell_type": "code",
   "execution_count": 44,
   "metadata": {},
   "outputs": [],
   "source": [
    "X_train_augmented=[]\n",
    "y_train_aug=[]\n",
    "for x,y in zip(X_train,y_train):\n",
    "    temp_aug= generate_augmented_data(x)\n",
    "    X_train_augmented.extend(temp_aug)\n",
    "    y_train_aug.extend([y]*9)"
   ]
  },
  {
   "cell_type": "code",
   "execution_count": 45,
   "metadata": {},
   "outputs": [
    {
     "name": "stderr",
     "output_type": "stream",
     "text": [
      "C:\\Users\\HP\\AppData\\Local\\Temp\\ipykernel_25880\\1686762254.py:1: VisibleDeprecationWarning: Creating an ndarray from ragged nested sequences (which is a list-or-tuple of lists-or-tuples-or ndarrays with different lengths or shapes) is deprecated. If you meant to do this, you must specify 'dtype=object' when creating the ndarray.\n",
      "  X_train_augmented= np.array(X_train_augmented)\n"
     ]
    }
   ],
   "source": [
    "X_train_augmented= np.array(X_train_augmented)"
   ]
  },
  {
   "cell_type": "code",
   "execution_count": 48,
   "metadata": {},
   "outputs": [],
   "source": [
    "import pickle\n",
    "\n",
    "# with open('train_augmented','wb') as f: \n",
    "#     pickle.dump(X_train_augmented, f)\n",
    "    \n",
    "# with open('y_train_augmented','wb') as f: \n",
    "#     pickle.dump(y_train_aug, f)\n",
    "\n",
    "with open('train_augmented','rb') as f: \n",
    "    X_train_augmented1 = pickle.load(f)\n",
    "    \n",
    "with open('y_train_augmented','rb') as f: \n",
    "    y_train_augmented1 = pickle.load(f)"
   ]
  },
  {
   "cell_type": "code",
   "execution_count": 49,
   "metadata": {},
   "outputs": [
    {
     "data": {
      "text/plain": [
       "14400"
      ]
     },
     "execution_count": 49,
     "metadata": {},
     "output_type": "execute_result"
    }
   ],
   "source": [
    "len(X_train_augmented1)"
   ]
  },
  {
   "cell_type": "code",
   "execution_count": 50,
   "metadata": {},
   "outputs": [
    {
     "data": {
      "text/plain": [
       "14400"
      ]
     },
     "execution_count": 50,
     "metadata": {},
     "output_type": "execute_result"
    }
   ],
   "source": [
    "len(y_train_augmented1)"
   ]
  },
  {
   "cell_type": "code",
   "execution_count": 51,
   "metadata": {},
   "outputs": [
    {
     "data": {
      "text/plain": [
       "array([-2.2495104e-05, -6.2195526e-05, -1.0654096e-04, ...,\n",
       "       -1.5071427e-04, -3.4051077e-04,  0.0000000e+00], dtype=float32)"
      ]
     },
     "execution_count": 51,
     "metadata": {},
     "output_type": "execute_result"
    }
   ],
   "source": [
    "X_train_augmented1[0]"
   ]
  },
  {
   "cell_type": "code",
   "execution_count": 52,
   "metadata": {},
   "outputs": [
    {
     "data": {
      "text/plain": [
       "'8'"
      ]
     },
     "execution_count": 52,
     "metadata": {},
     "output_type": "execute_result"
    }
   ],
   "source": [
    "y_train_augmented1[0]"
   ]
  },
  {
   "cell_type": "code",
   "execution_count": 53,
   "metadata": {},
   "outputs": [
    {
     "data": {
      "text/html": [
       "<div>\n",
       "<style scoped>\n",
       "    .dataframe tbody tr th:only-of-type {\n",
       "        vertical-align: middle;\n",
       "    }\n",
       "\n",
       "    .dataframe tbody tr th {\n",
       "        vertical-align: top;\n",
       "    }\n",
       "\n",
       "    .dataframe thead th {\n",
       "        text-align: right;\n",
       "    }\n",
       "</style>\n",
       "<table border=\"1\" class=\"dataframe\">\n",
       "  <thead>\n",
       "    <tr style=\"text-align: right;\">\n",
       "      <th></th>\n",
       "      <th>raw_data</th>\n",
       "      <th>duration</th>\n",
       "    </tr>\n",
       "  </thead>\n",
       "  <tbody>\n",
       "    <tr>\n",
       "      <th>0</th>\n",
       "      <td>[7.5200514e-05, 0.00067946606, 0.0011661825, 0...</td>\n",
       "      <td>0.316281</td>\n",
       "    </tr>\n",
       "    <tr>\n",
       "      <th>1</th>\n",
       "      <td>[-0.00746698, -0.0061093145, -0.0028450494, 0....</td>\n",
       "      <td>0.374785</td>\n",
       "    </tr>\n",
       "    <tr>\n",
       "      <th>2</th>\n",
       "      <td>[-0.010753613, -0.0025474587, 0.006818897, 0.0...</td>\n",
       "      <td>0.569751</td>\n",
       "    </tr>\n",
       "    <tr>\n",
       "      <th>3</th>\n",
       "      <td>[-0.008190532, -0.005059408, 0.005092152, 0.01...</td>\n",
       "      <td>0.381270</td>\n",
       "    </tr>\n",
       "    <tr>\n",
       "      <th>4</th>\n",
       "      <td>[0.00034301207, 0.0002433633, 4.777004e-05, -0...</td>\n",
       "      <td>0.453878</td>\n",
       "    </tr>\n",
       "  </tbody>\n",
       "</table>\n",
       "</div>"
      ],
      "text/plain": [
       "                                            raw_data  duration\n",
       "0  [7.5200514e-05, 0.00067946606, 0.0011661825, 0...  0.316281\n",
       "1  [-0.00746698, -0.0061093145, -0.0028450494, 0....  0.374785\n",
       "2  [-0.010753613, -0.0025474587, 0.006818897, 0.0...  0.569751\n",
       "3  [-0.008190532, -0.005059408, 0.005092152, 0.01...  0.381270\n",
       "4  [0.00034301207, 0.0002433633, 4.777004e-05, -0...  0.453878"
      ]
     },
     "execution_count": 53,
     "metadata": {},
     "output_type": "execute_result"
    }
   ],
   "source": [
    "X_test_processed = []\n",
    "for x in X_test:\n",
    "    X_test_processed.append(load_wav(x, get_duration=True))\n",
    "X_test_processed=pd.DataFrame(X_test_processed,columns=['raw_data','duration'])\n",
    "X_test_processed.head()"
   ]
  },
  {
   "cell_type": "code",
   "execution_count": 54,
   "metadata": {},
   "outputs": [],
   "source": [
    "X_train_pad_seq=[]\n",
    "X_train_mask=[]\n",
    "for x in X_train_augmented1:\n",
    "    if len(x)<17640:\n",
    "        x1=np.concatenate((x , np.zeros(17640-len(x), dtype=bool)))\n",
    "        X_train_pad_seq.append(x1)\n",
    "        mask=np.concatenate((np.ones(len(x), dtype=bool) , np.zeros(17640-len(x), dtype=bool)))\n",
    "        X_train_mask.append(mask)\n",
    "        \n",
    "    else:\n",
    "        X_train_pad_seq.append(x[:17640])\n",
    "        X_train_mask.append(np.ones(17640, dtype=bool))\n",
    "        \n",
    "X_train_pad_seq= np.array(X_train_pad_seq)\n",
    "X_train_mask = np.array(X_train_mask)      "
   ]
  },
  {
   "cell_type": "code",
   "execution_count": 55,
   "metadata": {},
   "outputs": [],
   "source": [
    "X_test_pad_seq=[]\n",
    "X_test_mask=[]\n",
    "for x in X_test_processed['raw_data']:\n",
    "    if len(x)<17640:\n",
    "        x1=np.concatenate((x , np.zeros(17640-len(x),dtype=bool)))\n",
    "        X_test_pad_seq.append(x1)\n",
    "        mask=np.concatenate((np.ones(len(x),dtype=bool) , np.zeros(17640-len(x), dtype=bool)))\n",
    "        X_test_mask.append(mask)\n",
    "        \n",
    "    else:\n",
    "        X_test_pad_seq.append(x[:17640])\n",
    "        X_test_mask.append(np.ones(17640,dtype=bool))\n",
    "        \n",
    "X_test_pad_seq= np.array(X_test_pad_seq)\n",
    "X_test_mask = np.array(X_test_mask)      "
   ]
  },
  {
   "cell_type": "code",
   "execution_count": 57,
   "metadata": {},
   "outputs": [
    {
     "data": {
      "text/plain": [
       "14400"
      ]
     },
     "execution_count": 57,
     "metadata": {},
     "output_type": "execute_result"
    }
   ],
   "source": [
    "len(X_train_pad_seq)"
   ]
  },
  {
   "cell_type": "code",
   "execution_count": 36,
   "metadata": {},
   "outputs": [],
   "source": [
    "from tensorflow.keras.layers import Input, LSTM, Dense\n",
    "from tensorflow.keras.models import Model\n",
    "import tensorflow as tf\n",
    "from tensorflow.keras.optimizers import Adam"
   ]
  },
  {
   "cell_type": "code",
   "execution_count": 27,
   "metadata": {},
   "outputs": [],
   "source": [
    "from sklearn.metrics import f1_score\n",
    "class Metrics(tf.keras.callbacks.Callback ):\n",
    "    def __init__(self,validation_data):\n",
    "\n",
    "        super().__init__()\n",
    "        self.x_test=validation_data[0]\n",
    "        self.y_test=validation_data[1]\n",
    "\n",
    "    def on_epoch_end(self, epoch, logs={}):\n",
    "\n",
    "        val_predict = (np.asarray(self.model.predict([self.x_test[0],self.x_test[1]])))\n",
    "        val_label=np.argmax(val_predict,axis=1)\n",
    "        val_targ = self.y_test\n",
    "        val_f1 = f1_score(val_targ, val_label,average='micro')\n",
    "        print (\"Val_F1score = \",val_f1)"
   ]
  },
  {
   "cell_type": "code",
   "execution_count": 28,
   "metadata": {},
   "outputs": [
    {
     "name": "stdout",
     "output_type": "stream",
     "text": [
      "WARNING:tensorflow:Layer lstm will not use cuDNN kernels since it doesn't meet the criteria. It will use a generic GPU kernel as fallback when running on GPU.\n",
      "Model: \"model\"\n",
      "__________________________________________________________________________________________________\n",
      " Layer (type)                   Output Shape         Param #     Connected to                     \n",
      "==================================================================================================\n",
      " input_1 (InputLayer)           [(None, 17640, 1)]   0           []                               \n",
      "                                                                                                  \n",
      " input_2 (InputLayer)           [(None, 17640)]      0           []                               \n",
      "                                                                                                  \n",
      " lstm (LSTM)                    (None, 32)           4352        ['input_1[0][0]',                \n",
      "                                                                  'input_2[0][0]']                \n",
      "                                                                                                  \n",
      " dense (Dense)                  (None, 64)           2112        ['lstm[0][0]']                   \n",
      "                                                                                                  \n",
      " dense_1 (Dense)                (None, 10)           650         ['dense[0][0]']                  \n",
      "                                                                                                  \n",
      "==================================================================================================\n",
      "Total params: 7,114\n",
      "Trainable params: 7,114\n",
      "Non-trainable params: 0\n",
      "__________________________________________________________________________________________________\n",
      "None\n"
     ]
    }
   ],
   "source": [
    "input_layer= Input(shape=(17640,1))\n",
    "input_layer2 = Input( shape=(17640,))\n",
    "lstm = LSTM(32, activation='relu')(inputs=input_layer, mask=input_layer2)\n",
    "dense= Dense(64, activation='relu')(lstm)\n",
    "output= Dense(10, activation='softmax')(dense)\n",
    "\n",
    "model= Model([input_layer,input_layer2],output)\n",
    "model.compile(loss='sparse_categorical_crossentropy',optimizer='Adam')\n",
    "print(model.summary())"
   ]
  },
  {
   "cell_type": "code",
   "execution_count": 32,
   "metadata": {},
   "outputs": [],
   "source": [
    "import os\n",
    "import datetime\n",
    "from tensorflow.keras.callbacks import TensorBoard, ModelCheckpoint\n",
    "from tensorflow.keras.utils import to_categorical\n",
    "\n",
    "log_dir = os.path.join(\"logs1\",'fits', datetime.datetime.now().strftime(\"%Y%m%d-%H%M%S\"))\n",
    "tensorboard_callback = tf.keras.callbacks.TensorBoard(log_dir=log_dir,histogram_freq=1,write_graph=True)\n",
    "\n",
    "filepath=\"model_save/weights3-{epoch:02d}.hdf5\"\n",
    "checkpoint = ModelCheckpoint(filepath=filepath, monitor='val_f1', verbose=1, mode='auto')  \n",
    "metric = Metrics(validation_data=[[X_test_pad_seq,X_test_mask],y_test_int])\n",
    "\n",
    "callbacks= [tensorboard_callback,checkpoint, metric]"
   ]
  },
  {
   "cell_type": "code",
   "execution_count": 58,
   "metadata": {},
   "outputs": [
    {
     "data": {
      "text/plain": [
       "array([8, 8, 8, ..., 2, 2, 2])"
      ]
     },
     "execution_count": 58,
     "metadata": {},
     "output_type": "execute_result"
    }
   ],
   "source": [
    "y_train_aug=np.array(y_train_augmented1,dtype=int)\n",
    "y_train_aug"
   ]
  },
  {
   "cell_type": "code",
   "execution_count": 59,
   "metadata": {},
   "outputs": [],
   "source": [
    "y_test_int = y_test.apply(lambda x: int(x))\n",
    "y_test_int=y_test_int.values"
   ]
  },
  {
   "cell_type": "code",
   "execution_count": 33,
   "metadata": {},
   "outputs": [
    {
     "data": {
      "text/plain": [
       "17640"
      ]
     },
     "execution_count": 33,
     "metadata": {},
     "output_type": "execute_result"
    }
   ],
   "source": [
    "len(X_train_pad_seq[0])"
   ]
  },
  {
   "cell_type": "code",
   "execution_count": 34,
   "metadata": {},
   "outputs": [
    {
     "name": "stdout",
     "output_type": "stream",
     "text": [
      "1200/1200 [==============================] - ETA: 0s - loss: 2.3030 \n",
      "Epoch 1: saving model to model_save\\weights3-01.hdf5\n",
      "Val_F1score =  0.10000000000000002\n",
      "1200/1200 [==============================] - 23553s 20s/step - loss: 2.3030 - val_loss: 2.3026\n"
     ]
    },
    {
     "data": {
      "text/plain": [
       "<keras.callbacks.History at 0x2698a20cb20>"
      ]
     },
     "execution_count": 34,
     "metadata": {},
     "output_type": "execute_result"
    }
   ],
   "source": [
    "model.fit([X_train_pad_seq,X_train_mask], y_train_aug, epochs=1,verbose=1,batch_size=12, callbacks =callbacks, validation_data=([X_test_pad_seq,X_test_mask],y_test_int))"
   ]
  },
  {
   "cell_type": "code",
   "execution_count": 36,
   "metadata": {},
   "outputs": [
    {
     "name": "stdout",
     "output_type": "stream",
     "text": [
      "Val_F1score =  0.10000000000000002\n"
     ]
    }
   ],
   "source": [
    "val_predict = (np.asarray(model.predict([X_test_pad_seq,X_test_mask])))\n",
    "val_label=np.argmax(val_predict,axis=1)\n",
    "val_targ = y_test_int\n",
    "val_f1 = f1_score(val_targ, val_label,average='micro')\n",
    "print (\"Val_F1score = \",val_f1)"
   ]
  },
  {
   "cell_type": "code",
   "execution_count": 37,
   "metadata": {},
   "outputs": [
    {
     "data": {
      "text/html": [
       "\n",
       "      <iframe id=\"tensorboard-frame-551563f7b50715ad\" width=\"100%\" height=\"800\" frameborder=\"0\">\n",
       "      </iframe>\n",
       "      <script>\n",
       "        (function() {\n",
       "          const frame = document.getElementById(\"tensorboard-frame-551563f7b50715ad\");\n",
       "          const url = new URL(\"/\", window.location);\n",
       "          const port = 6006;\n",
       "          if (port) {\n",
       "            url.port = port;\n",
       "          }\n",
       "          frame.src = url;\n",
       "        })();\n",
       "      </script>\n",
       "    "
      ],
      "text/plain": [
       "<IPython.core.display.HTML object>"
      ]
     },
     "metadata": {},
     "output_type": "display_data"
    }
   ],
   "source": [
    "%load_ext tensorboard\n",
    "%tensorboard --logdir logs1/fits"
   ]
  },
  {
   "cell_type": "markdown",
   "metadata": {
    "id": "H8Yh72uYO_sD"
   },
   "source": [
    "<font color='red'> Note </font> - While fitting your model on the augmented data for model 3 you might face Resource exhaust error. One simple hack to avoid that is save the augmented_train_data,augment_y_train,test_data and y_test to Drive or into your local system. Then restart the runtime so that now you can train your model with full RAM capacity. Upload these files again in the new runtime session perform padding and masking and then fit your model."
   ]
  },
  {
   "cell_type": "code",
   "execution_count": 38,
   "metadata": {
    "id": "wBwzbjOzO_sD"
   },
   "outputs": [
    {
     "data": {
      "image/png": "[encoded data removed]",
      "text/plain": [
       "<IPython.core.display.Image object>"
      ]
     },
     "execution_count": 38,
     "metadata": {},
     "output_type": "execute_result"
    }
   ],
   "source": [
    "filepath='model3.png'\n",
    "tf.keras.utils.plot_model(model,to_file=filepath,show_shapes=True)"
   ]
  },
  {
   "cell_type": "code",
   "execution_count": null,
   "metadata": {
    "id": "41vU8M1gO_sD"
   },
   "outputs": [],
   "source": []
  },
  {
   "cell_type": "markdown",
   "metadata": {
    "id": "vXY9uP7cO_sE"
   },
   "source": [
    "### 4. Data augmentation with spectogram data"
   ]
  },
  {
   "cell_type": "markdown",
   "metadata": {
    "id": "EShBfiERO_sE"
   },
   "source": [
    "1. use convert_to_spectrogram and convert the padded data from train and test data to spectogram data.\n",
    "2. The shape of train data will be 14400 x 64 x 35 and shape of test_data will be 400 x 64 x35\n",
    "3. Define the model similar to model 2 and fit the data"
   ]
  },
  {
   "cell_type": "code",
   "execution_count": 60,
   "metadata": {
    "id": "QpVMCEW3O_sE"
   },
   "outputs": [],
   "source": [
    "X_train_spectrogram = convert_to_spectrogram(X_train_pad_seq)\n",
    "X_test_spectrogram = convert_to_spectrogram(X_test_pad_seq)"
   ]
  },
  {
   "cell_type": "code",
   "execution_count": 62,
   "metadata": {},
   "outputs": [
    {
     "data": {
      "text/plain": [
       "(14400, 64, 35)"
      ]
     },
     "execution_count": 62,
     "metadata": {},
     "output_type": "execute_result"
    }
   ],
   "source": [
    "X_train_spectrogram.shape"
   ]
  },
  {
   "cell_type": "code",
   "execution_count": 71,
   "metadata": {
    "id": "40RMwgJ6O_sE"
   },
   "outputs": [
    {
     "name": "stdout",
     "output_type": "stream",
     "text": [
      "WARNING:tensorflow:Layer lstm_3 will not use cuDNN kernels since it doesn't meet the criteria. It will use a generic GPU kernel as fallback when running on GPU.\n",
      "Model: \"model_2\"\n",
      "_________________________________________________________________\n",
      " Layer (type)                Output Shape              Param #   \n",
      "=================================================================\n",
      " input_4 (InputLayer)        [(None, 64, 35)]          0         \n",
      "                                                                 \n",
      " lstm_3 (LSTM)               (None, 64, 32)            8704      \n",
      "                                                                 \n",
      " tf.math.reduce_mean_2 (TFOp  (None, 64)               0         \n",
      " Lambda)                                                         \n",
      "                                                                 \n",
      " dense_4 (Dense)             (None, 32)                2080      \n",
      "                                                                 \n",
      " dense_5 (Dense)             (None, 10)                330       \n",
      "                                                                 \n",
      "=================================================================\n",
      "Total params: 11,114\n",
      "Trainable params: 11,114\n",
      "Non-trainable params: 0\n",
      "_________________________________________________________________\n",
      "None\n"
     ]
    }
   ],
   "source": [
    "from tensorflow.keras.layers import GlobalAveragePooling1D\n",
    "from tensorflow.python.keras.layers.core import TFOpLambda\n",
    "\n",
    "def mean_layer(x):\n",
    "    return tf.math.reduce_mean(x,axis=2)\n",
    "\n",
    "input_layer= Input(shape=(64,35))\n",
    "lstm = LSTM(32, activation='relu', return_sequences=True)(input_layer)\n",
    "mean= TFOpLambda(mean_layer)(lstm)\n",
    "#AvgPool = GlobalAveragePooling1D()(mean)\n",
    "dense= Dense(32, activation='relu')(mean)\n",
    "output= Dense(10, activation='softmax')(dense)\n",
    "\n",
    "model1= Model(input_layer,output)\n",
    "model1.compile(loss='sparse_categorical_crossentropy',optimizer='Adam',metrics='accuracy')\n",
    "print(model1.summary())"
   ]
  },
  {
   "cell_type": "code",
   "execution_count": 72,
   "metadata": {},
   "outputs": [],
   "source": [
    "from sklearn.metrics import f1_score\n",
    "class Metrics(tf.keras.callbacks.Callback ):\n",
    "    def __init__(self,validation_data):\n",
    "\n",
    "        super().__init__()\n",
    "        self.x_test=validation_data[0]\n",
    "        self.y_test=validation_data[1]\n",
    "\n",
    "    def on_epoch_end(self, epoch, logs={}):\n",
    "\n",
    "        val_predict = (np.asarray(self.model.predict(self.x_test)))\n",
    "        val_label=np.argmax(val_predict,axis=1)\n",
    "        val_targ = self.y_test\n",
    "        val_f1 = f1_score(val_targ, val_label,average='micro')\n",
    "        print (\"Val_F1score = \",val_f1)"
   ]
  },
  {
   "cell_type": "code",
   "execution_count": 73,
   "metadata": {},
   "outputs": [],
   "source": [
    "import os\n",
    "import datetime\n",
    "from tensorflow.keras.callbacks import TensorBoard, ModelCheckpoint\n",
    "from tensorflow.keras.utils import to_categorical\n",
    "\n",
    "log_dir = os.path.join(\"logs1\",'fits', datetime.datetime.now().strftime(\"%Y%m%d-%H%M%S\"))\n",
    "tensorboard_callback = tf.keras.callbacks.TensorBoard(log_dir=log_dir,histogram_freq=1,write_graph=True)\n",
    "\n",
    "filepath=\"model_save4/weights4-{epoch:02d}.hdf5\"\n",
    "checkpoint = ModelCheckpoint(filepath=filepath, monitor='val_f1',  verbose=1, mode='auto')  \n",
    "metric = Metrics(validation_data=[X_test_spectrogram,y_test_int])\n",
    "\n",
    "callbacks= [tensorboard_callback,checkpoint, metric]"
   ]
  },
  {
   "cell_type": "code",
   "execution_count": 66,
   "metadata": {},
   "outputs": [
    {
     "name": "stdout",
     "output_type": "stream",
     "text": [
      "Epoch 1/100\n",
      "1200/1200 [==============================] - ETA: 0s - loss: 2.3413 - accuracy: 0.1475\n",
      "Epoch 1: saving model to model_save4\\weights4-01.hdf5\n",
      "Val_F1score =  0.22\n",
      "1200/1200 [==============================] - 81s 67ms/step - loss: 2.3413 - accuracy: 0.1475 - val_loss: 2.1427 - val_accuracy: 0.2200\n",
      "Epoch 2/100\n",
      "1200/1200 [==============================] - ETA: 0s - loss: 1.9153 - accuracy: 0.2999\n",
      "Epoch 2: saving model to model_save4\\weights4-02.hdf5\n",
      "Val_F1score =  0.37333333333333335\n",
      "1200/1200 [==============================] - 80s 67ms/step - loss: 1.9153 - accuracy: 0.2999 - val_loss: 1.7522 - val_accuracy: 0.3733\n",
      "Epoch 3/100\n",
      "1200/1200 [==============================] - ETA: 0s - loss: 1.5387 - accuracy: 0.4473\n",
      "Epoch 3: saving model to model_save4\\weights4-03.hdf5\n",
      "Val_F1score =  0.51\n",
      "1200/1200 [==============================] - 84s 70ms/step - loss: 1.5387 - accuracy: 0.4473 - val_loss: 1.3634 - val_accuracy: 0.5100\n",
      "Epoch 4/100\n",
      "1200/1200 [==============================] - ETA: 0s - loss: 1.2081 - accuracy: 0.5649\n",
      "Epoch 4: saving model to model_save4\\weights4-04.hdf5\n",
      "Val_F1score =  0.6316666666666667\n",
      "1200/1200 [==============================] - 85s 70ms/step - loss: 1.2081 - accuracy: 0.5649 - val_loss: 1.0626 - val_accuracy: 0.6317\n",
      "Epoch 5/100\n",
      "1200/1200 [==============================] - ETA: 0s - loss: 0.9683 - accuracy: 0.6431\n",
      "Epoch 5: saving model to model_save4\\weights4-05.hdf5\n",
      "Val_F1score =  0.67\n",
      "1200/1200 [==============================] - 84s 70ms/step - loss: 0.9683 - accuracy: 0.6431 - val_loss: 0.8786 - val_accuracy: 0.6700\n",
      "Epoch 6/100\n",
      "1199/1200 [============================>.] - ETA: 0s - loss: 0.8010 - accuracy: 0.7052\n",
      "Epoch 6: saving model to model_save4\\weights4-06.hdf5\n",
      "Val_F1score =  0.7466666666666667\n",
      "1200/1200 [==============================] - 81s 67ms/step - loss: 0.8010 - accuracy: 0.7052 - val_loss: 0.7281 - val_accuracy: 0.7467\n",
      "Epoch 7/100\n",
      "1200/1200 [==============================] - ETA: 0s - loss: 0.6934 - accuracy: 0.7385\n",
      "Epoch 7: saving model to model_save4\\weights4-07.hdf5\n",
      "Val_F1score =  0.7699999999999999\n",
      "1200/1200 [==============================] - 83s 69ms/step - loss: 0.6934 - accuracy: 0.7385 - val_loss: 0.6080 - val_accuracy: 0.7700\n",
      "Epoch 8/100\n",
      "1200/1200 [==============================] - ETA: 0s - loss: 0.6175 - accuracy: 0.7700\n",
      "Epoch 8: saving model to model_save4\\weights4-08.hdf5\n",
      "Val_F1score =  0.8016666666666666\n",
      "1200/1200 [==============================] - 77s 64ms/step - loss: 0.6175 - accuracy: 0.7700 - val_loss: 0.5247 - val_accuracy: 0.8017\n",
      "Epoch 9/100\n",
      "1200/1200 [==============================] - ETA: 0s - loss: 0.5643 - accuracy: 0.7933\n",
      "Epoch 9: saving model to model_save4\\weights4-09.hdf5\n",
      "Val_F1score =  0.8666666666666667\n",
      "1200/1200 [==============================] - 75s 63ms/step - loss: 0.5643 - accuracy: 0.7933 - val_loss: 0.4496 - val_accuracy: 0.8667\n",
      "Epoch 10/100\n",
      "1200/1200 [==============================] - ETA: 0s - loss: 0.5176 - accuracy: 0.8109\n",
      "Epoch 10: saving model to model_save4\\weights4-10.hdf5\n",
      "Val_F1score =  0.8633333333333333\n",
      "1200/1200 [==============================] - 78s 65ms/step - loss: 0.5176 - accuracy: 0.8109 - val_loss: 0.4293 - val_accuracy: 0.8633\n",
      "Epoch 11/100\n",
      " 920/1200 [======================>.......] - ETA: 17s - loss: 0.4910 - accuracy: 0.8185"
     ]
    },
    {
     "ename": "KeyboardInterrupt",
     "evalue": "",
     "output_type": "error",
     "traceback": [
      "\u001b[1;31m---------------------------------------------------------------------------\u001b[0m",
      "\u001b[1;31mKeyboardInterrupt\u001b[0m                         Traceback (most recent call last)",
      "Input \u001b[1;32mIn [66]\u001b[0m, in \u001b[0;36m<cell line: 1>\u001b[1;34m()\u001b[0m\n\u001b[1;32m----> 1\u001b[0m \u001b[43mmodel1\u001b[49m\u001b[38;5;241;43m.\u001b[39;49m\u001b[43mfit\u001b[49m\u001b[43m(\u001b[49m\u001b[43mX_train_spectrogram\u001b[49m\u001b[43m,\u001b[49m\u001b[43m \u001b[49m\u001b[43my_train_aug\u001b[49m\u001b[43m,\u001b[49m\u001b[43m \u001b[49m\u001b[43mepochs\u001b[49m\u001b[38;5;241;43m=\u001b[39;49m\u001b[38;5;241;43m100\u001b[39;49m\u001b[43m,\u001b[49m\u001b[43mverbose\u001b[49m\u001b[38;5;241;43m=\u001b[39;49m\u001b[38;5;241;43m1\u001b[39;49m\u001b[43m,\u001b[49m\u001b[43mbatch_size\u001b[49m\u001b[38;5;241;43m=\u001b[39;49m\u001b[38;5;241;43m12\u001b[39;49m\u001b[43m,\u001b[49m\u001b[43m \u001b[49m\u001b[43mcallbacks\u001b[49m\u001b[43m \u001b[49m\u001b[38;5;241;43m=\u001b[39;49m\u001b[43mcallbacks\u001b[49m\u001b[43m,\u001b[49m\u001b[43m \u001b[49m\u001b[43mvalidation_data\u001b[49m\u001b[38;5;241;43m=\u001b[39;49m\u001b[43m(\u001b[49m\u001b[43mX_test_spectrogram\u001b[49m\u001b[43m,\u001b[49m\u001b[43my_test_int\u001b[49m\u001b[43m)\u001b[49m\u001b[43m)\u001b[49m\n",
      "File \u001b[1;32m~\\anaconda3\\envs\\tf-gpu1\\lib\\site-packages\\keras\\utils\\traceback_utils.py:64\u001b[0m, in \u001b[0;36mfilter_traceback.<locals>.error_handler\u001b[1;34m(*args, **kwargs)\u001b[0m\n\u001b[0;32m     62\u001b[0m filtered_tb \u001b[38;5;241m=\u001b[39m \u001b[38;5;28;01mNone\u001b[39;00m\n\u001b[0;32m     63\u001b[0m \u001b[38;5;28;01mtry\u001b[39;00m:\n\u001b[1;32m---> 64\u001b[0m   \u001b[38;5;28;01mreturn\u001b[39;00m fn(\u001b[38;5;241m*\u001b[39margs, \u001b[38;5;241m*\u001b[39m\u001b[38;5;241m*\u001b[39mkwargs)\n\u001b[0;32m     65\u001b[0m \u001b[38;5;28;01mexcept\u001b[39;00m \u001b[38;5;167;01mException\u001b[39;00m \u001b[38;5;28;01mas\u001b[39;00m e:  \u001b[38;5;66;03m# pylint: disable=broad-except\u001b[39;00m\n\u001b[0;32m     66\u001b[0m   filtered_tb \u001b[38;5;241m=\u001b[39m _process_traceback_frames(e\u001b[38;5;241m.\u001b[39m__traceback__)\n",
      "File \u001b[1;32m~\\anaconda3\\envs\\tf-gpu1\\lib\\site-packages\\keras\\engine\\training.py:1384\u001b[0m, in \u001b[0;36mModel.fit\u001b[1;34m(self, x, y, batch_size, epochs, verbose, callbacks, validation_split, validation_data, shuffle, class_weight, sample_weight, initial_epoch, steps_per_epoch, validation_steps, validation_batch_size, validation_freq, max_queue_size, workers, use_multiprocessing)\u001b[0m\n\u001b[0;32m   1377\u001b[0m \u001b[38;5;28;01mwith\u001b[39;00m tf\u001b[38;5;241m.\u001b[39mprofiler\u001b[38;5;241m.\u001b[39mexperimental\u001b[38;5;241m.\u001b[39mTrace(\n\u001b[0;32m   1378\u001b[0m     \u001b[38;5;124m'\u001b[39m\u001b[38;5;124mtrain\u001b[39m\u001b[38;5;124m'\u001b[39m,\n\u001b[0;32m   1379\u001b[0m     epoch_num\u001b[38;5;241m=\u001b[39mepoch,\n\u001b[0;32m   1380\u001b[0m     step_num\u001b[38;5;241m=\u001b[39mstep,\n\u001b[0;32m   1381\u001b[0m     batch_size\u001b[38;5;241m=\u001b[39mbatch_size,\n\u001b[0;32m   1382\u001b[0m     _r\u001b[38;5;241m=\u001b[39m\u001b[38;5;241m1\u001b[39m):\n\u001b[0;32m   1383\u001b[0m   callbacks\u001b[38;5;241m.\u001b[39mon_train_batch_begin(step)\n\u001b[1;32m-> 1384\u001b[0m   tmp_logs \u001b[38;5;241m=\u001b[39m \u001b[38;5;28;43mself\u001b[39;49m\u001b[38;5;241;43m.\u001b[39;49m\u001b[43mtrain_function\u001b[49m\u001b[43m(\u001b[49m\u001b[43miterator\u001b[49m\u001b[43m)\u001b[49m\n\u001b[0;32m   1385\u001b[0m   \u001b[38;5;28;01mif\u001b[39;00m data_handler\u001b[38;5;241m.\u001b[39mshould_sync:\n\u001b[0;32m   1386\u001b[0m     context\u001b[38;5;241m.\u001b[39masync_wait()\n",
      "File \u001b[1;32m~\\anaconda3\\envs\\tf-gpu1\\lib\\site-packages\\tensorflow\\python\\util\\traceback_utils.py:150\u001b[0m, in \u001b[0;36mfilter_traceback.<locals>.error_handler\u001b[1;34m(*args, **kwargs)\u001b[0m\n\u001b[0;32m    148\u001b[0m filtered_tb \u001b[38;5;241m=\u001b[39m \u001b[38;5;28;01mNone\u001b[39;00m\n\u001b[0;32m    149\u001b[0m \u001b[38;5;28;01mtry\u001b[39;00m:\n\u001b[1;32m--> 150\u001b[0m   \u001b[38;5;28;01mreturn\u001b[39;00m fn(\u001b[38;5;241m*\u001b[39margs, \u001b[38;5;241m*\u001b[39m\u001b[38;5;241m*\u001b[39mkwargs)\n\u001b[0;32m    151\u001b[0m \u001b[38;5;28;01mexcept\u001b[39;00m \u001b[38;5;167;01mException\u001b[39;00m \u001b[38;5;28;01mas\u001b[39;00m e:\n\u001b[0;32m    152\u001b[0m   filtered_tb \u001b[38;5;241m=\u001b[39m _process_traceback_frames(e\u001b[38;5;241m.\u001b[39m__traceback__)\n",
      "File \u001b[1;32m~\\anaconda3\\envs\\tf-gpu1\\lib\\site-packages\\tensorflow\\python\\eager\\def_function.py:915\u001b[0m, in \u001b[0;36mFunction.__call__\u001b[1;34m(self, *args, **kwds)\u001b[0m\n\u001b[0;32m    912\u001b[0m compiler \u001b[38;5;241m=\u001b[39m \u001b[38;5;124m\"\u001b[39m\u001b[38;5;124mxla\u001b[39m\u001b[38;5;124m\"\u001b[39m \u001b[38;5;28;01mif\u001b[39;00m \u001b[38;5;28mself\u001b[39m\u001b[38;5;241m.\u001b[39m_jit_compile \u001b[38;5;28;01melse\u001b[39;00m \u001b[38;5;124m\"\u001b[39m\u001b[38;5;124mnonXla\u001b[39m\u001b[38;5;124m\"\u001b[39m\n\u001b[0;32m    914\u001b[0m \u001b[38;5;28;01mwith\u001b[39;00m OptionalXlaContext(\u001b[38;5;28mself\u001b[39m\u001b[38;5;241m.\u001b[39m_jit_compile):\n\u001b[1;32m--> 915\u001b[0m   result \u001b[38;5;241m=\u001b[39m \u001b[38;5;28mself\u001b[39m\u001b[38;5;241m.\u001b[39m_call(\u001b[38;5;241m*\u001b[39margs, \u001b[38;5;241m*\u001b[39m\u001b[38;5;241m*\u001b[39mkwds)\n\u001b[0;32m    917\u001b[0m new_tracing_count \u001b[38;5;241m=\u001b[39m \u001b[38;5;28mself\u001b[39m\u001b[38;5;241m.\u001b[39mexperimental_get_tracing_count()\n\u001b[0;32m    918\u001b[0m without_tracing \u001b[38;5;241m=\u001b[39m (tracing_count \u001b[38;5;241m==\u001b[39m new_tracing_count)\n",
      "File \u001b[1;32m~\\anaconda3\\envs\\tf-gpu1\\lib\\site-packages\\tensorflow\\python\\eager\\def_function.py:947\u001b[0m, in \u001b[0;36mFunction._call\u001b[1;34m(self, *args, **kwds)\u001b[0m\n\u001b[0;32m    944\u001b[0m   \u001b[38;5;28mself\u001b[39m\u001b[38;5;241m.\u001b[39m_lock\u001b[38;5;241m.\u001b[39mrelease()\n\u001b[0;32m    945\u001b[0m   \u001b[38;5;66;03m# In this case we have created variables on the first call, so we run the\u001b[39;00m\n\u001b[0;32m    946\u001b[0m   \u001b[38;5;66;03m# defunned version which is guaranteed to never create variables.\u001b[39;00m\n\u001b[1;32m--> 947\u001b[0m   \u001b[38;5;28;01mreturn\u001b[39;00m \u001b[38;5;28mself\u001b[39m\u001b[38;5;241m.\u001b[39m_stateless_fn(\u001b[38;5;241m*\u001b[39margs, \u001b[38;5;241m*\u001b[39m\u001b[38;5;241m*\u001b[39mkwds)  \u001b[38;5;66;03m# pylint: disable=not-callable\u001b[39;00m\n\u001b[0;32m    948\u001b[0m \u001b[38;5;28;01melif\u001b[39;00m \u001b[38;5;28mself\u001b[39m\u001b[38;5;241m.\u001b[39m_stateful_fn \u001b[38;5;129;01mis\u001b[39;00m \u001b[38;5;129;01mnot\u001b[39;00m \u001b[38;5;28;01mNone\u001b[39;00m:\n\u001b[0;32m    949\u001b[0m   \u001b[38;5;66;03m# Release the lock early so that multiple threads can perform the call\u001b[39;00m\n\u001b[0;32m    950\u001b[0m   \u001b[38;5;66;03m# in parallel.\u001b[39;00m\n\u001b[0;32m    951\u001b[0m   \u001b[38;5;28mself\u001b[39m\u001b[38;5;241m.\u001b[39m_lock\u001b[38;5;241m.\u001b[39mrelease()\n",
      "File \u001b[1;32m~\\anaconda3\\envs\\tf-gpu1\\lib\\site-packages\\tensorflow\\python\\eager\\function.py:2956\u001b[0m, in \u001b[0;36mFunction.__call__\u001b[1;34m(self, *args, **kwargs)\u001b[0m\n\u001b[0;32m   2953\u001b[0m \u001b[38;5;28;01mwith\u001b[39;00m \u001b[38;5;28mself\u001b[39m\u001b[38;5;241m.\u001b[39m_lock:\n\u001b[0;32m   2954\u001b[0m   (graph_function,\n\u001b[0;32m   2955\u001b[0m    filtered_flat_args) \u001b[38;5;241m=\u001b[39m \u001b[38;5;28mself\u001b[39m\u001b[38;5;241m.\u001b[39m_maybe_define_function(args, kwargs)\n\u001b[1;32m-> 2956\u001b[0m \u001b[38;5;28;01mreturn\u001b[39;00m \u001b[43mgraph_function\u001b[49m\u001b[38;5;241;43m.\u001b[39;49m\u001b[43m_call_flat\u001b[49m\u001b[43m(\u001b[49m\n\u001b[0;32m   2957\u001b[0m \u001b[43m    \u001b[49m\u001b[43mfiltered_flat_args\u001b[49m\u001b[43m,\u001b[49m\u001b[43m \u001b[49m\u001b[43mcaptured_inputs\u001b[49m\u001b[38;5;241;43m=\u001b[39;49m\u001b[43mgraph_function\u001b[49m\u001b[38;5;241;43m.\u001b[39;49m\u001b[43mcaptured_inputs\u001b[49m\u001b[43m)\u001b[49m\n",
      "File \u001b[1;32m~\\anaconda3\\envs\\tf-gpu1\\lib\\site-packages\\tensorflow\\python\\eager\\function.py:1853\u001b[0m, in \u001b[0;36mConcreteFunction._call_flat\u001b[1;34m(self, args, captured_inputs, cancellation_manager)\u001b[0m\n\u001b[0;32m   1849\u001b[0m possible_gradient_type \u001b[38;5;241m=\u001b[39m gradients_util\u001b[38;5;241m.\u001b[39mPossibleTapeGradientTypes(args)\n\u001b[0;32m   1850\u001b[0m \u001b[38;5;28;01mif\u001b[39;00m (possible_gradient_type \u001b[38;5;241m==\u001b[39m gradients_util\u001b[38;5;241m.\u001b[39mPOSSIBLE_GRADIENT_TYPES_NONE\n\u001b[0;32m   1851\u001b[0m     \u001b[38;5;129;01mand\u001b[39;00m executing_eagerly):\n\u001b[0;32m   1852\u001b[0m   \u001b[38;5;66;03m# No tape is watching; skip to running the function.\u001b[39;00m\n\u001b[1;32m-> 1853\u001b[0m   \u001b[38;5;28;01mreturn\u001b[39;00m \u001b[38;5;28mself\u001b[39m\u001b[38;5;241m.\u001b[39m_build_call_outputs(\u001b[38;5;28;43mself\u001b[39;49m\u001b[38;5;241;43m.\u001b[39;49m\u001b[43m_inference_function\u001b[49m\u001b[38;5;241;43m.\u001b[39;49m\u001b[43mcall\u001b[49m\u001b[43m(\u001b[49m\n\u001b[0;32m   1854\u001b[0m \u001b[43m      \u001b[49m\u001b[43mctx\u001b[49m\u001b[43m,\u001b[49m\u001b[43m \u001b[49m\u001b[43margs\u001b[49m\u001b[43m,\u001b[49m\u001b[43m \u001b[49m\u001b[43mcancellation_manager\u001b[49m\u001b[38;5;241;43m=\u001b[39;49m\u001b[43mcancellation_manager\u001b[49m\u001b[43m)\u001b[49m)\n\u001b[0;32m   1855\u001b[0m forward_backward \u001b[38;5;241m=\u001b[39m \u001b[38;5;28mself\u001b[39m\u001b[38;5;241m.\u001b[39m_select_forward_and_backward_functions(\n\u001b[0;32m   1856\u001b[0m     args,\n\u001b[0;32m   1857\u001b[0m     possible_gradient_type,\n\u001b[0;32m   1858\u001b[0m     executing_eagerly)\n\u001b[0;32m   1859\u001b[0m forward_function, args_with_tangents \u001b[38;5;241m=\u001b[39m forward_backward\u001b[38;5;241m.\u001b[39mforward()\n",
      "File \u001b[1;32m~\\anaconda3\\envs\\tf-gpu1\\lib\\site-packages\\tensorflow\\python\\eager\\function.py:499\u001b[0m, in \u001b[0;36m_EagerDefinedFunction.call\u001b[1;34m(self, ctx, args, cancellation_manager)\u001b[0m\n\u001b[0;32m    497\u001b[0m \u001b[38;5;28;01mwith\u001b[39;00m _InterpolateFunctionError(\u001b[38;5;28mself\u001b[39m):\n\u001b[0;32m    498\u001b[0m   \u001b[38;5;28;01mif\u001b[39;00m cancellation_manager \u001b[38;5;129;01mis\u001b[39;00m \u001b[38;5;28;01mNone\u001b[39;00m:\n\u001b[1;32m--> 499\u001b[0m     outputs \u001b[38;5;241m=\u001b[39m \u001b[43mexecute\u001b[49m\u001b[38;5;241;43m.\u001b[39;49m\u001b[43mexecute\u001b[49m\u001b[43m(\u001b[49m\n\u001b[0;32m    500\u001b[0m \u001b[43m        \u001b[49m\u001b[38;5;28;43mstr\u001b[39;49m\u001b[43m(\u001b[49m\u001b[38;5;28;43mself\u001b[39;49m\u001b[38;5;241;43m.\u001b[39;49m\u001b[43msignature\u001b[49m\u001b[38;5;241;43m.\u001b[39;49m\u001b[43mname\u001b[49m\u001b[43m)\u001b[49m\u001b[43m,\u001b[49m\n\u001b[0;32m    501\u001b[0m \u001b[43m        \u001b[49m\u001b[43mnum_outputs\u001b[49m\u001b[38;5;241;43m=\u001b[39;49m\u001b[38;5;28;43mself\u001b[39;49m\u001b[38;5;241;43m.\u001b[39;49m\u001b[43m_num_outputs\u001b[49m\u001b[43m,\u001b[49m\n\u001b[0;32m    502\u001b[0m \u001b[43m        \u001b[49m\u001b[43minputs\u001b[49m\u001b[38;5;241;43m=\u001b[39;49m\u001b[43margs\u001b[49m\u001b[43m,\u001b[49m\n\u001b[0;32m    503\u001b[0m \u001b[43m        \u001b[49m\u001b[43mattrs\u001b[49m\u001b[38;5;241;43m=\u001b[39;49m\u001b[43mattrs\u001b[49m\u001b[43m,\u001b[49m\n\u001b[0;32m    504\u001b[0m \u001b[43m        \u001b[49m\u001b[43mctx\u001b[49m\u001b[38;5;241;43m=\u001b[39;49m\u001b[43mctx\u001b[49m\u001b[43m)\u001b[49m\n\u001b[0;32m    505\u001b[0m   \u001b[38;5;28;01melse\u001b[39;00m:\n\u001b[0;32m    506\u001b[0m     outputs \u001b[38;5;241m=\u001b[39m execute\u001b[38;5;241m.\u001b[39mexecute_with_cancellation(\n\u001b[0;32m    507\u001b[0m         \u001b[38;5;28mstr\u001b[39m(\u001b[38;5;28mself\u001b[39m\u001b[38;5;241m.\u001b[39msignature\u001b[38;5;241m.\u001b[39mname),\n\u001b[0;32m    508\u001b[0m         num_outputs\u001b[38;5;241m=\u001b[39m\u001b[38;5;28mself\u001b[39m\u001b[38;5;241m.\u001b[39m_num_outputs,\n\u001b[1;32m   (...)\u001b[0m\n\u001b[0;32m    511\u001b[0m         ctx\u001b[38;5;241m=\u001b[39mctx,\n\u001b[0;32m    512\u001b[0m         cancellation_manager\u001b[38;5;241m=\u001b[39mcancellation_manager)\n",
      "File \u001b[1;32m~\\anaconda3\\envs\\tf-gpu1\\lib\\site-packages\\tensorflow\\python\\eager\\execute.py:54\u001b[0m, in \u001b[0;36mquick_execute\u001b[1;34m(op_name, num_outputs, inputs, attrs, ctx, name)\u001b[0m\n\u001b[0;32m     52\u001b[0m \u001b[38;5;28;01mtry\u001b[39;00m:\n\u001b[0;32m     53\u001b[0m   ctx\u001b[38;5;241m.\u001b[39mensure_initialized()\n\u001b[1;32m---> 54\u001b[0m   tensors \u001b[38;5;241m=\u001b[39m \u001b[43mpywrap_tfe\u001b[49m\u001b[38;5;241;43m.\u001b[39;49m\u001b[43mTFE_Py_Execute\u001b[49m\u001b[43m(\u001b[49m\u001b[43mctx\u001b[49m\u001b[38;5;241;43m.\u001b[39;49m\u001b[43m_handle\u001b[49m\u001b[43m,\u001b[49m\u001b[43m \u001b[49m\u001b[43mdevice_name\u001b[49m\u001b[43m,\u001b[49m\u001b[43m \u001b[49m\u001b[43mop_name\u001b[49m\u001b[43m,\u001b[49m\n\u001b[0;32m     55\u001b[0m \u001b[43m                                      \u001b[49m\u001b[43minputs\u001b[49m\u001b[43m,\u001b[49m\u001b[43m \u001b[49m\u001b[43mattrs\u001b[49m\u001b[43m,\u001b[49m\u001b[43m \u001b[49m\u001b[43mnum_outputs\u001b[49m\u001b[43m)\u001b[49m\n\u001b[0;32m     56\u001b[0m \u001b[38;5;28;01mexcept\u001b[39;00m core\u001b[38;5;241m.\u001b[39m_NotOkStatusException \u001b[38;5;28;01mas\u001b[39;00m e:\n\u001b[0;32m     57\u001b[0m   \u001b[38;5;28;01mif\u001b[39;00m name \u001b[38;5;129;01mis\u001b[39;00m \u001b[38;5;129;01mnot\u001b[39;00m \u001b[38;5;28;01mNone\u001b[39;00m:\n",
      "\u001b[1;31mKeyboardInterrupt\u001b[0m: "
     ]
    }
   ],
   "source": [
    "model1.fit(X_train_spectrogram, y_train_aug, epochs=100,verbose=1,batch_size=12, callbacks =callbacks, validation_data=(X_test_spectrogram,y_test_int))"
   ]
  },
  {
   "cell_type": "code",
   "execution_count": 76,
   "metadata": {},
   "outputs": [],
   "source": [
    "model1.load_weights('weights4-10.hdf5')"
   ]
  },
  {
   "cell_type": "code",
   "execution_count": 78,
   "metadata": {},
   "outputs": [
    {
     "name": "stdout",
     "output_type": "stream",
     "text": [
      "Val_F1score =  0.8633333333333333\n"
     ]
    }
   ],
   "source": [
    "val_predict = (np.asarray(model1.predict(X_test_spectrogram)))\n",
    "val_label=np.argmax(val_predict,axis=1)\n",
    "val_targ = y_test_int\n",
    "val_f1 = f1_score(val_targ, val_label,average='micro')\n",
    "print (\"Val_F1score = \",val_f1)"
   ]
  },
  {
   "cell_type": "code",
   "execution_count": 79,
   "metadata": {},
   "outputs": [
    {
     "data": {
      "text/plain": [
       "Reusing TensorBoard on port 6006 (pid 19088), started 10:20:12 ago. (Use '!kill 19088' to kill it.)"
      ]
     },
     "metadata": {},
     "output_type": "display_data"
    },
    {
     "data": {
      "text/html": [
       "\n",
       "      <iframe id=\"tensorboard-frame-73ffb039baeb2b34\" width=\"100%\" height=\"800\" frameborder=\"0\">\n",
       "      </iframe>\n",
       "      <script>\n",
       "        (function() {\n",
       "          const frame = document.getElementById(\"tensorboard-frame-73ffb039baeb2b34\");\n",
       "          const url = new URL(\"/\", window.location);\n",
       "          const port = 6006;\n",
       "          if (port) {\n",
       "            url.port = port;\n",
       "          }\n",
       "          frame.src = url;\n",
       "        })();\n",
       "      </script>\n",
       "    "
      ],
      "text/plain": [
       "<IPython.core.display.HTML object>"
      ]
     },
     "metadata": {},
     "output_type": "display_data"
    }
   ],
   "source": [
    "%load_ext tensorboard\n",
    "%tensorboard --logdir logs1/fits"
   ]
  },
  {
   "cell_type": "code",
   "execution_count": 80,
   "metadata": {},
   "outputs": [
    {
     "data": {
      "image/png": "[encoded data removed]",
      "text/plain": [
       "<IPython.core.display.Image object>"
      ]
     },
     "execution_count": 80,
     "metadata": {},
     "output_type": "execute_result"
    }
   ],
   "source": [
    "filepath='model4.png'\n",
    "tf.keras.utils.plot_model(model1,to_file=filepath,show_shapes=True)"
   ]
  }
 ],
 "metadata": {
  "colab": {
   "collapsed_sections": [],
   "name": "Speech detection Assignment.ipynb",
   "provenance": []
  },
  "kernelspec": {
   "display_name": "Python 3 (ipykernel)",
   "language": "python",
   "name": "python3"
  },
  "language_info": {
   "codemirror_mode": {
    "name": "ipython",
    "version": 3
   },
   "file_extension": ".py",
   "mimetype": "text/x-python",
   "name": "python",
   "nbconvert_exporter": "python",
   "pygments_lexer": "ipython3",
   "version": "3.10.0"
  }
 },
 "nbformat": 4,
 "nbformat_minor": 1
}
